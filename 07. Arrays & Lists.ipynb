{
 "cells": [
  {
   "attachments": {
    "c9494563-7284-4c71-9fe4-40d31b4558ff.gif": {
     "image/gif": "[encoded data removed]"
    },
    "ecd1af6f-8660-4379-b68f-bad3ed6d67c8.gif": {
     "image/gif": "[encoded data removed]"
    }
   },
   "cell_type": "markdown",
   "id": "d5c701a6-8e50-4b4d-a60f-c968944cdbfb",
   "metadata": {},
   "source": [
    "[![icons8-linkedin.gif](attachment:c9494563-7284-4c71-9fe4-40d31b4558ff.gif 'Author : Suryakant Kumar')](https://www.linkedin.com/in/suryakantkumar/)[![icons8-github.gif](attachment:ecd1af6f-8660-4379-b68f-bad3ed6d67c8.gif 'Author : Suryakant Kumar')](https://github.com/SuryakantKumar)"
   ]
  },
  {
   "cell_type": "markdown",
   "id": "c919f603-575c-4714-8f93-1bd692480b0b",
   "metadata": {},
   "source": [
    "# <span style=\"color:skyblue\">**Arrays & Lists**</span>"
   ]
  },
  {
   "cell_type": "markdown",
   "id": "e5fdbcae-7de8-4f3c-9e80-05727d01966a",
   "metadata": {},
   "source": [
    "### <span style=\"color:orange\">Introduction To Lists</span> \n",
    "\n",
    "If we need to store multiple variables (not fixed but, number of integers are given at runtime) then, we might not be able to store all the integers into variables each time. That's why concept of `list` came.\n",
    "\n",
    "`Arrays` in `c++` / `Java` are restricted to store data of similar types only\n",
    "\n",
    "`Lists` in Python are `ordered`, `mutable` collections that can store a variety of data types including `integers`, `floats`, `strings`, `booleans` and even other `lists`."
   ]
  },
  {
   "cell_type": "markdown",
   "id": "ef19b0ad-53ba-42ba-a1f6-ccd22b1357cb",
   "metadata": {},
   "source": [
    "### <span style=\"color:orange\">Creating a List</span>\n",
    "\n",
    "We can create a list by enclosing elements within square brackets `[]`, separated by `commas`."
   ]
  },
  {
   "cell_type": "code",
   "execution_count": 1,
   "id": "77e36ab0-3941-4650-8861-ad94e6e620a4",
   "metadata": {},
   "outputs": [],
   "source": [
    "empty_list = []"
   ]
  },
  {
   "cell_type": "code",
   "execution_count": 2,
   "id": "e9530e7e-3a57-46bc-aada-1962e8a443de",
   "metadata": {},
   "outputs": [],
   "source": [
    "my_list = [1, 2, 3, 4, 5]"
   ]
  },
  {
   "cell_type": "code",
   "execution_count": 3,
   "id": "d67f6ad4-1c97-4677-9a60-362ef29ec123",
   "metadata": {},
   "outputs": [],
   "source": [
    "mixed_list = ['apple', 3.14, True, 'banana']"
   ]
  },
  {
   "cell_type": "code",
   "execution_count": 4,
   "id": "e4fbdee4-bc93-430f-81b0-92c8bdfa3a0b",
   "metadata": {},
   "outputs": [],
   "source": [
    "nested_list = [[1, 2], [3, 4]]"
   ]
  },
  {
   "cell_type": "markdown",
   "id": "5c99e9be-4bf4-4c8b-bbd6-53356645ba68",
   "metadata": {},
   "source": [
    "* We can also create a list by using `list()` method in python by providing any type of collection like `string`, `tuple`, `set` or another `list`.\n",
    "\n",
    "* We can check the type of data by using `type()` method."
   ]
  },
  {
   "cell_type": "code",
   "execution_count": 5,
   "id": "b5b7ab5d-a96e-4554-8abe-4c9f2c738ae5",
   "metadata": {},
   "outputs": [
    {
     "name": "stdout",
     "output_type": "stream",
     "text": [
      "<class 'list'>\n",
      "['s', 'u', 'r', 'y', 'a', 'k', 'a', 'n', 't']\n"
     ]
    }
   ],
   "source": [
    "my_list_2 = list('suryakant')\n",
    "\n",
    "print(type(my_list_2))\n",
    "print(my_list_2)"
   ]
  },
  {
   "cell_type": "code",
   "execution_count": 6,
   "id": "864bfeb0-ed7e-454e-875e-f3665b9dcaa9",
   "metadata": {},
   "outputs": [
    {
     "name": "stdout",
     "output_type": "stream",
     "text": [
      "<class 'list'>\n",
      "[6, 7, 8, 'apple', 9, 10, True]\n"
     ]
    }
   ],
   "source": [
    "my_list_3 = list((6, 7, 8, 'apple', 9, 10, True))\n",
    "\n",
    "print(type(my_list_3))\n",
    "print(my_list_3)"
   ]
  },
  {
   "cell_type": "code",
   "execution_count": 7,
   "id": "63e201b9-76cd-40ce-bba4-4f80820261e6",
   "metadata": {},
   "outputs": [
    {
     "name": "stdout",
     "output_type": "stream",
     "text": [
      "<class 'list'>\n",
      "[1, 2, 4, 5, 'banana']\n"
     ]
    }
   ],
   "source": [
    "my_list_4 = list({1, 2, 4, 5, 'banana'})\n",
    "\n",
    "print(type(my_list_4))\n",
    "print(my_list_4)"
   ]
  },
  {
   "cell_type": "code",
   "execution_count": 8,
   "id": "e75ea86e-d7ac-4bd6-af4a-6b20e853528f",
   "metadata": {},
   "outputs": [
    {
     "name": "stdout",
     "output_type": "stream",
     "text": [
      "<class 'list'>\n",
      "[1, 2, 4, 5, 'apple']\n"
     ]
    }
   ],
   "source": [
    "my_list_5 = list([1, 2, 4, 5, 'apple'])\n",
    "\n",
    "print(type(my_list_5))\n",
    "print(my_list_5)"
   ]
  },
  {
   "cell_type": "markdown",
   "id": "071a69b7-2950-459a-bc11-2a6cdfc9fe22",
   "metadata": {},
   "source": [
    "* `list()` method will create a list of `keys` when we pass a `dictionary` as a parameter."
   ]
  },
  {
   "cell_type": "code",
   "execution_count": 9,
   "id": "21571392-afbf-46c7-9bf5-864e17992781",
   "metadata": {},
   "outputs": [
    {
     "name": "stdout",
     "output_type": "stream",
     "text": [
      "<class 'list'>\n",
      "[1, 2]\n"
     ]
    }
   ],
   "source": [
    "my_list_6 = list({1: 3, 2: 4})\n",
    "\n",
    "print(type(my_list_6))\n",
    "print(my_list_6)"
   ]
  },
  {
   "cell_type": "markdown",
   "id": "d48aad6c-b669-4961-b180-fbd35e164eea",
   "metadata": {},
   "source": [
    "### <span style=\"color:orange\">Accessing Elements of List</span>\n",
    "\n",
    "Elements in a list are accessed by their `index`, starting from `0` till `n-1` where n is size of list."
   ]
  },
  {
   "cell_type": "code",
   "execution_count": 10,
   "id": "c6fe3b30-47f2-47eb-b6a7-972c344db056",
   "metadata": {},
   "outputs": [],
   "source": [
    "li = [2, 'suryakant', [False, 9]]"
   ]
  },
  {
   "cell_type": "code",
   "execution_count": 11,
   "id": "e946f53e-b1af-4a08-be42-3cfa3b9d701e",
   "metadata": {},
   "outputs": [
    {
     "name": "stdout",
     "output_type": "stream",
     "text": [
      "2\n"
     ]
    }
   ],
   "source": [
    "print(li[0])"
   ]
  },
  {
   "cell_type": "code",
   "execution_count": 12,
   "id": "f9c32331-2cc0-496f-abfd-83c31ab6e5c4",
   "metadata": {},
   "outputs": [
    {
     "name": "stdout",
     "output_type": "stream",
     "text": [
      "suryakant\n"
     ]
    }
   ],
   "source": [
    "print(li[1])"
   ]
  },
  {
   "cell_type": "code",
   "execution_count": 13,
   "id": "580d4347-08ec-44f4-bf01-6f8533231d3f",
   "metadata": {},
   "outputs": [
    {
     "name": "stdout",
     "output_type": "stream",
     "text": [
      "[False, 9]\n"
     ]
    }
   ],
   "source": [
    "print(li[2])"
   ]
  },
  {
   "cell_type": "code",
   "execution_count": 14,
   "id": "440055c6-1258-4167-800f-3cc888519c57",
   "metadata": {},
   "outputs": [
    {
     "ename": "IndexError",
     "evalue": "list index out of range",
     "output_type": "error",
     "traceback": [
      "\u001b[0;31m---------------------------------------------------------------------------\u001b[0m",
      "\u001b[0;31mIndexError\u001b[0m                                Traceback (most recent call last)",
      "Input \u001b[0;32mIn [14]\u001b[0m, in \u001b[0;36m<cell line: 1>\u001b[0;34m()\u001b[0m\n\u001b[0;32m----> 1\u001b[0m \u001b[38;5;28mprint\u001b[39m(\u001b[43mli\u001b[49m\u001b[43m[\u001b[49m\u001b[38;5;241;43m3\u001b[39;49m\u001b[43m]\u001b[49m)\n",
      "\u001b[0;31mIndexError\u001b[0m: list index out of range"
     ]
    }
   ],
   "source": [
    "print(li[3])"
   ]
  },
  {
   "cell_type": "markdown",
   "id": "b04aa79c-2fe9-4e64-bc78-3a2b05ca033c",
   "metadata": {},
   "source": [
    "* Lists are `mutable`, allowing us to change elements by `index`.\n",
    "\n",
    "* We can change the elements of a list by assigning a new value to the index of that list."
   ]
  },
  {
   "cell_type": "code",
   "execution_count": 15,
   "id": "6024c731-b3a3-440b-9e9d-1f45f2f2c764",
   "metadata": {},
   "outputs": [
    {
     "name": "stdout",
     "output_type": "stream",
     "text": [
      "[5, 'suryakant', [False, 9]]\n"
     ]
    }
   ],
   "source": [
    "li[0] = 5\n",
    "\n",
    "print(li)"
   ]
  },
  {
   "cell_type": "code",
   "execution_count": 16,
   "id": "5839c282-9e5f-48ca-8dbd-490f02edb774",
   "metadata": {},
   "outputs": [
    {
     "name": "stdout",
     "output_type": "stream",
     "text": [
      "[5, 'suryakant', [True, 9]]\n"
     ]
    }
   ],
   "source": [
    "li[2][0] = True\n",
    "\n",
    "print(li)"
   ]
  },
  {
   "cell_type": "markdown",
   "id": "881c4e67-b6c6-44fe-8d2d-4df71f4d1459",
   "metadata": {},
   "source": [
    "### <span style=\"color:orange\">Adding Elements to List</span>\n",
    "\n",
    "We can add / append elements at the `end` of a list using `append()` or concatenate lists using `+`\n",
    "\n",
    "`append()` method only takes the `element` as the parameter."
   ]
  },
  {
   "cell_type": "code",
   "execution_count": 17,
   "id": "81134872-5d19-4a10-a72b-5f43d8a243c3",
   "metadata": {},
   "outputs": [
    {
     "name": "stdout",
     "output_type": "stream",
     "text": [
      "[5, 'suryakant', [True, 9]]\n"
     ]
    }
   ],
   "source": [
    "print(li)"
   ]
  },
  {
   "cell_type": "code",
   "execution_count": 18,
   "id": "51532247-9662-4411-a03e-7652f77a6249",
   "metadata": {},
   "outputs": [
    {
     "name": "stdout",
     "output_type": "stream",
     "text": [
      "[5, 'suryakant', [True, 9], 'shashikant']\n"
     ]
    }
   ],
   "source": [
    "li.append('shashikant')\n",
    "\n",
    "print(li)"
   ]
  },
  {
   "cell_type": "code",
   "execution_count": 19,
   "id": "c04b34b7-5660-427f-87a0-0f7ad6f52a0a",
   "metadata": {},
   "outputs": [
    {
     "name": "stdout",
     "output_type": "stream",
     "text": [
      "[5, 'suryakant', [True, 9], 'shashikant', False]\n"
     ]
    }
   ],
   "source": [
    "li = li + [False]\n",
    "\n",
    "print(li)"
   ]
  },
  {
   "cell_type": "markdown",
   "id": "ce2329e0-89de-4c0b-93bd-3595336ee342",
   "metadata": {},
   "source": [
    "* We can append element at `specific` index using `insert()` method.\n",
    "\n",
    "* `insert()` method will take two input parameters `index_no, element`"
   ]
  },
  {
   "cell_type": "code",
   "execution_count": 20,
   "id": "4bd198af-97d2-485b-be2d-c9d279535c15",
   "metadata": {},
   "outputs": [
    {
     "name": "stdout",
     "output_type": "stream",
     "text": [
      "['python', 5, 'suryakant', [True, 9], 'shashikant', False]\n"
     ]
    }
   ],
   "source": [
    "li.insert(0, 'python')\n",
    "\n",
    "print(li)"
   ]
  },
  {
   "cell_type": "markdown",
   "id": "a3099652-8fe4-4669-a126-43a7e0d2bc8d",
   "metadata": {},
   "source": [
    "* if the index on which we try to insert the element is not available then, It will be added at the end."
   ]
  },
  {
   "cell_type": "code",
   "execution_count": 21,
   "id": "09b207fe-7f00-49e4-892a-ac9aed9c6220",
   "metadata": {},
   "outputs": [
    {
     "name": "stdout",
     "output_type": "stream",
     "text": [
      "['python', 5, 'suryakant', [True, 9], 'shashikant', False, 'ias']\n"
     ]
    }
   ],
   "source": [
    "li.insert(10, 'ias')\n",
    "\n",
    "print(li)"
   ]
  },
  {
   "cell_type": "markdown",
   "id": "6697371b-f75f-495d-9806-85ed2f64aca7",
   "metadata": {},
   "source": [
    "* We can add multiple elements to the list using `extend()` method at once. "
   ]
  },
  {
   "cell_type": "code",
   "execution_count": 22,
   "id": "cba20d70-ae55-48f9-ac28-37877041d3d4",
   "metadata": {},
   "outputs": [
    {
     "name": "stdout",
     "output_type": "stream",
     "text": [
      "['python', 5, 'suryakant', [True, 9], 'shashikant', False, 'ias', 1, 2, 3]\n"
     ]
    }
   ],
   "source": [
    "li.extend([1, 2, 3])\n",
    "\n",
    "print(li)"
   ]
  },
  {
   "cell_type": "markdown",
   "id": "80432025-f5b5-405f-85db-dbeda175df51",
   "metadata": {},
   "source": [
    "### <span style=\"color:orange\">Removing Elements from List</span>\n",
    "\n",
    "`remove()` method is used to removes the first occurrence of a `specified value` from the list."
   ]
  },
  {
   "cell_type": "code",
   "execution_count": 23,
   "id": "23c643ca-0b44-4262-a204-06799a65522f",
   "metadata": {},
   "outputs": [
    {
     "name": "stdout",
     "output_type": "stream",
     "text": [
      "['python', 5, 'suryakant', [True, 9], 'shashikant', False, 'ias', 1, 2, 3]\n"
     ]
    }
   ],
   "source": [
    "print(li)"
   ]
  },
  {
   "cell_type": "code",
   "execution_count": 24,
   "id": "79efb9b7-14b2-4444-9b7f-1847ce51f1a4",
   "metadata": {},
   "outputs": [
    {
     "name": "stdout",
     "output_type": "stream",
     "text": [
      "['python', 5, 'suryakant', [True, 9], 'shashikant', 'ias', 1, 2, 3]\n"
     ]
    }
   ],
   "source": [
    "li.remove(False)\n",
    "\n",
    "print(li)"
   ]
  },
  {
   "cell_type": "code",
   "execution_count": 25,
   "id": "8705c8cf-5f3f-463d-915b-7fbc6cac4c18",
   "metadata": {},
   "outputs": [
    {
     "ename": "ValueError",
     "evalue": "list.remove(x): x not in list",
     "output_type": "error",
     "traceback": [
      "\u001b[0;31m---------------------------------------------------------------------------\u001b[0m",
      "\u001b[0;31mValueError\u001b[0m                                Traceback (most recent call last)",
      "Input \u001b[0;32mIn [25]\u001b[0m, in \u001b[0;36m<cell line: 1>\u001b[0;34m()\u001b[0m\n\u001b[0;32m----> 1\u001b[0m \u001b[43mli\u001b[49m\u001b[38;5;241;43m.\u001b[39;49m\u001b[43mremove\u001b[49m\u001b[43m(\u001b[49m\u001b[38;5;241;43m6\u001b[39;49m\u001b[43m)\u001b[49m\n\u001b[1;32m      3\u001b[0m \u001b[38;5;28mprint\u001b[39m(li)\n",
      "\u001b[0;31mValueError\u001b[0m: list.remove(x): x not in list"
     ]
    }
   ],
   "source": [
    "li.remove(6)\n",
    "\n",
    "print(li)"
   ]
  },
  {
   "cell_type": "markdown",
   "id": "cdcf2a7e-e683-4f17-9190-3c320f09903b",
   "metadata": {},
   "source": [
    "* If we want to delete an element from particular index then, we can use `pop()` method."
   ]
  },
  {
   "cell_type": "code",
   "execution_count": 26,
   "id": "40fc1c5b-069b-4bd4-8aa7-e2f63fae871a",
   "metadata": {},
   "outputs": [
    {
     "name": "stdout",
     "output_type": "stream",
     "text": [
      "['python', 'suryakant', [True, 9], 'shashikant', 'ias', 1, 2, 3]\n"
     ]
    }
   ],
   "source": [
    "li.pop(1)\n",
    "\n",
    "print(li)"
   ]
  },
  {
   "cell_type": "markdown",
   "id": "a95cf088-1fa9-450f-af45-c472df3cbc14",
   "metadata": {},
   "source": [
    "* If we will not give any index to pop() method then, It will automatically remove element from the end of the list."
   ]
  },
  {
   "cell_type": "code",
   "execution_count": 27,
   "id": "31415a57-43d8-4db1-8e9b-cc655fe62768",
   "metadata": {},
   "outputs": [
    {
     "name": "stdout",
     "output_type": "stream",
     "text": [
      "['python', 'suryakant', [True, 9], 'shashikant', 'ias', 1, 2]\n"
     ]
    }
   ],
   "source": [
    "li.pop()\n",
    "\n",
    "print(li)"
   ]
  },
  {
   "cell_type": "code",
   "execution_count": 28,
   "id": "0e41b1ff-4447-4bd5-be4d-df57bd8e2790",
   "metadata": {},
   "outputs": [
    {
     "ename": "IndexError",
     "evalue": "pop index out of range",
     "output_type": "error",
     "traceback": [
      "\u001b[0;31m---------------------------------------------------------------------------\u001b[0m",
      "\u001b[0;31mIndexError\u001b[0m                                Traceback (most recent call last)",
      "Input \u001b[0;32mIn [28]\u001b[0m, in \u001b[0;36m<cell line: 1>\u001b[0;34m()\u001b[0m\n\u001b[0;32m----> 1\u001b[0m \u001b[43mli\u001b[49m\u001b[38;5;241;43m.\u001b[39;49m\u001b[43mpop\u001b[49m\u001b[43m(\u001b[49m\u001b[38;5;241;43m20\u001b[39;49m\u001b[43m)\u001b[49m\n\u001b[1;32m      3\u001b[0m \u001b[38;5;28mprint\u001b[39m(li)\n",
      "\u001b[0;31mIndexError\u001b[0m: pop index out of range"
     ]
    }
   ],
   "source": [
    "li.pop(20)\n",
    "\n",
    "print(li)"
   ]
  },
  {
   "cell_type": "markdown",
   "id": "452df2bf-d7cb-4b33-81c5-98c37562afcd",
   "metadata": {},
   "source": [
    "### <span style=\"color:orange\">More List methods</span>"
   ]
  },
  {
   "cell_type": "markdown",
   "id": "f9595921-3ebf-4e2e-9523-248b5549f5fa",
   "metadata": {},
   "source": [
    "* `len()` method is used to check the length / size of a given list."
   ]
  },
  {
   "cell_type": "code",
   "execution_count": 29,
   "id": "02d6cd80-f8ca-4f32-b9f1-c34dd35b5701",
   "metadata": {},
   "outputs": [
    {
     "name": "stdout",
     "output_type": "stream",
     "text": [
      "['python', 'suryakant', [True, 9], 'shashikant', 'ias', 1, 2]\n"
     ]
    }
   ],
   "source": [
    "print(li)"
   ]
  },
  {
   "cell_type": "code",
   "execution_count": 30,
   "id": "0d8cddef-6b72-424d-a18d-c2fd6f8e20ac",
   "metadata": {},
   "outputs": [
    {
     "name": "stdout",
     "output_type": "stream",
     "text": [
      "7\n"
     ]
    }
   ],
   "source": [
    "print(len(li))"
   ]
  },
  {
   "cell_type": "markdown",
   "id": "2f730e0f-028d-4a7d-9751-37f8172182d8",
   "metadata": {},
   "source": [
    "* `index()` method returns the index of the first occurrence of a specified value."
   ]
  },
  {
   "cell_type": "code",
   "execution_count": 31,
   "id": "ccad9a3f-a02d-487e-94de-37192d9fa333",
   "metadata": {},
   "outputs": [
    {
     "name": "stdout",
     "output_type": "stream",
     "text": [
      "1\n"
     ]
    }
   ],
   "source": [
    "print(li.index('suryakant'))"
   ]
  },
  {
   "cell_type": "markdown",
   "id": "3e31485d-6c58-4e41-8f31-5342e0455900",
   "metadata": {},
   "source": [
    "* `count()` method returns the number of occurrences of a specified value."
   ]
  },
  {
   "cell_type": "code",
   "execution_count": 32,
   "id": "8de2a470-44ad-4077-a060-31d746354767",
   "metadata": {},
   "outputs": [
    {
     "name": "stdout",
     "output_type": "stream",
     "text": [
      "1\n"
     ]
    }
   ],
   "source": [
    "print(li.count('python'))"
   ]
  },
  {
   "cell_type": "markdown",
   "id": "042bbf27-9107-4bf1-8c75-ebbfe4b9ea0b",
   "metadata": {},
   "source": [
    "* `sort()` method is used to sort the list in ascending order."
   ]
  },
  {
   "cell_type": "code",
   "execution_count": 33,
   "id": "8986af4d-97fa-4e49-bac4-927607528371",
   "metadata": {},
   "outputs": [
    {
     "ename": "TypeError",
     "evalue": "'<' not supported between instances of 'list' and 'str'",
     "output_type": "error",
     "traceback": [
      "\u001b[0;31m---------------------------------------------------------------------------\u001b[0m",
      "\u001b[0;31mTypeError\u001b[0m                                 Traceback (most recent call last)",
      "Input \u001b[0;32mIn [33]\u001b[0m, in \u001b[0;36m<cell line: 1>\u001b[0;34m()\u001b[0m\n\u001b[0;32m----> 1\u001b[0m \u001b[38;5;28mprint\u001b[39m(\u001b[43mli\u001b[49m\u001b[38;5;241;43m.\u001b[39;49m\u001b[43msort\u001b[49m\u001b[43m(\u001b[49m\u001b[43m)\u001b[49m)\n",
      "\u001b[0;31mTypeError\u001b[0m: '<' not supported between instances of 'list' and 'str'"
     ]
    }
   ],
   "source": [
    "print(li.sort())"
   ]
  },
  {
   "cell_type": "code",
   "execution_count": 34,
   "id": "00722253-df63-405b-bd96-cd14ede3bd0e",
   "metadata": {},
   "outputs": [
    {
     "name": "stdout",
     "output_type": "stream",
     "text": [
      "[-3, 0, 1, 2, 4]\n"
     ]
    }
   ],
   "source": [
    "li_2 = [1, -3, 0, 2, 4]\n",
    "\n",
    "li_2.sort()\n",
    "\n",
    "print(li_2)"
   ]
  },
  {
   "cell_type": "markdown",
   "id": "7c657e5c-bb09-4d5e-b62a-46f53e237c54",
   "metadata": {},
   "source": [
    "* `reverse` parameter used with `sort()` method is used to sort the list in descending order."
   ]
  },
  {
   "cell_type": "code",
   "execution_count": 35,
   "id": "537a105b-b32c-4ac5-a357-d8d23ca9e839",
   "metadata": {},
   "outputs": [
    {
     "name": "stdout",
     "output_type": "stream",
     "text": [
      "[4, 2, 1, 0, -3]\n"
     ]
    }
   ],
   "source": [
    "li_2.sort(reverse=True)\n",
    "\n",
    "print(li_2)"
   ]
  },
  {
   "cell_type": "markdown",
   "id": "55d46255-4f51-4398-85a6-aa54a3a52bb4",
   "metadata": {},
   "source": [
    "* `reverse()` method is used to reverse the order of elements in the list."
   ]
  },
  {
   "cell_type": "code",
   "execution_count": 36,
   "id": "d51a1073-b71c-4a49-94d0-ec867ee11d11",
   "metadata": {},
   "outputs": [
    {
     "name": "stdout",
     "output_type": "stream",
     "text": [
      "[2, 1, 'ias', 'shashikant', [True, 9], 'suryakant', 'python']\n"
     ]
    }
   ],
   "source": [
    "li.reverse()\n",
    "\n",
    "print(li)"
   ]
  },
  {
   "cell_type": "markdown",
   "id": "d2a66cd2-26cf-4522-9917-4e834f3b6610",
   "metadata": {},
   "source": [
    "### <span style=\"color:orange\">List Slicing</span>\n",
    "\n",
    "We can access specific parts of a list by using `slicing` notation `list[start:end:step]`\n",
    "\n",
    "It will start from `start` index and go till `end-1` moving by `step` size."
   ]
  },
  {
   "cell_type": "code",
   "execution_count": 37,
   "id": "b9b4df36-657a-4e0c-9763-e2e73bd95268",
   "metadata": {},
   "outputs": [
    {
     "name": "stdout",
     "output_type": "stream",
     "text": [
      "[2, 1, 'ias', 'shashikant', [True, 9], 'suryakant', 'python']\n"
     ]
    }
   ],
   "source": [
    "print(li)"
   ]
  },
  {
   "cell_type": "code",
   "execution_count": 38,
   "id": "93fef768-849f-4dc8-8266-1d6faac519b5",
   "metadata": {},
   "outputs": [
    {
     "name": "stdout",
     "output_type": "stream",
     "text": [
      "[1, 'ias']\n"
     ]
    }
   ],
   "source": [
    "print(li[1:3:1])"
   ]
  },
  {
   "cell_type": "code",
   "execution_count": 39,
   "id": "7a62b08d-05a6-4c93-a854-f748d9c7045b",
   "metadata": {},
   "outputs": [
    {
     "name": "stdout",
     "output_type": "stream",
     "text": [
      "[1, 'shashikant', 'suryakant']\n"
     ]
    }
   ],
   "source": [
    "print(li[1:7:2])"
   ]
  },
  {
   "cell_type": "markdown",
   "id": "71899261-97c7-4dc7-8035-a21b87df9f25",
   "metadata": {},
   "source": [
    "* If we will not assign the step size Then, Default step size will be `1`"
   ]
  },
  {
   "cell_type": "code",
   "execution_count": 40,
   "id": "6fca5102-a3c1-4c5b-b22b-0c1ebfe97fd0",
   "metadata": {},
   "outputs": [
    {
     "name": "stdout",
     "output_type": "stream",
     "text": [
      "[1, 'ias']\n"
     ]
    }
   ],
   "source": [
    "print(li[1:3])"
   ]
  },
  {
   "cell_type": "markdown",
   "id": "0d0520f9-394f-49b1-9ea3-95e824fbffe8",
   "metadata": {},
   "source": [
    "* If we will not asign the end index Then, By default It will go till end."
   ]
  },
  {
   "cell_type": "code",
   "execution_count": 41,
   "id": "cb72acad-b013-4704-bc8f-a6b5af98c418",
   "metadata": {},
   "outputs": [
    {
     "name": "stdout",
     "output_type": "stream",
     "text": [
      "[1, 'ias', 'shashikant', [True, 9], 'suryakant', 'python']\n"
     ]
    }
   ],
   "source": [
    "print(li[1:])"
   ]
  },
  {
   "cell_type": "markdown",
   "id": "97efed82-4ea2-40e6-a21f-f2935c42a18a",
   "metadata": {},
   "source": [
    "* If we will not asign the start index Then, By default It will start from 0'th index."
   ]
  },
  {
   "cell_type": "code",
   "execution_count": 42,
   "id": "1f8d32dd-81b8-4d9f-bcbd-aa86353f7440",
   "metadata": {},
   "outputs": [
    {
     "name": "stdout",
     "output_type": "stream",
     "text": [
      "[2, 1, 'ias', 'shashikant', [True, 9]]\n"
     ]
    }
   ],
   "source": [
    "print(li[:5])"
   ]
  },
  {
   "cell_type": "markdown",
   "id": "fb8489d9-2755-4a65-9853-b271373d8221",
   "metadata": {},
   "source": [
    "* if we will not define start as well as end index Then, It will give whole list"
   ]
  },
  {
   "cell_type": "code",
   "execution_count": 43,
   "id": "5ee51316-381b-4907-b15d-b6284df6c027",
   "metadata": {},
   "outputs": [
    {
     "name": "stdout",
     "output_type": "stream",
     "text": [
      "[2, 1, 'ias', 'shashikant', [True, 9], 'suryakant', 'python']\n"
     ]
    }
   ],
   "source": [
    "print(li[:])"
   ]
  },
  {
   "cell_type": "markdown",
   "id": "bc31c81d-ef20-41be-bc74-580ed7759037",
   "metadata": {},
   "source": [
    "* If provided end index is not avaolable Then, It will take till last element of the list."
   ]
  },
  {
   "cell_type": "code",
   "execution_count": 44,
   "id": "efc02408-706c-4de4-b568-478b214e291c",
   "metadata": {},
   "outputs": [
    {
     "name": "stdout",
     "output_type": "stream",
     "text": [
      "[1, 'ias', 'shashikant', [True, 9], 'suryakant', 'python']\n"
     ]
    }
   ],
   "source": [
    "print(li[1:20])"
   ]
  },
  {
   "cell_type": "markdown",
   "id": "17b2f812-5f76-4b8c-bd29-4595b6be043d",
   "metadata": {},
   "source": [
    "* Reverse stepping by 1"
   ]
  },
  {
   "cell_type": "code",
   "execution_count": 45,
   "id": "a0bdd0f3-9aef-4d67-be5c-347ed283bf95",
   "metadata": {},
   "outputs": [
    {
     "name": "stdout",
     "output_type": "stream",
     "text": [
      "['suryakant', [True, 9], 'shashikant', 'ias']\n"
     ]
    }
   ],
   "source": [
    "print(li[5:1:-1])"
   ]
  },
  {
   "cell_type": "markdown",
   "id": "fd03148b-aa83-4c28-a90c-f0f6110bc580",
   "metadata": {},
   "source": [
    "* Reverse of a list using slicing"
   ]
  },
  {
   "cell_type": "code",
   "execution_count": 46,
   "id": "8f667c6c-64ee-48c1-8a6a-0bc0140163fc",
   "metadata": {},
   "outputs": [
    {
     "name": "stdout",
     "output_type": "stream",
     "text": [
      "['python', 'suryakant', [True, 9], 'shashikant', 'ias', 1, 2]\n"
     ]
    }
   ],
   "source": [
    "print(li[::-1])"
   ]
  },
  {
   "cell_type": "markdown",
   "id": "6eb3563c-ef77-4887-a679-59b45f639b50",
   "metadata": {},
   "source": [
    "### <span style=\"color:orange\">How elements are stored in a List ?</span>"
   ]
  },
  {
   "cell_type": "markdown",
   "id": "c2e6a170-94a8-474d-bd82-bc079dd7cc9b",
   "metadata": {},
   "source": [
    "`list` actually store the `references` of elements.\n",
    "\n",
    "When we assign an integer `num = 1` Then, Location reference of `1` is stored at vaiable `num`.\n",
    "\n",
    "When we create a list, references of all the elements of the list are stored in the list."
   ]
  },
  {
   "cell_type": "code",
   "execution_count": 47,
   "id": "b0126c16-75eb-4c98-8a94-11fbbdbd3ef6",
   "metadata": {},
   "outputs": [
    {
     "name": "stdout",
     "output_type": "stream",
     "text": [
      "140463340394800 140463340394832 140463484390512\n"
     ]
    }
   ],
   "source": [
    "x = 1\n",
    "y = 2\n",
    "z = 'suryakant'\n",
    "\n",
    "print(id(x), id(y), id(z))"
   ]
  },
  {
   "cell_type": "code",
   "execution_count": 48,
   "id": "f3fe9f81-6922-4f69-bbe1-be247948f24c",
   "metadata": {},
   "outputs": [
    {
     "name": "stdout",
     "output_type": "stream",
     "text": [
      "140463340394800 140463340394832 140463484390512\n"
     ]
    }
   ],
   "source": [
    "li_3 = [1, 2, 'suryakant']\n",
    "\n",
    "print(id(li_3[0]), id(li_3[1]), id(li_3[2]))"
   ]
  },
  {
   "cell_type": "markdown",
   "id": "621a30ad-a2ac-4e3d-861e-c7a8d2e07b24",
   "metadata": {},
   "source": [
    "* When we are searching for any element like `li[0]` Then, It will go to the index `0` of list `li` and give data stored on that reference.\n",
    "\n",
    "* When we update any element in the list like, `li[0] = 'shashikant'` Then, It will store `shashikant` in the memory and update the index `0` of list `li` with the reference."
   ]
  },
  {
   "cell_type": "code",
   "execution_count": 49,
   "id": "b9cdd36d-bde3-4274-8de3-f5d95eb39b57",
   "metadata": {},
   "outputs": [
    {
     "name": "stdout",
     "output_type": "stream",
     "text": [
      "140463498740592\n"
     ]
    }
   ],
   "source": [
    "li_3[0] = 'shashikant'\n",
    "\n",
    "print(id(li_3[0]))"
   ]
  },
  {
   "cell_type": "code",
   "execution_count": 50,
   "id": "d6e092ed-1491-45ae-99e8-c04b54eea720",
   "metadata": {},
   "outputs": [
    {
     "name": "stdout",
     "output_type": "stream",
     "text": [
      "140463498740592\n"
     ]
    }
   ],
   "source": [
    "print(id('shashikant'))"
   ]
  },
  {
   "cell_type": "markdown",
   "id": "322cf24a-91b8-4955-8861-47748bc2a335",
   "metadata": {},
   "source": [
    "* List stores all the references in continuous order, If we will create a list of non-existing elements."
   ]
  },
  {
   "cell_type": "code",
   "execution_count": 51,
   "id": "c57bc4a7-b4ed-47c6-8cc6-5a26a9e09c69",
   "metadata": {},
   "outputs": [
    {
     "name": "stdout",
     "output_type": "stream",
     "text": [
      "140463340586448 140463340586480 140463340586512\n"
     ]
    }
   ],
   "source": [
    "li_4 = [100, 101, 102]\n",
    "\n",
    "print(id(li_4[0]), id(li_4[1]), id(li_4[2]))"
   ]
  },
  {
   "cell_type": "markdown",
   "id": "8c3a1396-145b-42ce-8c96-ba12fbfdee4f",
   "metadata": {},
   "source": [
    "### <span style=\"color:orange\">List Iteration</span>"
   ]
  },
  {
   "cell_type": "code",
   "execution_count": 52,
   "id": "179df4e7-dba1-42cf-9093-3bdbdb2a5d19",
   "metadata": {},
   "outputs": [
    {
     "name": "stdout",
     "output_type": "stream",
     "text": [
      "[2, 1, 'ias', 'shashikant', [True, 9], 'suryakant', 'python']\n"
     ]
    }
   ],
   "source": [
    "print(li)"
   ]
  },
  {
   "cell_type": "code",
   "execution_count": 53,
   "id": "6e54c655-8e70-49fe-af05-d99fdbcd0ba3",
   "metadata": {},
   "outputs": [
    {
     "name": "stdout",
     "output_type": "stream",
     "text": [
      "2\n",
      "1\n",
      "ias\n",
      "shashikant\n",
      "[True, 9]\n",
      "suryakant\n",
      "python\n"
     ]
    }
   ],
   "source": [
    "for i in range(len(li)):\n",
    "    print(li[i])"
   ]
  },
  {
   "cell_type": "markdown",
   "id": "f58f560c-e95e-44e2-85cb-51967cdf1f72",
   "metadata": {},
   "source": [
    "* We can start the loop from a particular index of a list."
   ]
  },
  {
   "cell_type": "code",
   "execution_count": 54,
   "id": "35ed66e2-ed49-4784-b16b-72ec0086d01d",
   "metadata": {},
   "outputs": [
    {
     "name": "stdout",
     "output_type": "stream",
     "text": [
      "ias\n",
      "shashikant\n",
      "[True, 9]\n",
      "suryakant\n",
      "python\n"
     ]
    }
   ],
   "source": [
    "for i in range(2, len(li)):\n",
    "    print(li[i])"
   ]
  },
  {
   "cell_type": "markdown",
   "id": "94f19d8d-1810-4e56-8566-1c53e8f68102",
   "metadata": {},
   "source": [
    "* We can directly run a loop on a list by accessing all the elements of the loop one by one."
   ]
  },
  {
   "cell_type": "code",
   "execution_count": 55,
   "id": "968ac8f3-d292-407f-812c-5a1af87cc4e1",
   "metadata": {},
   "outputs": [
    {
     "name": "stdout",
     "output_type": "stream",
     "text": [
      "2\n",
      "1\n",
      "ias\n",
      "shashikant\n",
      "[True, 9]\n",
      "suryakant\n",
      "python\n"
     ]
    }
   ],
   "source": [
    "for ele in li:\n",
    "    print(ele)"
   ]
  },
  {
   "cell_type": "markdown",
   "id": "2109cd44-98bf-45aa-a125-76412f768987",
   "metadata": {},
   "source": [
    "* We can run loop on particular elements of a list by using list slicing."
   ]
  },
  {
   "cell_type": "code",
   "execution_count": 56,
   "id": "06d16f2d-74e3-49b0-b5b6-cd1cb3fc7436",
   "metadata": {},
   "outputs": [
    {
     "name": "stdout",
     "output_type": "stream",
     "text": [
      "ias\n",
      "shashikant\n",
      "[True, 9]\n",
      "suryakant\n",
      "python\n"
     ]
    }
   ],
   "source": [
    "for ele in li[2:]:\n",
    "    print(ele)"
   ]
  },
  {
   "cell_type": "markdown",
   "id": "b6570a6b-7730-45e9-9073-947d79c1da0f",
   "metadata": {},
   "source": [
    "### <span style=\"color:orange\">Negative indexing & Sequencing in List</span>"
   ]
  },
  {
   "cell_type": "markdown",
   "id": "dd96b6a3-01c2-4fa5-847a-71d362508916",
   "metadata": {},
   "source": [
    "* Indexes can be negative starting from `negative length of list` till `-1`"
   ]
  },
  {
   "cell_type": "code",
   "execution_count": 57,
   "id": "5579288d-170c-4d32-9a9a-fe5dfd956598",
   "metadata": {},
   "outputs": [
    {
     "name": "stdout",
     "output_type": "stream",
     "text": [
      "[2, 1, 'ias', 'shashikant', [True, 9], 'suryakant', 'python']\n"
     ]
    }
   ],
   "source": [
    "print(li)"
   ]
  },
  {
   "cell_type": "code",
   "execution_count": 58,
   "id": "b30ce2d5-aadc-451b-b5cf-4be37a5fba7e",
   "metadata": {},
   "outputs": [
    {
     "name": "stdout",
     "output_type": "stream",
     "text": [
      "python\n"
     ]
    }
   ],
   "source": [
    "print(li[-1])"
   ]
  },
  {
   "cell_type": "code",
   "execution_count": 59,
   "id": "3016ce88-3ef5-43ba-a373-3f3dba38d49c",
   "metadata": {},
   "outputs": [
    {
     "name": "stdout",
     "output_type": "stream",
     "text": [
      "2\n"
     ]
    }
   ],
   "source": [
    "print(li[-7])"
   ]
  },
  {
   "cell_type": "code",
   "execution_count": 60,
   "id": "3a6ad2aa-891f-4acf-b5d9-3fa13b610d76",
   "metadata": {},
   "outputs": [
    {
     "ename": "IndexError",
     "evalue": "list index out of range",
     "output_type": "error",
     "traceback": [
      "\u001b[0;31m---------------------------------------------------------------------------\u001b[0m",
      "\u001b[0;31mIndexError\u001b[0m                                Traceback (most recent call last)",
      "Input \u001b[0;32mIn [60]\u001b[0m, in \u001b[0;36m<cell line: 1>\u001b[0;34m()\u001b[0m\n\u001b[0;32m----> 1\u001b[0m \u001b[38;5;28mprint\u001b[39m(\u001b[43mli\u001b[49m\u001b[43m[\u001b[49m\u001b[38;5;241;43m-\u001b[39;49m\u001b[38;5;241;43m8\u001b[39;49m\u001b[43m]\u001b[49m)\n",
      "\u001b[0;31mIndexError\u001b[0m: list index out of range"
     ]
    }
   ],
   "source": [
    "print(li[-8])"
   ]
  },
  {
   "cell_type": "code",
   "execution_count": 61,
   "id": "b2ec3f92-fb7c-4048-8842-03723c21435c",
   "metadata": {},
   "outputs": [
    {
     "name": "stdout",
     "output_type": "stream",
     "text": [
      "['ias', 'shashikant', [True, 9], 'suryakant']\n"
     ]
    }
   ],
   "source": [
    "print(li[-5:-1])"
   ]
  },
  {
   "cell_type": "code",
   "execution_count": 62,
   "id": "1166ba4d-b5f2-4dfe-8c88-ab1e4a7b9423",
   "metadata": {},
   "outputs": [
    {
     "name": "stdout",
     "output_type": "stream",
     "text": [
      "[2, 'ias', [True, 9]]\n"
     ]
    }
   ],
   "source": [
    "print(li[-7:-1:2])"
   ]
  },
  {
   "cell_type": "code",
   "execution_count": 63,
   "id": "c8eff83b-7d6a-48b5-83d9-bc3fc6f0a0e4",
   "metadata": {},
   "outputs": [
    {
     "name": "stdout",
     "output_type": "stream",
     "text": [
      "[[True, 9], 'suryakant', 'python']\n"
     ]
    }
   ],
   "source": [
    "print(li[-3:])"
   ]
  },
  {
   "cell_type": "markdown",
   "id": "3c285939-fde9-4ff6-8a64-b712d0e77248",
   "metadata": {},
   "source": [
    "* We can also use both positive and negative indexing in single list slicing."
   ]
  },
  {
   "cell_type": "code",
   "execution_count": 64,
   "id": "f3a4bcd8-b066-43e0-a6ac-e52c7d67bbf3",
   "metadata": {},
   "outputs": [
    {
     "name": "stdout",
     "output_type": "stream",
     "text": [
      "[2, 1, 'ias', 'shashikant', [True, 9], 'suryakant']\n"
     ]
    }
   ],
   "source": [
    "print(li[-7:6])"
   ]
  },
  {
   "cell_type": "code",
   "execution_count": 65,
   "id": "859e2868-b009-47de-9360-bcbcddaebdf0",
   "metadata": {},
   "outputs": [
    {
     "name": "stdout",
     "output_type": "stream",
     "text": [
      "[2, 1, 'ias', 'shashikant', [True, 9]]\n"
     ]
    }
   ],
   "source": [
    "print(li[0:-2])"
   ]
  },
  {
   "cell_type": "markdown",
   "id": "d3654030-b216-411e-bb58-cf05250142c5",
   "metadata": {},
   "source": [
    "### <span style=\"color:orange\">Taking input of List</span>\n",
    "\n",
    "There are two ways of taking inputs in a list :"
   ]
  },
  {
   "cell_type": "markdown",
   "id": "f2c5b19e-54fb-4da0-900c-ebf3bc2c7dc8",
   "metadata": {},
   "source": [
    "#### <span style=\"color:blue\">1. Line separated input of List</span>\n",
    "\n",
    "At first, We will be given that, How many elements are given in the list ?\n",
    "\n",
    "Then, We will be given each elements of the list that will be line separated.\n",
    "\n",
    "```\n",
    "sample Input : 5\n",
    "               2\n",
    "               5\n",
    "               3\n",
    "               6\n",
    "               1\n",
    "```"
   ]
  },
  {
   "cell_type": "code",
   "execution_count": 66,
   "id": "f35ee7c3-70a7-41e8-bedb-d74a6020cde4",
   "metadata": {},
   "outputs": [
    {
     "name": "stdin",
     "output_type": "stream",
     "text": [
      " 5\n",
      " 2\n",
      " 5\n",
      " 3\n",
      " 6\n",
      " 1\n"
     ]
    },
    {
     "name": "stdout",
     "output_type": "stream",
     "text": [
      "[2, 5, 3, 6, 1]\n"
     ]
    }
   ],
   "source": [
    "n = int(input())\n",
    "li = []\n",
    "for i in range(n):\n",
    "    curr = int(input())\n",
    "    li.append(curr)\n",
    "\n",
    "print(li)"
   ]
  },
  {
   "cell_type": "markdown",
   "id": "829273f7-9824-400a-ae80-d5dcd6234fef",
   "metadata": {},
   "source": [
    "#### <span style=\"color:blue\">2. Space separated input of List</span>\n",
    "\n",
    "At first, We will be given that, How many elements are given in the list ?\n",
    "\n",
    "Then, We will be given a string containing all the elements separated by space."
   ]
  },
  {
   "cell_type": "markdown",
   "id": "875523aa-e229-4474-8c0d-ec3f80ade1b7",
   "metadata": {},
   "source": [
    "* We need to convert the space separated elements of list into list of elements.\n",
    "\n",
    "* `split()` method is used to split a string on given delimeter."
   ]
  },
  {
   "cell_type": "code",
   "execution_count": 67,
   "id": "ae6bf09e-6a84-4980-9ea9-4915df5bf4b8",
   "metadata": {},
   "outputs": [
    {
     "name": "stdout",
     "output_type": "stream",
     "text": [
      "['1', '3', '2', '4']\n"
     ]
    }
   ],
   "source": [
    "print(\"1_3_2_4\".split(\"_\"))"
   ]
  },
  {
   "cell_type": "code",
   "execution_count": 68,
   "id": "e6251fe1-741a-4e51-94c0-960557666e1a",
   "metadata": {},
   "outputs": [
    {
     "name": "stdout",
     "output_type": "stream",
     "text": [
      "['1', '3', '2', '4']\n"
     ]
    }
   ],
   "source": [
    "print(\"1 3 2 4\".split(\" \"))"
   ]
  },
  {
   "cell_type": "markdown",
   "id": "775ce896-9b07-4b08-b31d-9d94c65eba07",
   "metadata": {},
   "source": [
    "* Default delimeter for `split()` method is `space`."
   ]
  },
  {
   "cell_type": "code",
   "execution_count": 69,
   "id": "d25edd40-74fc-4b4b-a1d4-773b80278ea4",
   "metadata": {},
   "outputs": [
    {
     "name": "stdout",
     "output_type": "stream",
     "text": [
      "['1', '3', '2', '4']\n"
     ]
    }
   ],
   "source": [
    "print(\"1 3 2 4\".split())"
   ]
  },
  {
   "cell_type": "markdown",
   "id": "8f2c71c2-68b4-4b1e-92f4-b92aad880aca",
   "metadata": {},
   "source": [
    "```\n",
    "sample Input : 5\n",
    "               2 5 3 6 1\n",
    "```"
   ]
  },
  {
   "cell_type": "code",
   "execution_count": 70,
   "id": "083ec7d0-5e06-4dab-8e17-69e1a463458d",
   "metadata": {},
   "outputs": [
    {
     "name": "stdin",
     "output_type": "stream",
     "text": [
      " 5\n",
      " 2 5 3 6 1\n"
     ]
    },
    {
     "name": "stdout",
     "output_type": "stream",
     "text": [
      "[2, 5, 3, 6, 1]\n"
     ]
    }
   ],
   "source": [
    "n = int(input())\n",
    "elements = input()\n",
    "\n",
    "ele_li = elements.split()\n",
    "li = []\n",
    "for ele in ele_li:\n",
    "    li.append(int(ele))\n",
    "    \n",
    "print(li)"
   ]
  },
  {
   "cell_type": "code",
   "execution_count": 71,
   "id": "9f283927-793f-451c-9363-cb9d15296ce7",
   "metadata": {},
   "outputs": [
    {
     "name": "stdin",
     "output_type": "stream",
     "text": [
      " 5\n",
      " 2 5 3 6 1\n"
     ]
    },
    {
     "name": "stdout",
     "output_type": "stream",
     "text": [
      "[2, 5, 3, 6, 1]\n"
     ]
    }
   ],
   "source": [
    "# Taking Input in one line\n",
    "\n",
    "n = int(input())\n",
    "\n",
    "li = [int(ele) for ele in input().split()[:n+1]]\n",
    "\n",
    "print(li)"
   ]
  },
  {
   "cell_type": "markdown",
   "id": "14195db3-9f65-425d-9077-421261c64fea",
   "metadata": {},
   "source": [
    "### <span style=\"color:orange\">Problem : </span>Linear Search\n",
    "\n",
    "Given a list, We need to return the index of the given element. If element given is not present in the list then, return -1."
   ]
  },
  {
   "cell_type": "code",
   "execution_count": 72,
   "id": "8cfa3813-5271-46ac-95d7-2bc4c9c0a8ca",
   "metadata": {},
   "outputs": [
    {
     "name": "stdout",
     "output_type": "stream",
     "text": [
      "Element found at index: 4\n"
     ]
    }
   ],
   "source": [
    "li = [1, 2, 3, 4, 5]\n",
    "search = 5\n",
    "\n",
    "isFound = False\n",
    "for i in range(len(li)):\n",
    "    if li[i] == search:\n",
    "        print(\"Element found at index: \" + str(i))\n",
    "        isFound = True\n",
    "        break\n",
    "if isFound == False:\n",
    "    print(-1)"
   ]
  },
  {
   "cell_type": "markdown",
   "id": "289738db-c331-469b-b099-5f0bf09a57d5",
   "metadata": {},
   "source": [
    "* Implementing Linear search using function"
   ]
  },
  {
   "cell_type": "code",
   "execution_count": 73,
   "id": "bcef5bb1-99b5-4683-ac78-4909cd2d7040",
   "metadata": {},
   "outputs": [],
   "source": [
    "def linearSearch(li, search):\n",
    "    for i in range(len(li)):\n",
    "        if li[i] == search:\n",
    "            return i\n",
    "    return -1"
   ]
  },
  {
   "cell_type": "code",
   "execution_count": 74,
   "id": "1c33dd94-35ec-42db-95c1-025a66f89994",
   "metadata": {},
   "outputs": [
    {
     "name": "stdout",
     "output_type": "stream",
     "text": [
      "4\n"
     ]
    }
   ],
   "source": [
    "li = [1, 2, 3, 4, 5]\n",
    "search = 5\n",
    "\n",
    "index = linearSearch(li, search)\n",
    "print(index)"
   ]
  },
  {
   "cell_type": "code",
   "execution_count": 75,
   "id": "751ba961-9f9e-4731-aec5-122ca851f88e",
   "metadata": {},
   "outputs": [
    {
     "name": "stdout",
     "output_type": "stream",
     "text": [
      "-1\n"
     ]
    }
   ],
   "source": [
    "li = [1, 2, 3, 4, 5]\n",
    "search = 6\n",
    "\n",
    "index = linearSearch(li, search)\n",
    "print(index)"
   ]
  },
  {
   "cell_type": "markdown",
   "id": "de1ebd05-8497-42c6-a707-2f02e38cc096",
   "metadata": {},
   "source": [
    "### <span style=\"color:orange\">Problem : </span>Array Sum\n",
    "\n",
    "Given an array of length N, We need to find and print the sum of all elements of an array."
   ]
  },
  {
   "cell_type": "code",
   "execution_count": 76,
   "id": "d475d1c5-bffe-4d6b-8845-990e70a92667",
   "metadata": {},
   "outputs": [],
   "source": [
    "def arraySum(n, li):\n",
    "    sum = 0\n",
    "    for i in range(n):\n",
    "        sum += li[i]\n",
    "    return sum"
   ]
  },
  {
   "cell_type": "code",
   "execution_count": 77,
   "id": "a96f07a7-87b6-4aea-b917-aa619853216f",
   "metadata": {},
   "outputs": [
    {
     "name": "stdout",
     "output_type": "stream",
     "text": [
      "15\n"
     ]
    }
   ],
   "source": [
    "n = 5\n",
    "li = [1, 2, 3, 4, 5]\n",
    "\n",
    "array_sum = arraySum(n, li)\n",
    "print(array_sum)"
   ]
  },
  {
   "cell_type": "markdown",
   "id": "89f5feec-28e9-41ae-8a57-78f128c390c5",
   "metadata": {},
   "source": [
    "### <span style=\"color:orange\">Mutable & Immutable Concept</span>\n",
    "\n",
    "If we say `x = 3` that means, `3` is stored in the memory somewhere and the reference of it will be given to the variable `x`.\n",
    "\n",
    "Now if we change the value of `x` as `4` means `x = 4` then, `4` will be stored somewhere in the memory and instead of `x` referring to storage address of `3`, It will start referring to storage address of `4`.\n",
    "\n",
    "Now if any variable `a` is assigned with `4` then the pre-existing storage address of `4` will also start referring to `a`. That means, storage address of `4` will be referring to `x` as well as `a` now. This concept is called as **`immutable`.**\n",
    "\n",
    "* Variables are immutable in python."
   ]
  },
  {
   "cell_type": "code",
   "execution_count": 78,
   "id": "f92856b7-42cc-47ec-b88b-872a31e0857b",
   "metadata": {},
   "outputs": [
    {
     "name": "stdout",
     "output_type": "stream",
     "text": [
      "140463340394864\n"
     ]
    }
   ],
   "source": [
    "x = 3\n",
    "\n",
    "print(id(x))"
   ]
  },
  {
   "cell_type": "code",
   "execution_count": 79,
   "id": "bc417626-3bc5-4965-bda0-4b9c1cf5f713",
   "metadata": {},
   "outputs": [
    {
     "name": "stdout",
     "output_type": "stream",
     "text": [
      "140463340394896\n"
     ]
    }
   ],
   "source": [
    "x = 4\n",
    "\n",
    "print(id(x))"
   ]
  },
  {
   "cell_type": "code",
   "execution_count": 80,
   "id": "c454f706-e80a-4738-a81d-883545ca8725",
   "metadata": {},
   "outputs": [
    {
     "name": "stdout",
     "output_type": "stream",
     "text": [
      "140463340394896\n"
     ]
    }
   ],
   "source": [
    "a = 4\n",
    "\n",
    "print(id(a))"
   ]
  },
  {
   "cell_type": "markdown",
   "id": "532cadb1-2888-4a38-8e2f-2877f75463a1",
   "metadata": {},
   "source": [
    "Now lets consider a list like `li = [1, 2, 3, 4]\n",
    "\n",
    "If we create a list of elements and assign the list to a variable then, storage address to that list will be given to the variable.\n",
    "\n",
    "If we have created a list `li` and assign the same list to another variable like `li2 = li` then, `li2` will also refer to the same storage address."
   ]
  },
  {
   "cell_type": "code",
   "execution_count": 81,
   "id": "bc437431-310c-4740-888d-588096d83bd0",
   "metadata": {},
   "outputs": [
    {
     "name": "stdout",
     "output_type": "stream",
     "text": [
      "140463499018368\n"
     ]
    }
   ],
   "source": [
    "li = [1, 2, 3, 4]\n",
    "\n",
    "print(id(li))"
   ]
  },
  {
   "cell_type": "code",
   "execution_count": 82,
   "id": "69617af1-e1ae-4cd0-904e-abb452669761",
   "metadata": {},
   "outputs": [
    {
     "name": "stdout",
     "output_type": "stream",
     "text": [
      "140463499018368\n"
     ]
    }
   ],
   "source": [
    "li2 = li\n",
    "\n",
    "print(id(li2))"
   ]
  },
  {
   "cell_type": "markdown",
   "id": "b603ab80-841e-4d25-a383-b858cd4cd8aa",
   "metadata": {},
   "source": [
    "Now if we change the element of list `li2` like `li2[1] = 5` then, Instead of creating another list, element at index `1` will get updated.\n",
    "\n",
    "* So lists are `mutable` in python."
   ]
  },
  {
   "cell_type": "code",
   "execution_count": 83,
   "id": "f23e8711-5ae6-481f-a914-84bcc01e272e",
   "metadata": {},
   "outputs": [],
   "source": [
    "li2[1] = 5"
   ]
  },
  {
   "cell_type": "code",
   "execution_count": 84,
   "id": "381c17a4-bdc7-4bd5-8d5f-1c38464a4314",
   "metadata": {},
   "outputs": [
    {
     "name": "stdout",
     "output_type": "stream",
     "text": [
      "[1, 5, 3, 4]\n",
      "140463499018368\n"
     ]
    }
   ],
   "source": [
    "print(li2)\n",
    "print(id(li2))"
   ]
  },
  {
   "cell_type": "code",
   "execution_count": 85,
   "id": "2dd4d7e6-0bbf-4d18-926f-40dff752d089",
   "metadata": {},
   "outputs": [
    {
     "name": "stdout",
     "output_type": "stream",
     "text": [
      "[1, 5, 3, 4]\n",
      "140463499018368\n"
     ]
    }
   ],
   "source": [
    "print(li)\n",
    "print(id(li))"
   ]
  },
  {
   "cell_type": "markdown",
   "id": "e8a23da4-c39d-4718-90e4-f470ca839aa4",
   "metadata": {},
   "source": [
    "If multiple lists are pointing to same storage reference and we will change element of one list then, It will be reflected through all the lists.\n",
    "\n",
    "Now if we are creating another list like :"
   ]
  },
  {
   "cell_type": "code",
   "execution_count": 86,
   "id": "fb7a8f51-ec6b-428e-99de-4a44819f7ede",
   "metadata": {},
   "outputs": [
    {
     "name": "stdout",
     "output_type": "stream",
     "text": [
      "140463499166720\n"
     ]
    }
   ],
   "source": [
    "li2 = [3, 3, 4]\n",
    "\n",
    "print(id(li2))"
   ]
  },
  {
   "cell_type": "code",
   "execution_count": 87,
   "id": "667e538a-64e0-4923-997f-b172a7b98694",
   "metadata": {},
   "outputs": [],
   "source": [
    "li2[2] = 1"
   ]
  },
  {
   "cell_type": "code",
   "execution_count": 88,
   "id": "af2c3e70-8577-41e7-995c-8955c3ad1a59",
   "metadata": {},
   "outputs": [
    {
     "name": "stdout",
     "output_type": "stream",
     "text": [
      "[3, 3, 1]\n",
      "140463499166720\n"
     ]
    }
   ],
   "source": [
    "print(li2)\n",
    "print(id(li2))"
   ]
  },
  {
   "cell_type": "markdown",
   "id": "288f4a93-cffe-452b-82b6-2fea3bd5ebc0",
   "metadata": {},
   "source": [
    "Now `li2` is not referring to the list `li`. Instead, It will have regerence of new storage location. Now if we make any change on this list, It will not be reflected to `li`."
   ]
  },
  {
   "cell_type": "markdown",
   "id": "8d17bdcb-06c1-4d82-81f5-eea1ff7956e6",
   "metadata": {},
   "source": [
    "### <span style=\"color:orange\">Passing variables through functions</span>"
   ]
  },
  {
   "cell_type": "code",
   "execution_count": 89,
   "id": "f5ab1d79-284d-42cb-8b3d-0d03414a424f",
   "metadata": {},
   "outputs": [],
   "source": [
    "def increment(a):\n",
    "    a = a + 1\n",
    "    return"
   ]
  },
  {
   "cell_type": "code",
   "execution_count": 90,
   "id": "23a0e9e9-fc2b-4f91-a27b-4438ff8d7888",
   "metadata": {},
   "outputs": [
    {
     "name": "stdout",
     "output_type": "stream",
     "text": [
      "140463340394832\n",
      "2\n",
      "4493126624\n"
     ]
    }
   ],
   "source": [
    "a = 2\n",
    "\n",
    "print(id(a))\n",
    "\n",
    "increment(a)\n",
    "\n",
    "print(a)\n",
    "\n",
    "print(id(increment(a)))"
   ]
  },
  {
   "cell_type": "markdown",
   "id": "b4c06949-e08b-4fac-9f30-922e59de9001",
   "metadata": {},
   "source": [
    "Let's say, the variable which has been passed at the time of calling the function is `a_main` and variable after incrementing by `1` is `a_increment`because these two variables are different.\n",
    "\n",
    "```python\n",
    "a_main = 2\n",
    "increment(a_main):\n",
    "    a_increment = a_main + 1\n",
    "print(a_main)\n",
    "```"
   ]
  },
  {
   "cell_type": "markdown",
   "id": "b232aeb1-fc72-46ff-a9c9-cbafe857c630",
   "metadata": {},
   "source": [
    "Here, Initially `a_main = 2` has been created in the memory and when we are doing `a_increment = a_main + 1 = 3` then, a new memory address has been created and reference to it has been given to `a_increment` and since we have returned `None`, that's why `a_main` is still pointing to `2`. So here `a_main` was getting printed."
   ]
  },
  {
   "cell_type": "markdown",
   "id": "ab237f97-ddc2-4f2f-8c2e-0bee46ae964c",
   "metadata": {},
   "source": [
    "* Now we will return incremented value as output"
   ]
  },
  {
   "cell_type": "code",
   "execution_count": 91,
   "id": "aa1f498c-bc6a-40b3-a8d0-245314fb2a12",
   "metadata": {},
   "outputs": [],
   "source": [
    "def increment(a):\n",
    "    a = a + 1\n",
    "    return a"
   ]
  },
  {
   "cell_type": "code",
   "execution_count": 92,
   "id": "03990c5c-2000-4b8d-bcc9-283e2dbba048",
   "metadata": {},
   "outputs": [
    {
     "name": "stdout",
     "output_type": "stream",
     "text": [
      "140463340394832\n",
      "2\n",
      "140463340394864\n"
     ]
    }
   ],
   "source": [
    "a = 2\n",
    "\n",
    "print(id(a))\n",
    "\n",
    "increment(a)\n",
    "\n",
    "print(a)\n",
    "\n",
    "print(id(increment(a)))"
   ]
  },
  {
   "cell_type": "markdown",
   "id": "7f1d17df-a3ce-4000-bd74-b8fc3e20d399",
   "metadata": {},
   "source": [
    "Now even if we are returning `3`, only `2` will be printed as output since we have not stored it anywhere that means memory reference of it is still missing."
   ]
  },
  {
   "cell_type": "markdown",
   "id": "491c76e6-72f2-42bc-9957-5918d277fdca",
   "metadata": {},
   "source": [
    "* Now we will store the output in a variable and memory reference to it will be printed."
   ]
  },
  {
   "cell_type": "code",
   "execution_count": 93,
   "id": "69c377ef-5515-4eca-9a9d-42547543e6c6",
   "metadata": {},
   "outputs": [],
   "source": [
    "def increment(a):\n",
    "    a = a + 1\n",
    "    return a"
   ]
  },
  {
   "cell_type": "code",
   "execution_count": 94,
   "id": "48c98e27-8548-4f26-b875-e9879e7e9198",
   "metadata": {},
   "outputs": [
    {
     "name": "stdout",
     "output_type": "stream",
     "text": [
      "140463340394832\n",
      "3\n",
      "140463340394864\n"
     ]
    }
   ],
   "source": [
    "a = 2\n",
    "\n",
    "print(id(a))\n",
    "\n",
    "a = increment(a)\n",
    "\n",
    "print(a)\n",
    "\n",
    "print(id(a))"
   ]
  },
  {
   "cell_type": "markdown",
   "id": "57764044-90c8-4d2d-9534-08b467c7cfd4",
   "metadata": {},
   "source": [
    "Now `a_main` is pointing to memory reference of `3`."
   ]
  },
  {
   "cell_type": "markdown",
   "id": "a4983ce2-09b8-4d75-bf8e-3f41fcfadc04",
   "metadata": {},
   "source": [
    "### <span style=\"color:orange\">Passing list through functions</span>"
   ]
  },
  {
   "cell_type": "code",
   "execution_count": 95,
   "id": "0450ddd0-2bee-4476-9161-299ffb95f9b7",
   "metadata": {},
   "outputs": [],
   "source": [
    "def list_increment(li):\n",
    "    li[0] = li[0] + 1\n",
    "    return"
   ]
  },
  {
   "cell_type": "code",
   "execution_count": 96,
   "id": "a646b503-14ed-43ea-b22a-b6f90fd563c5",
   "metadata": {},
   "outputs": [
    {
     "name": "stdout",
     "output_type": "stream",
     "text": [
      "140463499209792\n",
      "[2, 2, 3, 4]\n",
      "140463499209792\n"
     ]
    }
   ],
   "source": [
    "li = [1, 2, 3, 4]\n",
    "\n",
    "print(id(li))\n",
    "\n",
    "list_increment(li)\n",
    "\n",
    "print(li)\n",
    "\n",
    "print(id(li))"
   ]
  },
  {
   "cell_type": "markdown",
   "id": "9e7e1d71-1a2a-45e5-990d-d1f37f61b169",
   "metadata": {},
   "source": [
    "We don't need to return the modified list here since memory reference to the input list and modified list will be same as list is `mutable`."
   ]
  },
  {
   "cell_type": "code",
   "execution_count": 97,
   "id": "b8188f1c-ec33-4809-802c-e8f15ea332fc",
   "metadata": {},
   "outputs": [],
   "source": [
    "def list_increment(li):\n",
    "    li = [3, 3, 4]\n",
    "    return"
   ]
  },
  {
   "cell_type": "code",
   "execution_count": 98,
   "id": "1fc2e289-d72b-4f67-acbd-f5d7058327b3",
   "metadata": {},
   "outputs": [
    {
     "name": "stdout",
     "output_type": "stream",
     "text": [
      "140463499252800\n",
      "[1, 2, 3, 4]\n",
      "140463499252800\n"
     ]
    }
   ],
   "source": [
    "li = [1, 2, 3, 4]\n",
    "\n",
    "print(id(li))\n",
    "\n",
    "list_increment(li)\n",
    "\n",
    "print(li)\n",
    "\n",
    "print(id(li))"
   ]
  },
  {
   "cell_type": "markdown",
   "id": "7620d8dc-4ca5-4e54-ac88-27d1a9b520d7",
   "metadata": {},
   "source": [
    "Here new list has been assigned but not returned, So it will give same input list as output."
   ]
  },
  {
   "cell_type": "code",
   "execution_count": 99,
   "id": "4208c060-99e2-4925-b404-0cdd785fe803",
   "metadata": {},
   "outputs": [],
   "source": [
    "def list_increment(li):\n",
    "    li = [3, 3, 4]\n",
    "    return"
   ]
  },
  {
   "cell_type": "code",
   "execution_count": 100,
   "id": "f8e44549-c704-480f-8c58-5176a8fc6ab5",
   "metadata": {},
   "outputs": [
    {
     "name": "stdout",
     "output_type": "stream",
     "text": [
      "140463499172800\n",
      "None\n",
      "4493126624\n"
     ]
    }
   ],
   "source": [
    "li = [1, 2, 3, 4]\n",
    "\n",
    "print(id(li))\n",
    "\n",
    "li = list_increment(li)\n",
    "\n",
    "print(li)\n",
    "\n",
    "print(id(li))"
   ]
  },
  {
   "cell_type": "markdown",
   "id": "264d7165-f167-461c-96ee-46507a55cbc9",
   "metadata": {},
   "source": [
    "Now It will return new list as output."
   ]
  },
  {
   "cell_type": "markdown",
   "id": "68e6801c-e207-48b3-9d9f-038bfa2deab2",
   "metadata": {},
   "source": [
    "### <span style=\"color:orange\">**Problem :**</span> Reverse a List\n",
    "\n",
    "Let's say a list of size `n` is given.\n",
    "\n",
    "`li = [1, 2, 3, 4, 5, 6]` ; if n is `even`\n",
    "\n",
    "`li = [1, 2, 3, 4, 5, 6, 7]` ; if n `odd`"
   ]
  },
  {
   "attachments": {
    "b07e032b-7fb3-43f0-9688-acb81305b06e.png": {
     "image/png": "[encoded data removed]"
    }
   },
   "cell_type": "markdown",
   "id": "6a4823a3-ac79-4208-a9a0-8d867057ede6",
   "metadata": {},
   "source": [
    "* To reverse a list, We need to swap elements till mid of the list like `n/2` if n is size of the list.\n",
    "\n",
    "![Screenshot 2024-01-14 at 2.27.32 AM.png](attachment:b07e032b-7fb3-43f0-9688-acb81305b06e.png)"
   ]
  },
  {
   "attachments": {
    "a517856b-959f-4157-967b-07735ecba856.png": {
     "image/png": "[encoded data removed]"
    }
   },
   "cell_type": "markdown",
   "id": "b0b76639-aca0-4389-8a9c-1d656a6311ce",
   "metadata": {},
   "source": [
    "* So every element at index `i` will be swapped with `n-i-1` indexed element till `n/2`.\n",
    "\n",
    "* For swap we can use `a, b = b, a` in python.\n",
    "\n",
    "* We can also use negative indexing for reversing a list.\n",
    "\n",
    "![Screenshot 2024-01-14 at 2.31.32 AM.png](attachment:a517856b-959f-4157-967b-07735ecba856.png)"
   ]
  },
  {
   "cell_type": "markdown",
   "id": "92c5164c-1c95-46c2-8556-6376b53fa128",
   "metadata": {},
   "source": [
    "* So every element at index `i` will be swapped with `-i-1` indexed element till `n/2`"
   ]
  },
  {
   "cell_type": "code",
   "execution_count": 101,
   "id": "421e1547-6e78-45f6-a8b3-d9a24b5d4933",
   "metadata": {},
   "outputs": [],
   "source": [
    "def reverse_list(li):\n",
    "    n = len(li)\n",
    "\n",
    "    for i in range(n//2):\n",
    "        li[i], li[n-i-1] = li[n-i-1], li[i]"
   ]
  },
  {
   "cell_type": "code",
   "execution_count": 102,
   "id": "07224880-bf83-464e-94d4-cba135e18eea",
   "metadata": {},
   "outputs": [
    {
     "name": "stdout",
     "output_type": "stream",
     "text": [
      "[6, 5, 4, 3, 2, 1]\n"
     ]
    }
   ],
   "source": [
    "li = [1, 2, 3, 4, 5, 6]\n",
    "reverse_list(li)\n",
    "print(li)"
   ]
  },
  {
   "cell_type": "code",
   "execution_count": 103,
   "id": "b277d2ff-c8fc-47ba-a56a-9e90e64734a4",
   "metadata": {},
   "outputs": [
    {
     "name": "stdout",
     "output_type": "stream",
     "text": [
      "[7, 6, 5, 4, 3, 2, 1]\n"
     ]
    }
   ],
   "source": [
    "li = [1, 2, 3, 4, 5, 6, 7]\n",
    "reverse_list(li)\n",
    "print(li)"
   ]
  },
  {
   "cell_type": "markdown",
   "id": "06a02d92-7612-4c22-8246-ff31032012f5",
   "metadata": {},
   "source": [
    "* Alternate solution using negative indexing"
   ]
  },
  {
   "cell_type": "code",
   "execution_count": 104,
   "id": "979c9029-8001-4b38-9202-4dfe4b9e93bf",
   "metadata": {},
   "outputs": [],
   "source": [
    "def reverse_list_neg(li):\n",
    "    n = len(li)\n",
    "\n",
    "    for i in range(n//2):\n",
    "        li[i], li[-i-1] = li[-i-1], li[i]"
   ]
  },
  {
   "cell_type": "code",
   "execution_count": 105,
   "id": "e74d4245-170f-4f1c-86c8-e965c2117f5e",
   "metadata": {},
   "outputs": [
    {
     "name": "stdout",
     "output_type": "stream",
     "text": [
      "[6, 5, 4, 3, 2, 1]\n"
     ]
    }
   ],
   "source": [
    "li = [1, 2, 3, 4, 5, 6]\n",
    "reverse_list_neg(li)\n",
    "print(li)"
   ]
  },
  {
   "cell_type": "code",
   "execution_count": 106,
   "id": "8fdd2fef-981f-44da-a25c-d4d901842e6c",
   "metadata": {},
   "outputs": [
    {
     "name": "stdout",
     "output_type": "stream",
     "text": [
      "[7, 6, 5, 4, 3, 2, 1]\n"
     ]
    }
   ],
   "source": [
    "li = [1, 2, 3, 4, 5, 6, 7]\n",
    "reverse_list_neg(li)\n",
    "print(li)"
   ]
  },
  {
   "cell_type": "markdown",
   "id": "17489151-3057-4bbe-890f-7981a6cca153",
   "metadata": {},
   "source": [
    "### <span style=\"color:orange\">**Problem :**</span> Swap Alternate\n",
    "\n",
    "We have been given an list of size N. We need to swap every pair of alternate elements in the list.\n",
    "\n",
    "We don't need to print or return anything, just change in the input array itself.\n",
    "\n",
    "```\n",
    "Sample Input:  [9, 3, 6, 12, 4, 32]\n",
    "Sample Output: [3, 9, 12, 6, 32, 4]\n",
    "\n",
    "Sample Input:  [9, 3, 6, 12, 4, 32, 5, 11, 19]\n",
    "Sample Output: [3, 9, 12, 6, 32, 4, 11, 5, 19]\n",
    "```"
   ]
  },
  {
   "cell_type": "code",
   "execution_count": 107,
   "id": "a33c1f52-9de3-47f1-88cc-8a9cc58431e3",
   "metadata": {},
   "outputs": [],
   "source": [
    "def swap_alternate(li):\n",
    "    n = len(li)\n",
    "    \n",
    "    for i in range(0, n-1, 2):\n",
    "        li[i], li[i+1] = li[i+1], li[i]"
   ]
  },
  {
   "cell_type": "code",
   "execution_count": 108,
   "id": "daeed2be-8c31-4b54-b30e-3637ef1e4e57",
   "metadata": {},
   "outputs": [
    {
     "name": "stdout",
     "output_type": "stream",
     "text": [
      "[3, 9, 12, 6, 32, 4]\n"
     ]
    }
   ],
   "source": [
    "li = [9, 3, 6, 12, 4, 32]\n",
    "swap_alternate(li)\n",
    "print(li)"
   ]
  },
  {
   "cell_type": "code",
   "execution_count": 109,
   "id": "5e2dc837-2615-4397-9ca1-a632a5bb7b8e",
   "metadata": {},
   "outputs": [
    {
     "name": "stdout",
     "output_type": "stream",
     "text": [
      "[3, 9, 12, 6, 32, 4, 11, 5, 19]\n"
     ]
    }
   ],
   "source": [
    "li = [9, 3, 6, 12, 4, 32, 5, 11, 19]\n",
    "swap_alternate(li)\n",
    "print(li)"
   ]
  },
  {
   "cell_type": "markdown",
   "id": "094a942a-1951-43d7-9470-0a9ef2dba846",
   "metadata": {},
   "source": [
    "### <span style=\"color:orange\">**Problem :**</span> Find Unique\n",
    "\n",
    "We have been given an integer list of size N. Where N is equal to 2M+1.\n",
    "\n",
    "Now, In the given list, 'M' numbers are present twice and one number is present only once.\n",
    "\n",
    "We need to find and return that number which is unique in the list.\n",
    "\n",
    "**Note:** Unique element is always present in the list according to the given condition.\n",
    "\n",
    "```\n",
    "Sample Input:  [2, 3, 1, 6, 3, 6, 2]\n",
    "Sample Output: 1\n",
    "\n",
    "Sample Input:  [1, 3, 1, 3, 6, 6, 7, 10, 7]\n",
    "Sample Output: 10\n",
    "```"
   ]
  },
  {
   "cell_type": "markdown",
   "id": "2b79d4c4-c8f3-42fd-953b-21e5cf934da0",
   "metadata": {},
   "source": [
    "* We will compare element at specific index with elements at all other indices.\n",
    "\n",
    "* We will not just match the current index by itself so we will skip it."
   ]
  },
  {
   "cell_type": "code",
   "execution_count": 110,
   "id": "9f78d9b8-77a0-4982-96d9-449275269eb3",
   "metadata": {},
   "outputs": [],
   "source": [
    "def find_unique(li):\n",
    "    for i in range(len(li)):\n",
    "        if li[i] not in li[:i] and li[i] not in li[i+1:]:\n",
    "            return li[i]"
   ]
  },
  {
   "cell_type": "code",
   "execution_count": 111,
   "id": "78408b1d-0b8b-4df7-ba2c-a593592ecb1f",
   "metadata": {},
   "outputs": [
    {
     "name": "stdout",
     "output_type": "stream",
     "text": [
      "1\n"
     ]
    }
   ],
   "source": [
    "li = [2, 3, 1, 6, 3, 6, 2]\n",
    "print(find_unique(li))"
   ]
  },
  {
   "cell_type": "code",
   "execution_count": 112,
   "id": "5d7f31e5-0342-4325-ae04-b30d526c7c16",
   "metadata": {},
   "outputs": [
    {
     "name": "stdout",
     "output_type": "stream",
     "text": [
      "10\n"
     ]
    }
   ],
   "source": [
    "li = [1, 3, 1, 3, 6, 6, 7, 10, 7]\n",
    "print(find_unique(li))"
   ]
  },
  {
   "cell_type": "markdown",
   "id": "7493f070-6c3e-4418-89b6-3834be60bc7c",
   "metadata": {},
   "source": [
    "* Alternate solution"
   ]
  },
  {
   "cell_type": "code",
   "execution_count": 113,
   "id": "5fb740d6-ff75-499a-a893-3dc08d29d474",
   "metadata": {},
   "outputs": [],
   "source": [
    "def find_unique_2(li):\n",
    "    for i in range(len(li)):\n",
    "        flag = True\n",
    "        for j in range(len(li)):\n",
    "            if i != j and li[i] == li[j]:\n",
    "                flag = False\n",
    "                break\n",
    "        if flag == True:\n",
    "            return li[i]"
   ]
  },
  {
   "cell_type": "code",
   "execution_count": 114,
   "id": "eb27a894-3171-49ab-83a3-150fdd6813dd",
   "metadata": {},
   "outputs": [
    {
     "name": "stdout",
     "output_type": "stream",
     "text": [
      "1\n"
     ]
    }
   ],
   "source": [
    "li = [2, 3, 1, 6, 3, 6, 2]\n",
    "print(find_unique_2(li))"
   ]
  },
  {
   "cell_type": "code",
   "execution_count": 115,
   "id": "a65b0a1b-7a9d-4b8a-b0dc-8619e7c1e872",
   "metadata": {},
   "outputs": [
    {
     "name": "stdout",
     "output_type": "stream",
     "text": [
      "10\n"
     ]
    }
   ],
   "source": [
    "li = [1, 3, 1, 3, 6, 6, 7, 10, 7]\n",
    "print(find_unique_2(li))"
   ]
  },
  {
   "cell_type": "markdown",
   "id": "02dfae74-9d00-471f-9085-3b43c12973a8",
   "metadata": {},
   "source": [
    "### <span style=\"color:orange\">**Problem :**</span> Find Duplicate\n",
    "\n",
    "We have been given an integer list of size N which contains numbers from 0 to (N - 2). Each number is present at least once. That is, if N = 5, the list constitutes values ranging from 0 to 3 and among these, there is a single integer value that is present twice.\n",
    "\n",
    "We need to find and return that duplicate number present in the array.\n",
    "\n",
    "**Note:** Duplicate number is always present in the given list.\n",
    "\n",
    "```\n",
    "Sample Input:  [0, 7, 2, 5, 4, 7, 1, 3, 6]\n",
    "Sample Output: 7\n",
    "\n",
    "Sample Input:  [0, 3, 1, 5, 4, 3, 2]\n",
    "Sample Output: 3\n",
    "```"
   ]
  },
  {
   "cell_type": "code",
   "execution_count": 116,
   "id": "f28b84ac-9671-406d-bedb-e9f5e204afde",
   "metadata": {},
   "outputs": [],
   "source": [
    "def find_duplicate(li):\n",
    "    for i in range(len(li)):\n",
    "        if li[i] in li[:i] or li[i] in li[i+1:]:\n",
    "            return li[i]"
   ]
  },
  {
   "cell_type": "code",
   "execution_count": 117,
   "id": "122dc2ba-b12f-4b18-84bb-16e025b35454",
   "metadata": {},
   "outputs": [
    {
     "name": "stdout",
     "output_type": "stream",
     "text": [
      "7\n"
     ]
    }
   ],
   "source": [
    "li = [0, 7, 2, 5, 4, 7, 1, 3, 6]\n",
    "print(find_duplicate(li))"
   ]
  },
  {
   "cell_type": "code",
   "execution_count": 118,
   "id": "cd86f622-113e-4929-a012-8172bcb42715",
   "metadata": {},
   "outputs": [
    {
     "name": "stdout",
     "output_type": "stream",
     "text": [
      "3\n"
     ]
    }
   ],
   "source": [
    "li = [0, 3, 1, 5, 4, 3, 2]\n",
    "print(find_duplicate(li))"
   ]
  },
  {
   "cell_type": "markdown",
   "id": "571a3d3d-ef1c-49e9-ae7b-96e096019179",
   "metadata": {},
   "source": [
    "* Alternate Solution"
   ]
  },
  {
   "cell_type": "code",
   "execution_count": 119,
   "id": "1c46a492-d3c7-4d4f-befa-e848eb7ee314",
   "metadata": {},
   "outputs": [],
   "source": [
    "def find_duplicate_2(li):\n",
    "    for i in range(len(li)):\n",
    "        flag = False\n",
    "        for j in range(len(li)):\n",
    "            if i != j and li[i] == li[j]:\n",
    "                flag = True\n",
    "                break\n",
    "        if flag == True:\n",
    "            return li[i]"
   ]
  },
  {
   "cell_type": "code",
   "execution_count": 120,
   "id": "050a1215-3261-4d24-a8e7-4868fe9182e1",
   "metadata": {},
   "outputs": [
    {
     "name": "stdout",
     "output_type": "stream",
     "text": [
      "7\n"
     ]
    }
   ],
   "source": [
    "li = [0, 7, 2, 5, 4, 7, 1, 3, 6]\n",
    "print(find_duplicate_2(li))"
   ]
  },
  {
   "cell_type": "code",
   "execution_count": 121,
   "id": "d93dc8d1-1c3d-4d13-ae0b-5012b0df5b83",
   "metadata": {},
   "outputs": [
    {
     "name": "stdout",
     "output_type": "stream",
     "text": [
      "3\n"
     ]
    }
   ],
   "source": [
    "li = [0, 3, 1, 5, 4, 3, 2]\n",
    "print(find_duplicate_2(li))"
   ]
  },
  {
   "cell_type": "markdown",
   "id": "96d4a1dd-8b16-440f-8124-6d86c63f5d10",
   "metadata": {},
   "source": [
    "### <span style=\"color:orange\">**Problem :**</span> Intersection of Two Arrays\n",
    "\n",
    "We have been given two integer lists of size N and M, respectively.\n",
    "\n",
    "We need to print their intersection.\n",
    "\n",
    "An intersection for this problem can be defined when both the lists contain a particular value or, when there is a common value that exists in both the lists.\n",
    "\n",
    "**Note:** Input lists can contain duplicate elements.\n",
    "\n",
    "The intersection elements printed would be in the order they appear in the first list.\n",
    "\n",
    "```\n",
    "Sample Input:  [2, 6, 8, 5, 4, 3] and [2, 3, 4, 7]\n",
    "Sample Output: [2, 4, 3]\n",
    "```"
   ]
  },
  {
   "cell_type": "code",
   "execution_count": 122,
   "id": "f8e8fb71-af58-4d89-87b9-ee0625065972",
   "metadata": {},
   "outputs": [],
   "source": [
    "def array_intersection(li_1, li_2):\n",
    "    result = []\n",
    "    for i in range(len(li_1)):\n",
    "        for j in range(len(li_2)):\n",
    "            if li_1[i] == li_2[j]:\n",
    "                result.append(li_1[i])\n",
    "                li_2[j]=-987654321    # Changed the value to handle duplicates\n",
    "                li_1[i]=-123456789    # Changed the value to handle duplicates\n",
    "    return result"
   ]
  },
  {
   "cell_type": "code",
   "execution_count": 123,
   "id": "d090ddc7-c83e-4b60-99a5-3695fa93d6f7",
   "metadata": {},
   "outputs": [
    {
     "name": "stdout",
     "output_type": "stream",
     "text": [
      "[2, 4, 3]\n"
     ]
    }
   ],
   "source": [
    "li_1 = [2, 6, 8, 5, 4, 3]\n",
    "li_2 = [2, 3, 4, 7]\n",
    "print(array_intersection(li_1, li_2))"
   ]
  },
  {
   "cell_type": "code",
   "execution_count": 124,
   "id": "f75a347f-3556-4e09-9134-744170270d65",
   "metadata": {},
   "outputs": [
    {
     "name": "stdout",
     "output_type": "stream",
     "text": [
      "[2, 3, 4, 3]\n"
     ]
    }
   ],
   "source": [
    "li_1 = [2, 6, 8, 3, 5, 4, 3]\n",
    "li_2 = [2, 3, 3, 4, 7]\n",
    "print(array_intersection(li_1, li_2))"
   ]
  },
  {
   "cell_type": "markdown",
   "id": "83596a90-3b9f-41c2-8d63-f333b02a388f",
   "metadata": {},
   "source": [
    "### <span style=\"color:orange\">**Problem :**</span> Pair Sum\n",
    "\n",
    "We have been given an integer list and a number X. Find and return the total number of pairs in the list which sum to X.\n",
    "\n",
    "**Note:** Given list can contain duplicate elements.\n",
    "\n",
    "```\n",
    "Sample Input: [1, 3, 6, 2, 5, 4, 3, 2, 4] and 7\n",
    "Sample Output: 7\n",
    "\n",
    "Sample Input: [1, 3, 6, 2, 5, 4, 3, 2, 4] and 12\n",
    "Sample Output: 0\n",
    "```"
   ]
  },
  {
   "cell_type": "code",
   "execution_count": 125,
   "id": "dee0663d-5b3c-4241-85a9-c8f9a40e5e79",
   "metadata": {},
   "outputs": [],
   "source": [
    "def pair_sum(li, x):\n",
    "    count = 0\n",
    "    \n",
    "    for i in range(len(li)):\n",
    "        for j in range(i+1, len(li)):\n",
    "            if li[i] + li[j] == x:\n",
    "                count += 1\n",
    "    return count"
   ]
  },
  {
   "cell_type": "code",
   "execution_count": 126,
   "id": "8245c024-89ec-4d94-a6b8-0f06bc8a335a",
   "metadata": {},
   "outputs": [
    {
     "name": "stdout",
     "output_type": "stream",
     "text": [
      "7\n"
     ]
    }
   ],
   "source": [
    "li = [1, 3, 6, 2, 5, 4, 3, 2, 4]\n",
    "x = 7\n",
    "print(pair_sum(li, x))"
   ]
  },
  {
   "cell_type": "code",
   "execution_count": 127,
   "id": "c275afc1-6d01-463c-a0d1-ae22ec35d2aa",
   "metadata": {},
   "outputs": [
    {
     "name": "stdout",
     "output_type": "stream",
     "text": [
      "0\n"
     ]
    }
   ],
   "source": [
    "li = [1, 3, 6, 2, 5, 4, 3, 2, 4]\n",
    "x = 12\n",
    "print(pair_sum(li, x))"
   ]
  },
  {
   "cell_type": "code",
   "execution_count": 128,
   "id": "fa478501-8035-4d41-832e-eb0a51927c32",
   "metadata": {},
   "outputs": [
    {
     "name": "stdout",
     "output_type": "stream",
     "text": [
      "9\n"
     ]
    }
   ],
   "source": [
    "li = [1, 3, 3, 6, 2, 5, 4, 3, 2, 4]\n",
    "x = 7\n",
    "print(pair_sum(li, x))"
   ]
  },
  {
   "cell_type": "markdown",
   "id": "23db3a62-07b7-4b5c-ba66-73b1ed190f65",
   "metadata": {},
   "source": [
    "### <span style=\"color:orange\">**Problem :**</span> Triplet Sum\n",
    "\n",
    "We have been given a random integer list and a number X. Find and return the number of triplets in the list which sum to X.\n",
    "\n",
    "**Note:** Given array/list can contain duplicate elements.\n",
    "\n",
    "```\n",
    "Sample Input: [1, 2, 3, 4, 5, 6, 7] and 12\n",
    "Sample Output: 5\n",
    "\n",
    "Sample Input: [1, 2, 3, 4, 5, 6, 7] and 19\n",
    "Sample Output: 0\n",
    "```"
   ]
  },
  {
   "cell_type": "code",
   "execution_count": 129,
   "id": "10672f0e-dce4-4c8d-9864-3a4ad74a307e",
   "metadata": {},
   "outputs": [],
   "source": [
    "def triplet_sum(li, x):\n",
    "    count = 0\n",
    "    \n",
    "    for i in range(len(li)):\n",
    "        for j in range(i+1, len(li)):\n",
    "            for k in range(j+1, len(li)):\n",
    "                if li[i] + li[j] + li[k] == x:\n",
    "                    count += 1\n",
    "    return count"
   ]
  },
  {
   "cell_type": "code",
   "execution_count": 130,
   "id": "f24e2e3c-cd85-46c7-bc72-3b921069553a",
   "metadata": {},
   "outputs": [
    {
     "name": "stdout",
     "output_type": "stream",
     "text": [
      "5\n"
     ]
    }
   ],
   "source": [
    "li = [1, 2, 3, 4, 5, 6, 7]\n",
    "x = 12\n",
    "print(triplet_sum(li, x))"
   ]
  },
  {
   "cell_type": "code",
   "execution_count": 131,
   "id": "5d76319f-9d86-4097-8680-1a24e6a328db",
   "metadata": {},
   "outputs": [
    {
     "name": "stdout",
     "output_type": "stream",
     "text": [
      "0\n"
     ]
    }
   ],
   "source": [
    "li = [1, 2, 3, 4, 5, 6, 7]\n",
    "x = 19\n",
    "print(triplet_sum(li, x))"
   ]
  },
  {
   "cell_type": "code",
   "execution_count": 132,
   "id": "4948a323-d834-4a90-9a7a-853720197ab4",
   "metadata": {},
   "outputs": [
    {
     "name": "stdout",
     "output_type": "stream",
     "text": [
      "5\n"
     ]
    }
   ],
   "source": [
    "li = [2, -5, 8, -6, 0, 5, 10, 11, -3]\n",
    "x = 10\n",
    "print(triplet_sum(li, x))"
   ]
  },
  {
   "cell_type": "markdown",
   "id": "000fde3f-b2f9-4f8d-aea4-719cb528d263",
   "metadata": {},
   "source": [
    "### <span style=\"color:orange\">**Problem :**</span> Sort 0 1\n",
    "\n",
    "We have been given an integer list of size N that contains only integers, 0 and 1. Write a function to sort this list. Think of a solution which scans the list only once and don't require use of an extra list.\n",
    "\n",
    "**Note:** You need to change in the given array/list itself. Hence, no need to return or print anything.\n",
    "\n",
    "```\n",
    "Sample Input: [0, 1, 1, 0, 1, 0, 1]\n",
    "Sample Output: [0, 0, 0, 1, 1, 1, 1]\n",
    "\n",
    "Sample Input: [1, 0, 1, 1, 0, 1, 0, 1]\n",
    "Sample Output: [0, 0, 0, 1, 1, 1, 1, 1]\n",
    "```"
   ]
  },
  {
   "cell_type": "code",
   "execution_count": 133,
   "id": "57e7d7ae-eaf1-4f25-9ed3-e92254b16d80",
   "metadata": {},
   "outputs": [],
   "source": [
    "def sort_array(li):\n",
    "    i = 0\n",
    "    j = len(li) - 1\n",
    "    while i != j:\n",
    "        if li[i] == 0:\n",
    "            i += 1\n",
    "        else:\n",
    "            if li[j] == 1:\n",
    "                j -= 1\n",
    "            else:\n",
    "                li[i], li[j] = li[j], li[i]"
   ]
  },
  {
   "cell_type": "code",
   "execution_count": 134,
   "id": "a8113753-2b33-4a57-a4a5-43826c6695fc",
   "metadata": {},
   "outputs": [
    {
     "name": "stdout",
     "output_type": "stream",
     "text": [
      "[0, 0, 0, 1, 1, 1, 1]\n"
     ]
    }
   ],
   "source": [
    "li = [0, 1, 1, 0, 1, 0, 1]\n",
    "sort_array(li)\n",
    "print(li)"
   ]
  },
  {
   "cell_type": "code",
   "execution_count": 135,
   "id": "2bb06afd-203e-477a-92ea-0e4b9fc19314",
   "metadata": {},
   "outputs": [
    {
     "name": "stdout",
     "output_type": "stream",
     "text": [
      "[0, 0, 0, 1, 1, 1, 1, 1]\n"
     ]
    }
   ],
   "source": [
    "li = [1, 0, 1, 1, 0, 1, 0, 1]\n",
    "sort_array(li)\n",
    "print(li)"
   ]
  }
 ],
 "metadata": {
  "kernelspec": {
   "display_name": "Python 3 (ipykernel)",
   "language": "python",
   "name": "python3"
  },
  "language_info": {
   "codemirror_mode": {
    "name": "ipython",
    "version": 3
   },
   "file_extension": ".py",
   "mimetype": "text/x-python",
   "name": "python",
   "nbconvert_exporter": "python",
   "pygments_lexer": "ipython3",
   "version": "3.9.12"
  }
 },
 "nbformat": 4,
 "nbformat_minor": 5
}

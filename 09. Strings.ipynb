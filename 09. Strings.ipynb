{
 "cells": [
  {
   "attachments": {
    "c9494563-7284-4c71-9fe4-40d31b4558ff.gif": {
     "image/gif": "[encoded data removed]"
    },
    "ecd1af6f-8660-4379-b68f-bad3ed6d67c8.gif": {
     "image/gif": "[encoded data removed]"
    }
   },
   "cell_type": "markdown",
   "id": "6885e0ee-ae18-420f-8084-3bba2397589a",
   "metadata": {},
   "source": [
    "[![icons8-linkedin.gif](attachment:c9494563-7284-4c71-9fe4-40d31b4558ff.gif 'Author : Suryakant Kumar')](https://www.linkedin.com/in/suryakantkumar/)[![icons8-github.gif](attachment:ecd1af6f-8660-4379-b68f-bad3ed6d67c8.gif 'Author : Suryakant Kumar')](https://github.com/SuryakantKumar)"
   ]
  },
  {
   "cell_type": "markdown",
   "id": "f2170769-4e43-41c1-8521-364e720a55c7",
   "metadata": {},
   "source": [
    "# <span style=\"color:skyblue\">**Strings**</span>\n",
    "\n",
    "In Python, a `string` is a sequence of characters enclosed within either single quotes `'` or double quotes `\"`. It is used to represent text data."
   ]
  },
  {
   "cell_type": "code",
   "execution_count": 1,
   "id": "e0a049dc-2887-479e-a5b5-393112c13851",
   "metadata": {},
   "outputs": [],
   "source": [
    "name = 'suryakant'\n",
    "brother = \"shashikant\""
   ]
  },
  {
   "cell_type": "code",
   "execution_count": 2,
   "id": "f1b90bd5-28dd-40a7-860b-54ccde20b1bc",
   "metadata": {},
   "outputs": [
    {
     "name": "stdout",
     "output_type": "stream",
     "text": [
      "suryakant\n"
     ]
    }
   ],
   "source": [
    "print(name)"
   ]
  },
  {
   "cell_type": "code",
   "execution_count": 3,
   "id": "5e8d7525-b598-4e25-b08e-da57b8d59593",
   "metadata": {},
   "outputs": [
    {
     "name": "stdout",
     "output_type": "stream",
     "text": [
      "shashikant\n"
     ]
    }
   ],
   "source": [
    "print(brother)"
   ]
  },
  {
   "cell_type": "code",
   "execution_count": 4,
   "id": "a3442ec2-e924-4e3b-8855-54baec2e03ad",
   "metadata": {},
   "outputs": [
    {
     "ename": "SyntaxError",
     "evalue": "EOL while scanning string literal (3522654032.py, line 1)",
     "output_type": "error",
     "traceback": [
      "\u001b[0;36m  Input \u001b[0;32mIn [4]\u001b[0;36m\u001b[0m\n\u001b[0;31m    details = \"I am suryakant.\u001b[0m\n\u001b[0m                              ^\u001b[0m\n\u001b[0;31mSyntaxError\u001b[0m\u001b[0;31m:\u001b[0m EOL while scanning string literal\n"
     ]
    }
   ],
   "source": [
    "details = \"I am suryakant.\n",
    "I am from Nalanda, Bihar.\""
   ]
  },
  {
   "cell_type": "markdown",
   "id": "38f5b711-8007-4022-82c1-b43958327021",
   "metadata": {},
   "source": [
    "* We can use single or double quotes just to represent single-line strings."
   ]
  },
  {
   "cell_type": "markdown",
   "id": "38033f74-85ba-42c6-8b22-5786d2975807",
   "metadata": {},
   "source": [
    "* Python allows multi-line strings by enclosing them within triple quotes `'''` or `\"\"\"`. This is useful for writing multi-line comments / document string inside the code."
   ]
  },
  {
   "cell_type": "code",
   "execution_count": 5,
   "id": "b5ea96d2-0d86-4909-b2f3-9883701e6c54",
   "metadata": {},
   "outputs": [],
   "source": [
    "details = \"\"\"I am suryakant.\n",
    "I am from Nalanda, Bihar.\"\"\""
   ]
  },
  {
   "cell_type": "code",
   "execution_count": 6,
   "id": "d7e28e11-493f-41e9-b810-0c1a92231d14",
   "metadata": {},
   "outputs": [
    {
     "name": "stdout",
     "output_type": "stream",
     "text": [
      "I am suryakant.\n",
      "I am from Nalanda, Bihar.\n"
     ]
    }
   ],
   "source": [
    "print(details)"
   ]
  },
  {
   "cell_type": "markdown",
   "id": "8269dc96-fb46-4e52-8086-c8e45d9f96f6",
   "metadata": {},
   "source": [
    "### <span style=\"color:orange\">Memory Representation of Strings</span>\n",
    "\n",
    "If we initialize a variable containing string values, then that string value will get stored in the memory at some address and then the memory address of that value will be given to the variable.\n",
    "\n",
    "When same string value will get assigned to different variables, then same memory reference will be provided to all different variables, in case of small size strings."
   ]
  },
  {
   "cell_type": "code",
   "execution_count": 7,
   "id": "b7685c28-652e-4673-8218-be99dfd33472",
   "metadata": {},
   "outputs": [
    {
     "name": "stdout",
     "output_type": "stream",
     "text": [
      "140206076912688\n"
     ]
    }
   ],
   "source": [
    "city = \"nalanda\"\n",
    "\n",
    "print(id(city))"
   ]
  },
  {
   "cell_type": "code",
   "execution_count": 8,
   "id": "265a184c-d894-4928-a556-b635d8e661db",
   "metadata": {},
   "outputs": [
    {
     "name": "stdout",
     "output_type": "stream",
     "text": [
      "140206076912688\n"
     ]
    }
   ],
   "source": [
    "district = \"nalanda\"\n",
    "\n",
    "print(id(district))"
   ]
  },
  {
   "cell_type": "markdown",
   "id": "0a8036a9-498f-48fa-ad60-0b9dc9676bb4",
   "metadata": {},
   "source": [
    "### <span style=\"color:orange\">Indexing in String</span>\n",
    "\n",
    "Strings can be indexed.\n",
    "\n",
    "Python uses zero-based indexing, meaning the first character of a string has an index of `0`."
   ]
  },
  {
   "cell_type": "code",
   "execution_count": 9,
   "id": "8d708373-b131-4f52-b41b-ee768d799373",
   "metadata": {},
   "outputs": [],
   "source": [
    "name = \"suryakant\""
   ]
  },
  {
   "cell_type": "code",
   "execution_count": 10,
   "id": "a0e1c1a3-b025-425e-be08-ed6f2d36c031",
   "metadata": {},
   "outputs": [
    {
     "data": {
      "text/plain": [
       "'s'"
      ]
     },
     "execution_count": 10,
     "metadata": {},
     "output_type": "execute_result"
    }
   ],
   "source": [
    "name[0]"
   ]
  },
  {
   "cell_type": "code",
   "execution_count": 11,
   "id": "262ff056-660f-4fb8-a31d-ad9a5a1161d0",
   "metadata": {},
   "outputs": [
    {
     "data": {
      "text/plain": [
       "'u'"
      ]
     },
     "execution_count": 11,
     "metadata": {},
     "output_type": "execute_result"
    }
   ],
   "source": [
    "name[1]"
   ]
  },
  {
   "cell_type": "code",
   "execution_count": 12,
   "id": "9fef16cd-c1e4-4b5a-b92d-48aaa207e0de",
   "metadata": {},
   "outputs": [
    {
     "ename": "IndexError",
     "evalue": "string index out of range",
     "output_type": "error",
     "traceback": [
      "\u001b[0;31m---------------------------------------------------------------------------\u001b[0m",
      "\u001b[0;31mIndexError\u001b[0m                                Traceback (most recent call last)",
      "Input \u001b[0;32mIn [12]\u001b[0m, in \u001b[0;36m<cell line: 1>\u001b[0;34m()\u001b[0m\n\u001b[0;32m----> 1\u001b[0m \u001b[43mname\u001b[49m\u001b[43m[\u001b[49m\u001b[38;5;241;43m10\u001b[39;49m\u001b[43m]\u001b[49m\n",
      "\u001b[0;31mIndexError\u001b[0m: string index out of range"
     ]
    }
   ],
   "source": [
    "name[10]"
   ]
  },
  {
   "cell_type": "markdown",
   "id": "7ea19150-4235-4081-8307-c25be99e3c21",
   "metadata": {},
   "source": [
    "* Python strings also uses negative indexing."
   ]
  },
  {
   "cell_type": "code",
   "execution_count": 13,
   "id": "0710055c-6673-4281-bc57-9275529f2158",
   "metadata": {},
   "outputs": [
    {
     "data": {
      "text/plain": [
       "'t'"
      ]
     },
     "execution_count": 13,
     "metadata": {},
     "output_type": "execute_result"
    }
   ],
   "source": [
    "name[-1]"
   ]
  },
  {
   "cell_type": "code",
   "execution_count": 14,
   "id": "5057e633-c0d6-4e8e-8c3c-1bb4dd11da81",
   "metadata": {},
   "outputs": [
    {
     "data": {
      "text/plain": [
       "'s'"
      ]
     },
     "execution_count": 14,
     "metadata": {},
     "output_type": "execute_result"
    }
   ],
   "source": [
    "name[-9]"
   ]
  },
  {
   "cell_type": "markdown",
   "id": "9dcedd7e-21e8-478a-846e-cc4fa3da5fb6",
   "metadata": {
    "tags": []
   },
   "source": [
    "### <span style=\"color:orange\">Escape Characters</span>\n",
    "\n",
    "Python supports escape characters such as `\\n` (newline), `\\t` (tab), `\\r` (carriage return), `\\\\` (backslash), `\\'` (single quote), and `\\\"` (double quote) within strings."
   ]
  },
  {
   "cell_type": "code",
   "execution_count": 15,
   "id": "492f2bf4-f704-4049-bb07-eafca1021a9c",
   "metadata": {},
   "outputs": [
    {
     "data": {
      "text/plain": [
       "'I am suryakant.\\nI am from Nalanda, Bihar.'"
      ]
     },
     "execution_count": 15,
     "metadata": {},
     "output_type": "execute_result"
    }
   ],
   "source": [
    "details"
   ]
  },
  {
   "cell_type": "code",
   "execution_count": 16,
   "id": "df785500-61a5-4570-87da-8b70d00d021b",
   "metadata": {},
   "outputs": [
    {
     "data": {
      "text/plain": [
       "'\\n'"
      ]
     },
     "execution_count": 16,
     "metadata": {},
     "output_type": "execute_result"
    }
   ],
   "source": [
    "details[15]"
   ]
  },
  {
   "cell_type": "markdown",
   "id": "e8f5dff5-dcfa-45a1-bfd5-c9623e90520f",
   "metadata": {},
   "source": [
    "### <span style=\"color:orange\">Slicing of Strings</span>\n",
    "\n",
    "Strings can be sliced to access individual characters or substrings.\n",
    "\n",
    "There are three values needed when we slice any string :\n",
    "\n",
    "* `start` : Starting index of the substring. By default starts from `0`.\n",
    "\n",
    "* `end` : Starting index of the substring. By default ends at length of the string.\n",
    "\n",
    "* `stride / step` : Value of the step. By default keeps `1` as step."
   ]
  },
  {
   "cell_type": "code",
   "execution_count": 17,
   "id": "f51b2c92-99c5-48f0-af68-f2c696249021",
   "metadata": {},
   "outputs": [],
   "source": [
    "name = \"suryakant\""
   ]
  },
  {
   "cell_type": "code",
   "execution_count": 18,
   "id": "ab006b7c-3071-4adc-bd1b-941816343fc6",
   "metadata": {},
   "outputs": [
    {
     "data": {
      "text/plain": [
       "'surya'"
      ]
     },
     "execution_count": 18,
     "metadata": {},
     "output_type": "execute_result"
    }
   ],
   "source": [
    "name[0:5]"
   ]
  },
  {
   "cell_type": "code",
   "execution_count": 19,
   "id": "9f9fae71-7ab7-4252-a445-fc29eb022651",
   "metadata": {},
   "outputs": [
    {
     "data": {
      "text/plain": [
       "'surya'"
      ]
     },
     "execution_count": 19,
     "metadata": {},
     "output_type": "execute_result"
    }
   ],
   "source": [
    "name[0:5:1]"
   ]
  },
  {
   "cell_type": "code",
   "execution_count": 20,
   "id": "e3955742-4cf7-4ad5-a1c9-9a30d56b5bfd",
   "metadata": {},
   "outputs": [
    {
     "data": {
      "text/plain": [
       "'uan'"
      ]
     },
     "execution_count": 20,
     "metadata": {},
     "output_type": "execute_result"
    }
   ],
   "source": [
    "name[1:9:3]"
   ]
  },
  {
   "cell_type": "markdown",
   "id": "aa2955b3-9878-49fd-8d9b-66d9125b99e5",
   "metadata": {},
   "source": [
    "* It will give null string as output, if the start index crosses the length of the string."
   ]
  },
  {
   "cell_type": "code",
   "execution_count": 21,
   "id": "055e72f1-825e-47fc-8980-6efca4ef439a",
   "metadata": {},
   "outputs": [
    {
     "data": {
      "text/plain": [
       "''"
      ]
     },
     "execution_count": 21,
     "metadata": {},
     "output_type": "execute_result"
    }
   ],
   "source": [
    "name[10:15]"
   ]
  },
  {
   "cell_type": "markdown",
   "id": "c94f31db-eecd-449b-881f-7c01a259c12e",
   "metadata": {},
   "source": [
    "* Slicing of strings happens on negative indexes as well."
   ]
  },
  {
   "cell_type": "code",
   "execution_count": 22,
   "id": "54f5199c-fcd2-43cd-a5b8-076d40add15c",
   "metadata": {},
   "outputs": [
    {
     "data": {
      "text/plain": [
       "'surya'"
      ]
     },
     "execution_count": 22,
     "metadata": {},
     "output_type": "execute_result"
    }
   ],
   "source": [
    "name[-9:-4]"
   ]
  },
  {
   "cell_type": "code",
   "execution_count": 23,
   "id": "f2129a06-099c-4989-9db8-46057c1aa56d",
   "metadata": {},
   "outputs": [
    {
     "data": {
      "text/plain": [
       "'sya'"
      ]
     },
     "execution_count": 23,
     "metadata": {},
     "output_type": "execute_result"
    }
   ],
   "source": [
    "name[-9:-1:3]"
   ]
  },
  {
   "cell_type": "markdown",
   "id": "9fc1158a-244f-42b6-a8b2-2452af0cc1d1",
   "metadata": {},
   "source": [
    "* Slicing happens in forward direction only whether we use positive or negative indexing."
   ]
  },
  {
   "cell_type": "code",
   "execution_count": 24,
   "id": "749c6442-dd95-4450-9f3c-b20ecc9bd475",
   "metadata": {},
   "outputs": [
    {
     "data": {
      "text/plain": [
       "'kant'"
      ]
     },
     "execution_count": 24,
     "metadata": {},
     "output_type": "execute_result"
    }
   ],
   "source": [
    "name[5:]"
   ]
  },
  {
   "cell_type": "code",
   "execution_count": 25,
   "id": "01ace900-282a-4eb1-869e-8bf6a5628cd0",
   "metadata": {},
   "outputs": [
    {
     "data": {
      "text/plain": [
       "'surya'"
      ]
     },
     "execution_count": 25,
     "metadata": {},
     "output_type": "execute_result"
    }
   ],
   "source": [
    "name[:5]"
   ]
  },
  {
   "cell_type": "markdown",
   "id": "e3e9b8ed-d79b-4e82-9374-cfee295447d8",
   "metadata": {},
   "source": [
    "* If the end index will cross the length of the string, It will consider only till the last element, instead of throwing any error."
   ]
  },
  {
   "cell_type": "code",
   "execution_count": 26,
   "id": "dab0ad46-e05b-43cf-a5d8-35fe32a67f26",
   "metadata": {},
   "outputs": [
    {
     "data": {
      "text/plain": [
       "'kant'"
      ]
     },
     "execution_count": 26,
     "metadata": {},
     "output_type": "execute_result"
    }
   ],
   "source": [
    "name[5:15]"
   ]
  },
  {
   "cell_type": "markdown",
   "id": "f4394844-242a-4d3e-83f8-4dece13f6b77",
   "metadata": {},
   "source": [
    "* We can move in the `reverse` direction by using negative step value. Here index `4` will not be inclusive."
   ]
  },
  {
   "cell_type": "code",
   "execution_count": 27,
   "id": "25baa3af-c6d7-41a9-bc0c-ed531c44b937",
   "metadata": {},
   "outputs": [
    {
     "data": {
      "text/plain": [
       "'tnak'"
      ]
     },
     "execution_count": 27,
     "metadata": {},
     "output_type": "execute_result"
    }
   ],
   "source": [
    "name[9:4:-1]"
   ]
  },
  {
   "cell_type": "markdown",
   "id": "bd075853-5c36-4c8a-a389-0a360828bba2",
   "metadata": {},
   "source": [
    "* We can reverse the whole string by only assigning the negative value of step."
   ]
  },
  {
   "cell_type": "code",
   "execution_count": 28,
   "id": "7c2987fa-5ab0-4fb8-b685-1f0235c47404",
   "metadata": {},
   "outputs": [
    {
     "data": {
      "text/plain": [
       "'tnakayrus'"
      ]
     },
     "execution_count": 28,
     "metadata": {},
     "output_type": "execute_result"
    }
   ],
   "source": [
    "name[::-1]"
   ]
  },
  {
   "cell_type": "markdown",
   "id": "4edca131-a4b5-4086-935a-f7a820fbb60c",
   "metadata": {
    "tags": []
   },
   "source": [
    "### <span style=\"color:orange\">Strings are Immutable</span>\n",
    "\n",
    "Once a string is created, it cannot be modified.\n",
    "\n",
    "We can create a new string by modifying or concatenating existing strings, but the original string remains unchanged."
   ]
  },
  {
   "cell_type": "code",
   "execution_count": 29,
   "id": "8dab0f0f-3e34-4dcb-a128-2379351ac359",
   "metadata": {},
   "outputs": [],
   "source": [
    "name = \"suryakant\""
   ]
  },
  {
   "cell_type": "code",
   "execution_count": 30,
   "id": "932cdd7c-db21-4a1a-a525-76d3868af742",
   "metadata": {},
   "outputs": [
    {
     "ename": "TypeError",
     "evalue": "'str' object does not support item assignment",
     "output_type": "error",
     "traceback": [
      "\u001b[0;31m---------------------------------------------------------------------------\u001b[0m",
      "\u001b[0;31mTypeError\u001b[0m                                 Traceback (most recent call last)",
      "Input \u001b[0;32mIn [30]\u001b[0m, in \u001b[0;36m<cell line: 1>\u001b[0;34m()\u001b[0m\n\u001b[0;32m----> 1\u001b[0m name[\u001b[38;5;241m0\u001b[39m:\u001b[38;5;241m5\u001b[39m] \u001b[38;5;241m=\u001b[39m \u001b[38;5;124m\"\u001b[39m\u001b[38;5;124mshashi\u001b[39m\u001b[38;5;124m\"\u001b[39m\n",
      "\u001b[0;31mTypeError\u001b[0m: 'str' object does not support item assignment"
     ]
    }
   ],
   "source": [
    "name[0:5] = \"shashi\""
   ]
  },
  {
   "cell_type": "markdown",
   "id": "9052d343-a929-4a80-9b78-85b0994e82fb",
   "metadata": {},
   "source": [
    "* We can't change the characters of a string using indexing or slicing, that's why strings are immutable."
   ]
  },
  {
   "cell_type": "markdown",
   "id": "3ef70267-8fd5-40d7-9936-1e916bfdaaff",
   "metadata": {},
   "source": [
    "### <span style=\"color:orange\">String Concatenation</span>\n",
    "\n",
    "Adding or appending one string into another string is known as string concatenation.\n",
    "\n",
    "Concatenation of multiple strings creates a new string.\n",
    "\n",
    "We can concatenate strings using the `+` operator."
   ]
  },
  {
   "cell_type": "code",
   "execution_count": 31,
   "id": "5de061ec-94bd-488b-93fb-5f8574cdbbf9",
   "metadata": {},
   "outputs": [
    {
     "data": {
      "text/plain": [
       "'HelloWorld'"
      ]
     },
     "execution_count": 31,
     "metadata": {},
     "output_type": "execute_result"
    }
   ],
   "source": [
    "\"Hello\" + \"World\""
   ]
  },
  {
   "cell_type": "code",
   "execution_count": 32,
   "id": "a3ec8b9a-5daf-4310-953b-3eb1fb271ec3",
   "metadata": {},
   "outputs": [],
   "source": [
    "color = \"Blue\""
   ]
  },
  {
   "cell_type": "code",
   "execution_count": 33,
   "id": "644ac35d-a702-47c3-889f-c28087591409",
   "metadata": {},
   "outputs": [
    {
     "data": {
      "text/plain": [
       "'BlueWhite'"
      ]
     },
     "execution_count": 33,
     "metadata": {},
     "output_type": "execute_result"
    }
   ],
   "source": [
    "color + \"White\""
   ]
  },
  {
   "cell_type": "code",
   "execution_count": 34,
   "id": "5f46f6e7-f560-48d3-8489-7ceea6bd2354",
   "metadata": {},
   "outputs": [
    {
     "data": {
      "text/plain": [
       "'BlueWhiteBlack'"
      ]
     },
     "execution_count": 34,
     "metadata": {},
     "output_type": "execute_result"
    }
   ],
   "source": [
    "color + \"White\" + \"Black\""
   ]
  },
  {
   "cell_type": "markdown",
   "id": "b6e8fdcd-d377-41bf-8ab4-bb763fac64f8",
   "metadata": {},
   "source": [
    "* We can also use `*` operator to concatenate the same string any number of times."
   ]
  },
  {
   "cell_type": "code",
   "execution_count": 35,
   "id": "47372d81-9b02-45dc-809f-e5c4584f8c4a",
   "metadata": {},
   "outputs": [
    {
     "data": {
      "text/plain": [
       "'BlueBlueBlue'"
      ]
     },
     "execution_count": 35,
     "metadata": {},
     "output_type": "execute_result"
    }
   ],
   "source": [
    "\"Blue\"*3"
   ]
  },
  {
   "cell_type": "code",
   "execution_count": 36,
   "id": "6b736c61-e6e1-414d-ba70-44607ae0c333",
   "metadata": {},
   "outputs": [
    {
     "data": {
      "text/plain": [
       "'BlueBlueBlue'"
      ]
     },
     "execution_count": 36,
     "metadata": {},
     "output_type": "execute_result"
    }
   ],
   "source": [
    "color*3"
   ]
  },
  {
   "cell_type": "markdown",
   "id": "35c398e3-f6c8-44ea-8a65-1ece1c2b4ce9",
   "metadata": {},
   "source": [
    "* We can not concatenate values with any other data type into string."
   ]
  },
  {
   "cell_type": "code",
   "execution_count": 37,
   "id": "7d743e65-b627-42e7-a199-5821ee883377",
   "metadata": {},
   "outputs": [
    {
     "ename": "TypeError",
     "evalue": "can only concatenate str (not \"int\") to str",
     "output_type": "error",
     "traceback": [
      "\u001b[0;31m---------------------------------------------------------------------------\u001b[0m",
      "\u001b[0;31mTypeError\u001b[0m                                 Traceback (most recent call last)",
      "Input \u001b[0;32mIn [37]\u001b[0m, in \u001b[0;36m<cell line: 1>\u001b[0;34m()\u001b[0m\n\u001b[0;32m----> 1\u001b[0m \u001b[38;5;124;43m\"\u001b[39;49m\u001b[38;5;124;43mBlue\u001b[39;49m\u001b[38;5;124;43m\"\u001b[39;49m\u001b[43m \u001b[49m\u001b[38;5;241;43m+\u001b[39;49m\u001b[43m \u001b[49m\u001b[38;5;241;43m3\u001b[39;49m\n",
      "\u001b[0;31mTypeError\u001b[0m: can only concatenate str (not \"int\") to str"
     ]
    }
   ],
   "source": [
    "\"Blue\" + 3"
   ]
  },
  {
   "cell_type": "code",
   "execution_count": 38,
   "id": "1e8b31f7-f43b-41f4-800b-9c11f167ea49",
   "metadata": {},
   "outputs": [
    {
     "ename": "TypeError",
     "evalue": "can only concatenate str (not \"float\") to str",
     "output_type": "error",
     "traceback": [
      "\u001b[0;31m---------------------------------------------------------------------------\u001b[0m",
      "\u001b[0;31mTypeError\u001b[0m                                 Traceback (most recent call last)",
      "Input \u001b[0;32mIn [38]\u001b[0m, in \u001b[0;36m<cell line: 1>\u001b[0;34m()\u001b[0m\n\u001b[0;32m----> 1\u001b[0m \u001b[38;5;124;43m\"\u001b[39;49m\u001b[38;5;124;43mBlue\u001b[39;49m\u001b[38;5;124;43m\"\u001b[39;49m\u001b[43m \u001b[49m\u001b[38;5;241;43m+\u001b[39;49m\u001b[43m \u001b[49m\u001b[38;5;241;43m2.0\u001b[39;49m\n",
      "\u001b[0;31mTypeError\u001b[0m: can only concatenate str (not \"float\") to str"
     ]
    }
   ],
   "source": [
    "\"Blue\" + 2.0"
   ]
  },
  {
   "cell_type": "code",
   "execution_count": 39,
   "id": "08a4d7ab-7e2c-4ee1-a2c9-2b6c2f2257c4",
   "metadata": {},
   "outputs": [
    {
     "ename": "TypeError",
     "evalue": "can only concatenate str (not \"bool\") to str",
     "output_type": "error",
     "traceback": [
      "\u001b[0;31m---------------------------------------------------------------------------\u001b[0m",
      "\u001b[0;31mTypeError\u001b[0m                                 Traceback (most recent call last)",
      "Input \u001b[0;32mIn [39]\u001b[0m, in \u001b[0;36m<cell line: 1>\u001b[0;34m()\u001b[0m\n\u001b[0;32m----> 1\u001b[0m \u001b[38;5;124;43m\"\u001b[39;49m\u001b[38;5;124;43mBlue\u001b[39;49m\u001b[38;5;124;43m\"\u001b[39;49m\u001b[43m \u001b[49m\u001b[38;5;241;43m+\u001b[39;49m\u001b[43m \u001b[49m\u001b[38;5;28;43;01mTrue\u001b[39;49;00m\n",
      "\u001b[0;31mTypeError\u001b[0m: can only concatenate str (not \"bool\") to str"
     ]
    }
   ],
   "source": [
    "\"Blue\" + True"
   ]
  },
  {
   "cell_type": "markdown",
   "id": "343931c4-e90e-4a6d-ae9a-617cea02f714",
   "metadata": {},
   "source": [
    "* But strings can contain any numeric values."
   ]
  },
  {
   "cell_type": "code",
   "execution_count": 40,
   "id": "0a5befb8-e83d-4e55-ba39-8de20d1cd527",
   "metadata": {},
   "outputs": [
    {
     "data": {
      "text/plain": [
       "str"
      ]
     },
     "execution_count": 40,
     "metadata": {},
     "output_type": "execute_result"
    }
   ],
   "source": [
    "new_color = \"Blue2.0\"\n",
    "\n",
    "type(new_color)"
   ]
  },
  {
   "cell_type": "markdown",
   "id": "04758b6f-b407-478d-92e1-a5e5295dd092",
   "metadata": {},
   "source": [
    "* We can use `str()` method to convert values with other data type to string first, then we can perform any kind of string operations."
   ]
  },
  {
   "cell_type": "code",
   "execution_count": 41,
   "id": "6bab87af-922d-4b00-bc58-cda72df2e2c7",
   "metadata": {},
   "outputs": [
    {
     "data": {
      "text/plain": [
       "'Blue2.0'"
      ]
     },
     "execution_count": 41,
     "metadata": {},
     "output_type": "execute_result"
    }
   ],
   "source": [
    "color + str(2.0)"
   ]
  },
  {
   "cell_type": "markdown",
   "id": "a5c4e75d-a57e-45d5-a4ab-c8362a733453",
   "metadata": {},
   "source": [
    "### <span style=\"color:orange\">Iteration on String</span>\n",
    "\n",
    "In Python, We can iterate over a string using a variety of methods, such as using a `for loop`, `while loop`, or `list comprehension`."
   ]
  },
  {
   "cell_type": "markdown",
   "id": "96305011-4562-412d-b6c4-5d08900d7167",
   "metadata": {},
   "source": [
    "### <span style=\"color:orange\">**Problem:** </span>Occurance of a Character in a String\n",
    "\n",
    "We need to find the occurance of `l` in the string `hello world`.\n",
    "\n",
    "* We can iterate over a string character by character."
   ]
  },
  {
   "cell_type": "code",
   "execution_count": 42,
   "id": "6188b33b-6d30-41b8-9a2c-608e7611a145",
   "metadata": {},
   "outputs": [
    {
     "name": "stdout",
     "output_type": "stream",
     "text": [
      "3\n"
     ]
    }
   ],
   "source": [
    "string = \"hello world\"\n",
    "\n",
    "count = 0\n",
    "for char in string:\n",
    "    if char == \"l\":\n",
    "        count += 1\n",
    "\n",
    "print(count)"
   ]
  },
  {
   "cell_type": "markdown",
   "id": "4254ab19-a07e-47e8-90c4-eed4cc1ef2bd",
   "metadata": {},
   "source": [
    "* We can also iterate over a string by using its Indexes."
   ]
  },
  {
   "cell_type": "code",
   "execution_count": 43,
   "id": "76fae27c-6c6e-4cae-909f-cb43679da8ee",
   "metadata": {},
   "outputs": [
    {
     "name": "stdout",
     "output_type": "stream",
     "text": [
      "3\n"
     ]
    }
   ],
   "source": [
    "string = \"hello world\"\n",
    "\n",
    "count = 0\n",
    "for i in range(len(string)):\n",
    "    if string[i] == \"l\":\n",
    "        count += 1\n",
    "        \n",
    "print(count)"
   ]
  },
  {
   "cell_type": "markdown",
   "id": "eec1d0c0-9c3e-42ff-a0d4-e852d9355b44",
   "metadata": {},
   "source": [
    "### <span style=\"color:orange\">'in' / 'not in' Operators</span>\n",
    "\n",
    "In Python, `in` and `not in` operators are used to check for membership within a sequence, such as a string, list, tuple, or dictionary without having to iterate over the entire sequence.\n",
    "\n",
    "These are commonly used in conditional statements, loops, and list comprehensions for efficient data manipulation and filtering.\n",
    "\n",
    "* **`in` Operator:**\n",
    "\n",
    "    - The `in` operator checks if a specified value exists within a sequence.\n",
    "\n",
    "    - If the value is found in the sequence, the expression evaluates to `True` otherwise it evaluates to `False`.\n",
    "\n",
    "* **`not in` Operator:**\n",
    "\n",
    "    - The `not in` operator checks if a specified value does not exist within a sequence.\n",
    "\n",
    "    - If the value is not found in the sequence, the expression evaluates to `True` otherwise it evaluates to `False`."
   ]
  },
  {
   "cell_type": "code",
   "execution_count": 44,
   "id": "57aad4bc-c42a-4876-b7c8-fa5d6dbcf60f",
   "metadata": {},
   "outputs": [],
   "source": [
    "my_string = \"Hello, world!\""
   ]
  },
  {
   "cell_type": "code",
   "execution_count": 45,
   "id": "f042fcbb-b924-435c-a565-f4bc963c56b1",
   "metadata": {},
   "outputs": [
    {
     "data": {
      "text/plain": [
       "True"
      ]
     },
     "execution_count": 45,
     "metadata": {},
     "output_type": "execute_result"
    }
   ],
   "source": [
    "'H' in my_string"
   ]
  },
  {
   "cell_type": "code",
   "execution_count": 46,
   "id": "4b99ff52-c908-4388-9e67-967de3f97f07",
   "metadata": {},
   "outputs": [
    {
     "data": {
      "text/plain": [
       "False"
      ]
     },
     "execution_count": 46,
     "metadata": {},
     "output_type": "execute_result"
    }
   ],
   "source": [
    "'z' in my_string"
   ]
  },
  {
   "cell_type": "code",
   "execution_count": 47,
   "id": "ba321f3c-67e0-4172-8d00-d27fbc7a9fc2",
   "metadata": {},
   "outputs": [
    {
     "data": {
      "text/plain": [
       "True"
      ]
     },
     "execution_count": 47,
     "metadata": {},
     "output_type": "execute_result"
    }
   ],
   "source": [
    "'z' not in my_string"
   ]
  },
  {
   "cell_type": "code",
   "execution_count": 48,
   "id": "f76f583e-c1d7-4323-b872-60495efcb631",
   "metadata": {},
   "outputs": [
    {
     "data": {
      "text/plain": [
       "False"
      ]
     },
     "execution_count": 48,
     "metadata": {},
     "output_type": "execute_result"
    }
   ],
   "source": [
    "'H' not in my_string"
   ]
  },
  {
   "cell_type": "markdown",
   "id": "25f19e7a-bd5f-41d3-8a18-d09952683e10",
   "metadata": {},
   "source": [
    "### <span style=\"color:orange\">String Methods</span>\n",
    "\n",
    "Methods allow us to manipulate and perform operations on strings and return a new string.\n",
    "\n",
    "Python provides a variety of built-in methods for working with strings."
   ]
  },
  {
   "cell_type": "markdown",
   "id": "c11ee561-34bb-4a8f-b760-39eecc6717c9",
   "metadata": {},
   "source": [
    "### <span style=\"color:orange\">split()</span>\n",
    "\n",
    "In Python, the `split()` method is used to split a string into a `list` of substrings based on a specified `delimiter`.\n",
    "\n",
    "Here's the syntax of the `split()` method :\n",
    "\n",
    "```python\n",
    "string.split(sep=None, maxsplit=-1)\n",
    "```\n",
    "\n",
    "* `string` : The original string in which will be splitted.\n",
    "\n",
    "* `sep` (optional) : The delimiter to use for splitting the string. If no delimiter is specified, then whitespace characters like `spaces`, `tabs` and `newlines` are used by default.\n",
    "\n",
    "* `maxsplit` (optional) : The maximum number of splits to perform. If provided, the string is split at most `maxsplit` times. If `maxsplit` is not specified or `-1`, there is no limit on the number of splits."
   ]
  },
  {
   "cell_type": "code",
   "execution_count": 49,
   "id": "b05d887a-7132-47d0-b25c-c5f8aec5d4a0",
   "metadata": {},
   "outputs": [
    {
     "data": {
      "text/plain": [
       "['This', 'is', 'a', 'sample', 'sentence.']"
      ]
     },
     "execution_count": 49,
     "metadata": {},
     "output_type": "execute_result"
    }
   ],
   "source": [
    "sentence = \"This is a sample sentence.\"\n",
    "\n",
    "sentence.split()"
   ]
  },
  {
   "cell_type": "code",
   "execution_count": 50,
   "id": "00d33829-0ab7-4b2e-9d42-49cfbfea0d39",
   "metadata": {},
   "outputs": [
    {
     "data": {
      "text/plain": [
       "['This', 'is', 'a', 'sample', 'sentence.']"
      ]
     },
     "execution_count": 50,
     "metadata": {},
     "output_type": "execute_result"
    }
   ],
   "source": [
    "sentence.split(\" \")"
   ]
  },
  {
   "cell_type": "code",
   "execution_count": 51,
   "id": "c5fda84c-2a4f-41fe-8127-d240023c35d9",
   "metadata": {},
   "outputs": [
    {
     "data": {
      "text/plain": [
       "['apple', 'banana', 'orange']"
      ]
     },
     "execution_count": 51,
     "metadata": {},
     "output_type": "execute_result"
    }
   ],
   "source": [
    "sentence = \"apple,banana,orange\"\n",
    "\n",
    "sentence.split(\",\")"
   ]
  },
  {
   "cell_type": "code",
   "execution_count": 52,
   "id": "de646777-e0f5-4251-a804-beabf104ecbf",
   "metadata": {},
   "outputs": [
    {
     "data": {
      "text/plain": [
       "['one', 'two', 'three four five']"
      ]
     },
     "execution_count": 52,
     "metadata": {},
     "output_type": "execute_result"
    }
   ],
   "source": [
    "sentence = \"one two three four five\"\n",
    "\n",
    "sentence.split(\" \", maxsplit=2)"
   ]
  },
  {
   "cell_type": "markdown",
   "id": "6ddf01c9-d201-4ced-b39b-e448c39a10bc",
   "metadata": {},
   "source": [
    "### <span style=\"color:orange\">replace()</span>\n",
    "\n",
    "In Python, the `replace()` method is used to create a `new` string where `all` occurrences of a specified substring within the original string are replaced with another substring.\n",
    "\n",
    "The syntax for the `replace()` method is as follows :\n",
    "\n",
    "```python\n",
    "new_string = original_string.replace(old_substring, new_substring, count)\n",
    "```\n",
    "\n",
    "- `original_string` : The original string where replacements will be made.\n",
    "\n",
    "- `old_substring` : The substring to be replaced.\n",
    "\n",
    "- `new_substring` : The substring to replace the occurrences of existing substring.\n",
    "\n",
    "- `count` (optional) : An integer specifying the maximum number of replacements to make. If omitted, all occurrences of the existing substring are replaced."
   ]
  },
  {
   "cell_type": "code",
   "execution_count": 53,
   "id": "4e12fd63-4cab-4480-a100-9f30fcc3f568",
   "metadata": {},
   "outputs": [
    {
     "data": {
      "text/plain": [
       "'Hello, Python!'"
      ]
     },
     "execution_count": 53,
     "metadata": {},
     "output_type": "execute_result"
    }
   ],
   "source": [
    "original_string = \"Hello, world!\"\n",
    "\n",
    "original_string.replace('world', 'Python')"
   ]
  },
  {
   "cell_type": "code",
   "execution_count": 54,
   "id": "23991d0d-8ce9-48e9-a6db-d1cb1390a887",
   "metadata": {},
   "outputs": [
    {
     "data": {
      "text/plain": [
       "'four four two two one three three'"
      ]
     },
     "execution_count": 54,
     "metadata": {},
     "output_type": "execute_result"
    }
   ],
   "source": [
    "original_string = \"one one two two one three three\"\n",
    "\n",
    "original_string.replace('one', 'four', 2)"
   ]
  },
  {
   "cell_type": "code",
   "execution_count": 55,
   "id": "60e7a003-46c6-4adf-ab77-4ce95c8dde3a",
   "metadata": {},
   "outputs": [
    {
     "name": "stdout",
     "output_type": "stream",
     "text": [
      "140206093509456\n",
      "140206079111408\n"
     ]
    }
   ],
   "source": [
    "original_string = \"one one two two one three three\"\n",
    "\n",
    "print(id(original_string))\n",
    "\n",
    "new_string = original_string.replace('one', 'five')\n",
    "\n",
    "print(id(new_string))"
   ]
  },
  {
   "cell_type": "markdown",
   "id": "3e2ae6b2-c682-4878-9f64-0bf855f5a161",
   "metadata": {},
   "source": [
    "* If no occurrences of existing substring are found, the method will not return a new string, but just returns a copy of the original string without any changes."
   ]
  },
  {
   "cell_type": "code",
   "execution_count": 56,
   "id": "e3e86b03-7769-482a-9c9e-9fa006d7ff9d",
   "metadata": {},
   "outputs": [
    {
     "name": "stdout",
     "output_type": "stream",
     "text": [
      "140206093394352\n",
      "140206093394352\n"
     ]
    }
   ],
   "source": [
    "original_string = \"Hello, world!\"\n",
    "\n",
    "print(id(original_string))\n",
    "\n",
    "new_string = original_string.replace('surya', 'shashi')\n",
    "\n",
    "print(id(new_string))"
   ]
  },
  {
   "cell_type": "markdown",
   "id": "c8d7d1a2-1394-4866-92f2-f20e9ffb05bf",
   "metadata": {},
   "source": [
    "### <span style=\"color:orange\">find()</span>\n",
    "\n",
    "In Python, the `find()` method is used to search for a `substring` within a string and returns the position (`index`) of the `first` occurrence of the substring.\n",
    "\n",
    "If the substring is not found, it returns `-1`.\n",
    "\n",
    "It's commonly used in string manipulation tasks such as parsing or extracting data from text.\n",
    "\n",
    "Here's the syntax of the `find()` method :\n",
    "\n",
    "```python\n",
    "string.find(substring, start, end)\n",
    "```\n",
    "\n",
    "- `string`: The original string in which the search will be performed.\n",
    "\n",
    "- `substring`: The substring to search for.\n",
    "\n",
    "- `start` (optional - inclusive) : The index from which the search will be started. If not specified, the search starts from the beginning of the string.\n",
    "\n",
    "- `end` (optional - exclusive) : The index at which the search will end. If not specified, the search continues to the end of the string."
   ]
  },
  {
   "cell_type": "code",
   "execution_count": 57,
   "id": "4134cbed-a5c3-4345-813f-abaa6cfc1a36",
   "metadata": {},
   "outputs": [],
   "source": [
    "my_string = \"Hello, world!\""
   ]
  },
  {
   "cell_type": "code",
   "execution_count": 58,
   "id": "4ba3b804-ba06-42fc-b431-371e89d72bbc",
   "metadata": {},
   "outputs": [
    {
     "data": {
      "text/plain": [
       "7"
      ]
     },
     "execution_count": 58,
     "metadata": {},
     "output_type": "execute_result"
    }
   ],
   "source": [
    "my_string.find(\"world\")"
   ]
  },
  {
   "cell_type": "code",
   "execution_count": 59,
   "id": "d30ed82b-73c5-4767-ba33-15f47f372761",
   "metadata": {},
   "outputs": [
    {
     "data": {
      "text/plain": [
       "2"
      ]
     },
     "execution_count": 59,
     "metadata": {},
     "output_type": "execute_result"
    }
   ],
   "source": [
    "my_string.find(\"l\")"
   ]
  },
  {
   "cell_type": "code",
   "execution_count": 60,
   "id": "8c2a46da-6276-4511-9de8-89f06077b6e0",
   "metadata": {},
   "outputs": [
    {
     "data": {
      "text/plain": [
       "10"
      ]
     },
     "execution_count": 60,
     "metadata": {},
     "output_type": "execute_result"
    }
   ],
   "source": [
    "my_string.find(\"l\", 5)"
   ]
  },
  {
   "cell_type": "code",
   "execution_count": 61,
   "id": "f99a5193-9ad2-4a0c-a11e-6eec2770405f",
   "metadata": {},
   "outputs": [
    {
     "data": {
      "text/plain": [
       "-1"
      ]
     },
     "execution_count": 61,
     "metadata": {},
     "output_type": "execute_result"
    }
   ],
   "source": [
    "my_string.find(\"z\")"
   ]
  },
  {
   "cell_type": "markdown",
   "id": "ab89008b-890e-4ab3-bdfb-93a5950d5cb0",
   "metadata": {},
   "source": [
    "### <span style=\"color:orange\">lower() & upper()</span>\n",
    "\n",
    "In Python, the `lower()` and `upper()` methods are used to manipulate the `case` of `characters` within a string.\n",
    "\n",
    "The `lower()` method converts all characters in a string to `lowercase`.\n",
    "\n",
    "The `upper()` method converts all characters in a string to `uppercase`.\n",
    "\n",
    "These methods return a `new` string.\n",
    "\n",
    "`Non-alphabetic` characters remain `unchanged`.\n",
    "\n",
    "These methods are useful for case-insensitive comparisons, formatting strings for consistent presentation and various text processing tasks."
   ]
  },
  {
   "cell_type": "code",
   "execution_count": 62,
   "id": "b22bebea-a5a5-47f2-be0b-8a6f828b2efc",
   "metadata": {},
   "outputs": [],
   "source": [
    "my_string = \"Hello, World!\""
   ]
  },
  {
   "cell_type": "code",
   "execution_count": 63,
   "id": "e1fab509-a1c2-4436-a0bd-0af1b87fa4c0",
   "metadata": {},
   "outputs": [
    {
     "data": {
      "text/plain": [
       "'hello, world!'"
      ]
     },
     "execution_count": 63,
     "metadata": {},
     "output_type": "execute_result"
    }
   ],
   "source": [
    "my_string.lower()"
   ]
  },
  {
   "cell_type": "code",
   "execution_count": 64,
   "id": "7a634a45-b0e5-4cca-992b-ee7363dbc791",
   "metadata": {},
   "outputs": [
    {
     "data": {
      "text/plain": [
       "'HELLO, WORLD!'"
      ]
     },
     "execution_count": 64,
     "metadata": {},
     "output_type": "execute_result"
    }
   ],
   "source": [
    "my_string.upper()"
   ]
  },
  {
   "cell_type": "markdown",
   "id": "47e78c09-055b-4aeb-8271-03ccf5753173",
   "metadata": {},
   "source": [
    "### <span style=\"color:orange\">startswith()</span>\n",
    "\n",
    "In Python, the `startswith()` method is used to check if a string `starts` with a specified `prefix`.\n",
    "\n",
    "`startswith()` method returns `True` if the string starts with the specified prefix, otherwise it returns `False`.\n",
    "\n",
    "Here's the syntax of the `startswith()` method :\n",
    "\n",
    "```python\n",
    "string.startswith(prefix, start, end)\n",
    "```\n",
    "\n",
    "- `string` : The string on which the method is called.\n",
    "\n",
    "- `prefix` : The prefix to check for at the beginning of the string.\n",
    "\n",
    "- `start` (optional - inclusive) : An optional integer specifying the start index within the string where the search will begin. If not provided, the search starts from the beginning of the string (index 0).\n",
    "\n",
    "- `end` (optional - exclusive) : An optional integer specifying the end index within the string where the search will end. If not provided, the search extends to the end of the string."
   ]
  },
  {
   "cell_type": "code",
   "execution_count": 65,
   "id": "a0d63779-06da-4ecf-8444-c660434518fc",
   "metadata": {},
   "outputs": [],
   "source": [
    "text = \"Hello, world!\""
   ]
  },
  {
   "cell_type": "code",
   "execution_count": 66,
   "id": "219d3a96-5d81-41ee-be6f-59321387af52",
   "metadata": {},
   "outputs": [
    {
     "data": {
      "text/plain": [
       "True"
      ]
     },
     "execution_count": 66,
     "metadata": {},
     "output_type": "execute_result"
    }
   ],
   "source": [
    "text.startswith(\"Hello\")"
   ]
  },
  {
   "cell_type": "code",
   "execution_count": 67,
   "id": "3b4bb72d-b567-4843-b504-2b0666c32ba3",
   "metadata": {},
   "outputs": [
    {
     "data": {
      "text/plain": [
       "False"
      ]
     },
     "execution_count": 67,
     "metadata": {},
     "output_type": "execute_result"
    }
   ],
   "source": [
    "text.startswith(\"World\")"
   ]
  },
  {
   "cell_type": "code",
   "execution_count": 68,
   "id": "9b4f4bdd-b8e8-48e3-b5ba-e8a4eb86461c",
   "metadata": {},
   "outputs": [
    {
     "data": {
      "text/plain": [
       "True"
      ]
     },
     "execution_count": 68,
     "metadata": {},
     "output_type": "execute_result"
    }
   ],
   "source": [
    "text.startswith(\"w\", 7)"
   ]
  },
  {
   "cell_type": "code",
   "execution_count": 69,
   "id": "d102478d-a433-43e6-9f5b-b5c8b369ff82",
   "metadata": {},
   "outputs": [
    {
     "data": {
      "text/plain": [
       "False"
      ]
     },
     "execution_count": 69,
     "metadata": {},
     "output_type": "execute_result"
    }
   ],
   "source": [
    "text.startswith(\"world\", 7, 11)"
   ]
  },
  {
   "cell_type": "code",
   "execution_count": 70,
   "id": "ead596f8-0ee6-48ce-84f8-fafb9490b4d1",
   "metadata": {},
   "outputs": [
    {
     "data": {
      "text/plain": [
       "True"
      ]
     },
     "execution_count": 70,
     "metadata": {},
     "output_type": "execute_result"
    }
   ],
   "source": [
    "text.startswith(\"world\", 7, 12)"
   ]
  },
  {
   "cell_type": "markdown",
   "id": "dbf8f468-dd2c-4427-b137-340937647f13",
   "metadata": {},
   "source": [
    "### <span style=\"color:orange\">**Problem:** </span>Replace Character in a String\n",
    "\n",
    "We have been given a string, Write a function to replace specified characters with the existing charcaters.\n",
    "\n",
    "```\n",
    "Sample Input : \"fsafsavxz\", \"s\", \"d\"\n",
    "Sample Output : \"fdafdavxz\"\n",
    "```\n",
    "\n",
    "* We will need to create a new string since we can't apply the changes to the string because it is immutable."
   ]
  },
  {
   "cell_type": "code",
   "execution_count": 71,
   "id": "f42cc68f-4133-430d-8c55-d75c10a2e5f1",
   "metadata": {},
   "outputs": [],
   "source": [
    "def replaceString(string, existing, specified):\n",
    "    new_string = \"\"\n",
    "    \n",
    "    for char in string:\n",
    "        if char == existing:\n",
    "            new_string += specified\n",
    "        else:\n",
    "            new_string += char\n",
    "    \n",
    "    return new_string"
   ]
  },
  {
   "cell_type": "code",
   "execution_count": 72,
   "id": "c404ee59-2e83-4ce8-bbe0-899a1f7b6548",
   "metadata": {},
   "outputs": [
    {
     "name": "stdout",
     "output_type": "stream",
     "text": [
      "fdafdavxz\n"
     ]
    }
   ],
   "source": [
    "string, existing, specified = \"fsafsavxz\", \"s\", \"d\"\n",
    "\n",
    "print(replaceString(string, existing, specified))"
   ]
  },
  {
   "cell_type": "markdown",
   "id": "fbd2694a-b448-4a76-9cdf-541d926de1a6",
   "metadata": {},
   "source": [
    "### <span style=\"color:orange\">**Problem:** </span>Count Vowels, Consonants, Digits & Specials in a String\n",
    "\n",
    "We have been given a string, Write a function to count number of vowels, consonants, digits and special characters available in the given string.\n",
    "\n",
    "Character will be available in any case.\n",
    "\n",
    "**Note** : Don't use dictionary or maps.\n",
    "\n",
    "```\n",
    "Sample Input : \"sfsaAFsawurioq2412141dasfd!@ afsa421\"\n",
    "Sample Output : 9, 14, 10, 3\n",
    "```"
   ]
  },
  {
   "cell_type": "code",
   "execution_count": 73,
   "id": "24bad074-a35e-4e95-877a-ad3167d22d2d",
   "metadata": {},
   "outputs": [],
   "source": [
    "def countInString(string):\n",
    "    vowels, consonants, digits, specials = 0, 0, 0, 0\n",
    "    \n",
    "    string = string.lower()\n",
    "    for char in string:\n",
    "        if char >= \"a\" and char <= \"z\":\n",
    "            if char in (\"a\", \"e\", \"i\", \"o\", \"u\"):\n",
    "                vowels += 1\n",
    "            else:\n",
    "                consonants += 1\n",
    "        elif char >= \"1\" and char <= \"9\":\n",
    "            digits += 1\n",
    "        else:\n",
    "            specials += 1\n",
    "    return vowels, consonants, digits, specials"
   ]
  },
  {
   "cell_type": "code",
   "execution_count": 74,
   "id": "a989779c-cbe5-448b-aee6-e1a08119b264",
   "metadata": {},
   "outputs": [
    {
     "name": "stdout",
     "output_type": "stream",
     "text": [
      "9 14 10 3\n"
     ]
    }
   ],
   "source": [
    "string = \"sfsaAFsawurioq2412141dasfd!@ afsa421\"\n",
    "\n",
    "vowels, consonants, digits, specials = countInString(string)\n",
    "\n",
    "print(vowels, consonants, digits, specials)"
   ]
  },
  {
   "cell_type": "markdown",
   "id": "1aa375cb-7017-4ada-8252-233c27cb7153",
   "metadata": {},
   "source": [
    "### <span style=\"color:orange\">ord() & chr()</span>\n",
    "\n",
    "In Python, the `ord()` function takes a `single character` (a string of length 1) as an argument and returns its `ASCII` value. It returns an integer representing the `Unicode` code point of the character.\n",
    "\n",
    "The `chr()` function takes an integer representing an `ASCII` value and returns the corresponding `character`. It returns a `string` of length 1 containing the character represented by the `ASCII` value.\n",
    "\n",
    "These functions are particularly useful when dealing with character manipulation, encoding, and decoding tasks."
   ]
  },
  {
   "cell_type": "code",
   "execution_count": 75,
   "id": "fed9b769-12c9-40ed-83ba-5aa8d00b88f4",
   "metadata": {},
   "outputs": [
    {
     "ename": "TypeError",
     "evalue": "ord() expected a character, but string of length 2 found",
     "output_type": "error",
     "traceback": [
      "\u001b[0;31m---------------------------------------------------------------------------\u001b[0m",
      "\u001b[0;31mTypeError\u001b[0m                                 Traceback (most recent call last)",
      "Input \u001b[0;32mIn [75]\u001b[0m, in \u001b[0;36m<cell line: 1>\u001b[0;34m()\u001b[0m\n\u001b[0;32m----> 1\u001b[0m \u001b[38;5;28;43mord\u001b[39;49m\u001b[43m(\u001b[49m\u001b[38;5;124;43m'\u001b[39;49m\u001b[38;5;124;43mab\u001b[39;49m\u001b[38;5;124;43m'\u001b[39;49m\u001b[43m)\u001b[49m\n",
      "\u001b[0;31mTypeError\u001b[0m: ord() expected a character, but string of length 2 found"
     ]
    }
   ],
   "source": [
    "ord('ab')"
   ]
  },
  {
   "cell_type": "code",
   "execution_count": 76,
   "id": "9eddfd34-283e-4b04-ae7d-162bda1ee0bc",
   "metadata": {},
   "outputs": [
    {
     "data": {
      "text/plain": [
       "65"
      ]
     },
     "execution_count": 76,
     "metadata": {},
     "output_type": "execute_result"
    }
   ],
   "source": [
    "ord('A')"
   ]
  },
  {
   "cell_type": "code",
   "execution_count": 77,
   "id": "e062708a-903e-4f79-b961-8e131012df83",
   "metadata": {},
   "outputs": [
    {
     "data": {
      "text/plain": [
       "90"
      ]
     },
     "execution_count": 77,
     "metadata": {},
     "output_type": "execute_result"
    }
   ],
   "source": [
    "ord('Z')"
   ]
  },
  {
   "cell_type": "code",
   "execution_count": 78,
   "id": "4f991cd6-d376-4bb6-b79f-1516fc26f4fb",
   "metadata": {},
   "outputs": [
    {
     "data": {
      "text/plain": [
       "97"
      ]
     },
     "execution_count": 78,
     "metadata": {},
     "output_type": "execute_result"
    }
   ],
   "source": [
    "ord('a')"
   ]
  },
  {
   "cell_type": "code",
   "execution_count": 79,
   "id": "6ae8095e-2644-4668-bfa4-ce1f59a4a07a",
   "metadata": {},
   "outputs": [
    {
     "data": {
      "text/plain": [
       "122"
      ]
     },
     "execution_count": 79,
     "metadata": {},
     "output_type": "execute_result"
    }
   ],
   "source": [
    "ord('z')"
   ]
  },
  {
   "cell_type": "code",
   "execution_count": 80,
   "id": "5f065825-c8ab-4841-89e5-267c7f6ddb7d",
   "metadata": {},
   "outputs": [
    {
     "data": {
      "text/plain": [
       "'A'"
      ]
     },
     "execution_count": 80,
     "metadata": {},
     "output_type": "execute_result"
    }
   ],
   "source": [
    "chr(65)"
   ]
  },
  {
   "cell_type": "code",
   "execution_count": 81,
   "id": "fd854658-fa38-4c05-bd59-7d850c3731c6",
   "metadata": {},
   "outputs": [
    {
     "data": {
      "text/plain": [
       "'a'"
      ]
     },
     "execution_count": 81,
     "metadata": {},
     "output_type": "execute_result"
    }
   ],
   "source": [
    "chr(97)"
   ]
  },
  {
   "cell_type": "markdown",
   "id": "6587e8b7-7f25-4972-a24c-293a40f592d4",
   "metadata": {},
   "source": [
    "### <span style=\"color:orange\">Application of ord() & chr()</span>\n",
    "\n",
    "We have been given a string, We need to find the frequency of all lowercase alphabets based on the given string.\n",
    "\n",
    "We also want those character having frequency as 0."
   ]
  },
  {
   "cell_type": "code",
   "execution_count": 82,
   "id": "7d1651cc-5ab7-48dd-a9b6-2e6102e78240",
   "metadata": {},
   "outputs": [
    {
     "name": "stdout",
     "output_type": "stream",
     "text": [
      "a \t 2\n",
      "b \t 2\n",
      "c \t 0\n",
      "d \t 0\n",
      "e \t 0\n",
      "f \t 4\n",
      "g \t 0\n",
      "h \t 1\n",
      "i \t 0\n",
      "j \t 1\n",
      "k \t 0\n",
      "l \t 0\n",
      "m \t 0\n",
      "n \t 0\n",
      "o \t 0\n",
      "p \t 0\n",
      "q \t 2\n",
      "r \t 1\n",
      "s \t 2\n",
      "t \t 1\n",
      "u \t 0\n",
      "v \t 0\n",
      "w \t 2\n",
      "x \t 0\n",
      "y \t 0\n",
      "z \t 0\n"
     ]
    }
   ],
   "source": [
    "string = \"fasfbsafwqjhbftrqw\"\n",
    "\n",
    "string = string.lower()\n",
    "\n",
    "frequency = [0]*(ord(\"z\")+1)\n",
    "    \n",
    "for char in string:\n",
    "    frequency[ord(char)] += 1\n",
    "\n",
    "for i in range(ord(\"a\"), ord(\"z\")+1):\n",
    "    print(chr(i), \"\\t\", frequency[i])"
   ]
  },
  {
   "cell_type": "markdown",
   "id": "9e2a2450-abab-461a-93aa-2f21e69cde65",
   "metadata": {},
   "source": [
    "### <span style=\"color:orange\">**Problem:** </span>Check Permutation\n",
    "\n",
    "For given two strings `str1` and `str2`, Check whether they are a permutation of each other or not.\n",
    "\n",
    "Two strings are said to be a permutation of each other when either of the string's characters can be rearranged so that it becomes identical to the other one.\n",
    "\n",
    "For Example, `sinrtg` and `string` are permutations to each other.\n",
    "\n",
    "**Note** : Don't use dictionary or maps.\n",
    "\n",
    "```\n",
    "Sample Input: \"abcde\" and \"baedc\"\n",
    "Sample Output: True\n",
    "```\n",
    "\n",
    "* Two strings are permutations of each other when both contains same length and same set of characters.\n",
    "\n",
    "* Initialize a list of size equal to ASCII value of `z + 1` with elements as `0`. Iterate first string and increase `1` the for occurance of each character, then iterate second string and decrease `1` for the occurance of each character, from the elements at indexes same as the ASCII value of that character. Then we will iterate through the ASCII values of alabhabet in the list created. Return false, if any element is non-zero."
   ]
  },
  {
   "cell_type": "code",
   "execution_count": 83,
   "id": "655e87ea-01a0-4477-b2d8-e468dc66167d",
   "metadata": {},
   "outputs": [],
   "source": [
    "def checkPermutation(str1, str2):\n",
    "    if len(str1) != len(str2):\n",
    "        return False\n",
    "    \n",
    "    frequency = [0]*(ord(\"z\") + 1)\n",
    "    \n",
    "    for char in str1:\n",
    "        frequency[ord(char)] += 1\n",
    "        \n",
    "    for char in str2:\n",
    "        frequency[ord(char)] -= 1\n",
    "            \n",
    "    for i in range(ord(\"a\"), ord(\"z\")+1):\n",
    "        if frequency[i] != 0:\n",
    "            return False\n",
    "        \n",
    "    return True"
   ]
  },
  {
   "cell_type": "code",
   "execution_count": 84,
   "id": "e0200dd7-b738-4215-bd4d-8e5814050af1",
   "metadata": {},
   "outputs": [
    {
     "name": "stdout",
     "output_type": "stream",
     "text": [
      "True\n"
     ]
    }
   ],
   "source": [
    "str1 = \"sinrtg\"\n",
    "str2 = \"string\"\n",
    "\n",
    "print(checkPermutation(str1, str2))"
   ]
  },
  {
   "cell_type": "code",
   "execution_count": 85,
   "id": "3cdc42f9-947a-48a3-92a0-e0b3929c9af6",
   "metadata": {},
   "outputs": [
    {
     "name": "stdout",
     "output_type": "stream",
     "text": [
      "False\n"
     ]
    }
   ],
   "source": [
    "str1 = \"abc\"\n",
    "str2 = \"cbd\"\n",
    "\n",
    "print(checkPermutation(str1, str2))"
   ]
  },
  {
   "cell_type": "code",
   "execution_count": 86,
   "id": "1247a6bb-49e7-47e3-9fa7-405872e8bc2e",
   "metadata": {},
   "outputs": [
    {
     "name": "stdout",
     "output_type": "stream",
     "text": [
      "False\n"
     ]
    }
   ],
   "source": [
    "str1 = \"aaaa\"\n",
    "str2 = \"aaa\"\n",
    "\n",
    "print(checkPermutation(str1, str2))"
   ]
  },
  {
   "cell_type": "markdown",
   "id": "eac2e13b-1f32-4e1e-b622-e1f5952f822b",
   "metadata": {},
   "source": [
    "### <span style=\"color:orange\">**Problem:** </span>Remove Consecutive Duplicates\n",
    "\n",
    "For a given string, remove all the consecutive duplicate characters.\n",
    "\n",
    "```\n",
    "Sample Input: \"aabbbcc\"\n",
    "Sample Output: \"abc\"\n",
    "```\n",
    "\n",
    "* Iterate through the string and Skip the index if the element at current index is same as element at last index."
   ]
  },
  {
   "cell_type": "code",
   "execution_count": 87,
   "id": "34440f60-af2a-4fa9-86ef-f2629f56bbf3",
   "metadata": {},
   "outputs": [],
   "source": [
    "def removeConsecutiveDuplicates(string):\n",
    "    if len(string) <= 1:\n",
    "        return string\n",
    "    \n",
    "    new_string = string[0]\n",
    "    \n",
    "    i = 1\n",
    "    while i < len(string):\n",
    "        if string[i] == string[i-1]:\n",
    "            i += 1\n",
    "        else:\n",
    "            new_string += string[i]\n",
    "            i += 1\n",
    "    \n",
    "    return new_string"
   ]
  },
  {
   "cell_type": "code",
   "execution_count": 88,
   "id": "c6016882-475d-4475-a96d-59226f3907b8",
   "metadata": {},
   "outputs": [
    {
     "name": "stdout",
     "output_type": "stream",
     "text": [
      "a\n"
     ]
    }
   ],
   "source": [
    "string = \"aaaa\"\n",
    "\n",
    "print(removeConsecutiveDuplicates(string))"
   ]
  },
  {
   "cell_type": "code",
   "execution_count": 89,
   "id": "d401796a-f0ab-4eab-a1e8-8b5dbf90000a",
   "metadata": {},
   "outputs": [
    {
     "name": "stdout",
     "output_type": "stream",
     "text": [
      "abc\n"
     ]
    }
   ],
   "source": [
    "string = \"aabbbcc\"\n",
    "\n",
    "print(removeConsecutiveDuplicates(string))"
   ]
  },
  {
   "cell_type": "markdown",
   "id": "c3a14513-d71c-4fa3-9b28-c4ffedb7e321",
   "metadata": {},
   "source": [
    "### <span style=\"color:orange\">**Problem:** </span>Reverse Each Word\n",
    "\n",
    "Given a sentence containing strings, Reverse each word of this sentence indivisualy.\n",
    "\n",
    "```\n",
    "Sample Input: \"Hello I am Aadil\"\n",
    "Sample Output: \"olleH I ma lidaA\"\n",
    "```\n",
    "\n",
    "* First split the sentence into list of words, then reverse each words and create a new string."
   ]
  },
  {
   "cell_type": "code",
   "execution_count": 90,
   "id": "16bb2f6a-c677-40d3-9524-ffc0603f5749",
   "metadata": {},
   "outputs": [],
   "source": [
    "def reverseEachWord(sentence):\n",
    "    sentence_list = sentence.split()\n",
    "    \n",
    "    new_string = \"\"\n",
    "    for i in range(len(sentence_list)):\n",
    "        for j in range(len(sentence_list[i])-1, -1, -1):\n",
    "            new_string += sentence_list[i][j]\n",
    "            \n",
    "        if i == len(sentence_list)-1:\n",
    "            return new_string\n",
    "        else:\n",
    "            new_string += \" \""
   ]
  },
  {
   "cell_type": "code",
   "execution_count": 91,
   "id": "98e09604-dc45-4424-bdb5-b4972c9b2be7",
   "metadata": {},
   "outputs": [
    {
     "name": "stdout",
     "output_type": "stream",
     "text": [
      "olleH I ma lidaA\n"
     ]
    }
   ],
   "source": [
    "sentence = \"Hello I am Aadil\"\n",
    "\n",
    "print(reverseEachWord(sentence))"
   ]
  },
  {
   "cell_type": "markdown",
   "id": "fbf21327-b95e-476e-a1a1-4b61c3d9cf3e",
   "metadata": {},
   "source": [
    "### <span style=\"color:orange\">**Problem:** </span>Remove Character\n",
    "\n",
    "For a given a string and a character `X`, write a function to remove all the occurrences of X from the given string.\n",
    "\n",
    "The input string will remain unchanged if the given character `X` doesn't exist in the input string.\n",
    "\n",
    "```\n",
    "Sample Input: \"aabccbaa\" and \"a\"\n",
    "Sample Output: \"bccb\"\n",
    "```\n",
    "\n",
    "* Iterate through the string and skip the given character and create a new string."
   ]
  },
  {
   "cell_type": "code",
   "execution_count": 92,
   "id": "ff5f7316-f4e3-4bc4-9bc0-dd6f2b757478",
   "metadata": {},
   "outputs": [],
   "source": [
    "def removeCharacter(string, X):\n",
    "    new_string = \"\"\n",
    "    \n",
    "    for char in string:\n",
    "        if char != X:\n",
    "            new_string += char\n",
    "    \n",
    "    return new_string"
   ]
  },
  {
   "cell_type": "code",
   "execution_count": 93,
   "id": "402f00e3-66ab-425c-8353-efaef5b28987",
   "metadata": {},
   "outputs": [
    {
     "name": "stdout",
     "output_type": "stream",
     "text": [
      "bccb\n"
     ]
    }
   ],
   "source": [
    "string = \"aabccbaa\"\n",
    "X = \"a\"\n",
    "\n",
    "print(removeCharacter(string, X))"
   ]
  },
  {
   "cell_type": "code",
   "execution_count": 94,
   "id": "051602fc-9f90-4bd4-92c3-075a542aa733",
   "metadata": {},
   "outputs": [
    {
     "name": "stdout",
     "output_type": "stream",
     "text": [
      "xxzxx\n"
     ]
    }
   ],
   "source": [
    "string = \"xxyyzxx\"\n",
    "X = \"y\"\n",
    "\n",
    "print(removeCharacter(string, X))"
   ]
  },
  {
   "cell_type": "markdown",
   "id": "aa52a397-b253-4d5c-bc2c-8eda5d24840c",
   "metadata": {},
   "source": [
    "### <span style=\"color:orange\">**Problem:** </span>Highest Ocuuring Character\n",
    "\n",
    "For a given a string, find and return the highest occurring character.\n",
    "\n",
    "If there are two characters in the input string with the same frequency, return the character which comes first.\n",
    "\n",
    "**Consider** : Assume all the characters in the given string to be in lowercase always. Don't use dictionary or maps.\n",
    "\n",
    "```\n",
    "Sample Input: \"abcdeapapqarr\"\n",
    "Sample Output: \"a\"\n",
    "```"
   ]
  },
  {
   "cell_type": "markdown",
   "id": "d2e7d1ce-c0b9-4c97-b5cf-2fa1058d01e4",
   "metadata": {},
   "source": [
    "#### <span style=\"color:blue\">Approach - 1</span>"
   ]
  },
  {
   "cell_type": "code",
   "execution_count": 95,
   "id": "34676b25-15d1-4aaa-8994-5bec01a3cbf2",
   "metadata": {},
   "outputs": [],
   "source": [
    "def highestOccuringCharacter(string):\n",
    "    frequency = [0]*(ord(\"z\") + 1)\n",
    "    \n",
    "    for char in string:\n",
    "        frequency[ord(char)] += 1\n",
    "    \n",
    "    highest_occuring_char = string[0]\n",
    "    highest_occurance = frequency[ord(highest_occuring_char)]\n",
    "    for char in string[1:]:\n",
    "        if frequency[ord(char)] > highest_occurance:\n",
    "            highest_occurance = frequency[ord(char)]\n",
    "            highest_occuring_char = char\n",
    "    \n",
    "    return highest_occuring_char"
   ]
  },
  {
   "cell_type": "code",
   "execution_count": 96,
   "id": "b6a0b02c-b769-42c2-9cd1-1985ab94d80c",
   "metadata": {},
   "outputs": [
    {
     "name": "stdout",
     "output_type": "stream",
     "text": [
      "a\n"
     ]
    }
   ],
   "source": [
    "string = \"abcdeapapqarr\"\n",
    "\n",
    "print(highestOccuringCharacter(string))"
   ]
  },
  {
   "cell_type": "code",
   "execution_count": 97,
   "id": "aa63be31-c4a3-4e85-9b8c-a1e6d793c889",
   "metadata": {},
   "outputs": [
    {
     "name": "stdout",
     "output_type": "stream",
     "text": [
      "x\n"
     ]
    }
   ],
   "source": [
    "string = \"xy\"\n",
    "\n",
    "print(highestOccuringCharacter(string))"
   ]
  },
  {
   "cell_type": "markdown",
   "id": "005d91c2-ee17-40b8-88de-0d120afa4dc4",
   "metadata": {},
   "source": [
    "#### <span style=\"color:blue\">Approach - 2 : Using List of size 26 Only</span>"
   ]
  },
  {
   "cell_type": "code",
   "execution_count": 98,
   "id": "733e96e1-67a8-43f3-a7dd-4b814b417e91",
   "metadata": {},
   "outputs": [],
   "source": [
    "def highestOccuringCharacter(string):\n",
    "    frequency = [0]*26\n",
    "    \n",
    "    for char in string:\n",
    "        frequency[ord(char)-ord(\"a\")] += 1\n",
    "    \n",
    "    highest_occuring_char = string[0]\n",
    "    highest_occurance = frequency[ord(highest_occuring_char)-ord(\"a\")]\n",
    "    for char in string[1:]:\n",
    "        if frequency[ord(char)-ord(\"a\")] > highest_occurance:\n",
    "            highest_occurance = frequency[ord(char)-ord(\"a\")]\n",
    "            highest_occuring_char = char\n",
    "    \n",
    "    return highest_occuring_char"
   ]
  },
  {
   "cell_type": "code",
   "execution_count": 99,
   "id": "0c0faf12-278a-49c9-8739-04f00c4bcf27",
   "metadata": {},
   "outputs": [
    {
     "name": "stdout",
     "output_type": "stream",
     "text": [
      "a\n"
     ]
    }
   ],
   "source": [
    "string = \"abcdeapapqarr\"\n",
    "\n",
    "print(highestOccuringCharacter(string))"
   ]
  },
  {
   "cell_type": "code",
   "execution_count": 100,
   "id": "78bd5bda-1ce5-4157-bfed-ce6d6bddfb18",
   "metadata": {},
   "outputs": [
    {
     "name": "stdout",
     "output_type": "stream",
     "text": [
      "x\n"
     ]
    }
   ],
   "source": [
    "string = \"xy\"\n",
    "\n",
    "print(highestOccuringCharacter(string))"
   ]
  },
  {
   "cell_type": "markdown",
   "id": "ad3eba1e-d049-48cb-9c0f-5c41f033a7c7",
   "metadata": {},
   "source": [
    "### <span style=\"color:orange\">**Problem:** </span>Compress the String\n",
    "\n",
    "Write a program to do basic string compression. For a character which is consecutively repeated more than once, replace consecutive duplicate occurrences with the count of repetitions.\n",
    "\n",
    "The string is compressed only when the repeated character count is more than 1.\n",
    "\n",
    "**Note** : Consecutive count of every character in the input string is less than or equal to 9.\n",
    "\n",
    "```\n",
    "Sample Input: \"aaabbccdsa\"\n",
    "Sample Output: \"a3b2c2dsa\"\n",
    "```"
   ]
  },
  {
   "cell_type": "code",
   "execution_count": 101,
   "id": "93fa5911-20f0-4bac-8754-acfb733e39f8",
   "metadata": {},
   "outputs": [],
   "source": [
    "def compressString(string):\n",
    "    new_string = string[0]\n",
    "    \n",
    "    i = 0\n",
    "    repetition = 1\n",
    "    while i < len(string)-1:\n",
    "        if string[i] == string[i+1]:\n",
    "            repetition += 1\n",
    "        else:\n",
    "            if repetition > 1:\n",
    "                new_string += str(repetition)\n",
    "            new_string += string[i+1]\n",
    "            repetition = 1\n",
    "        i += 1\n",
    "    \n",
    "    if repetition > 1:\n",
    "        new_string += str(repetition)\n",
    "    \n",
    "    return new_string"
   ]
  },
  {
   "cell_type": "code",
   "execution_count": 102,
   "id": "df0dbe0f-12cf-4f07-9753-0c5efe169e98",
   "metadata": {},
   "outputs": [
    {
     "name": "stdout",
     "output_type": "stream",
     "text": [
      "a3b2c2dsa\n"
     ]
    }
   ],
   "source": [
    "string = \"aaabbccdsa\"\n",
    "\n",
    "print(compressString(string))"
   ]
  },
  {
   "cell_type": "code",
   "execution_count": 103,
   "id": "deb87694-2b14-4653-a6b0-a5af9ae3317c",
   "metadata": {},
   "outputs": [
    {
     "name": "stdout",
     "output_type": "stream",
     "text": [
      "a3b2cd2e5\n"
     ]
    }
   ],
   "source": [
    "string = \"aaabbcddeeeee\"\n",
    "\n",
    "print(compressString(string))"
   ]
  }
 ],
 "metadata": {
  "kernelspec": {
   "display_name": "Python 3 (ipykernel)",
   "language": "python",
   "name": "python3"
  },
  "language_info": {
   "codemirror_mode": {
    "name": "ipython",
    "version": 3
   },
   "file_extension": ".py",
   "mimetype": "text/x-python",
   "name": "python",
   "nbconvert_exporter": "python",
   "pygments_lexer": "ipython3",
   "version": "3.9.12"
  }
 },
 "nbformat": 4,
 "nbformat_minor": 5
}

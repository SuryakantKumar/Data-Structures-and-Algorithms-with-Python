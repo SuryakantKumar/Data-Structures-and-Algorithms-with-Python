{
 "cells": [
  {
   "attachments": {
    "c9494563-7284-4c71-9fe4-40d31b4558ff.gif": {
     "image/gif": "[encoded data removed]"
    },
    "ecd1af6f-8660-4379-b68f-bad3ed6d67c8.gif": {
     "image/gif": "[encoded data removed]"
    }
   },
   "cell_type": "markdown",
   "id": "4a43ccae-d508-4944-89b8-6cbe7073a800",
   "metadata": {},
   "source": [
    "[![icons8-linkedin.gif](attachment:c9494563-7284-4c71-9fe4-40d31b4558ff.gif 'Author : Suryakant Kumar')](https://www.linkedin.com/in/suryakantkumar/)[![icons8-github.gif](attachment:ecd1af6f-8660-4379-b68f-bad3ed6d67c8.gif 'Author : Suryakant Kumar')](https://github.com/SuryakantKumar)"
   ]
  },
  {
   "cell_type": "markdown",
   "id": "67012ef6-bc51-4908-9b0e-c71f01ed13c2",
   "metadata": {},
   "source": [
    "# <span style=\"color:skyblue\">**Functions**</span>"
   ]
  },
  {
   "cell_type": "markdown",
   "id": "1043148b-0720-4300-9762-6b2e162e8f2f",
   "metadata": {},
   "source": [
    "### <span style=\"color:orange\">Problem :</span> Find nCr where n and r are given\n",
    "\n",
    "`nCr = (n!) / (r!) * (n-r)!` where n! = 1 * 2 * 3 * ....... * n"
   ]
  },
  {
   "cell_type": "code",
   "execution_count": 1,
   "id": "a04b708b-efe0-4b00-a376-499353d99f9e",
   "metadata": {},
   "outputs": [
    {
     "data": {
      "text/plain": [
       "6.0"
      ]
     },
     "execution_count": 1,
     "metadata": {},
     "output_type": "execute_result"
    }
   ],
   "source": [
    "n = 4\n",
    "r = 2\n",
    "\n",
    "n_fact = 1\n",
    "for i in range(1, n+1):\n",
    "    n_fact *= i\n",
    "    \n",
    "r_fact = 1\n",
    "for j in range(1, r+1):\n",
    "    r_fact *= j\n",
    "    \n",
    "n_minus_r_fact = 1\n",
    "for k in range(1, n-r+1):\n",
    "    n_minus_r_fact *= k\n",
    "    \n",
    "nCr = n_fact / (r_fact * n_minus_r_fact)\n",
    "\n",
    "nCr"
   ]
  },
  {
   "cell_type": "markdown",
   "id": "fe1693bb-02c1-4373-9a16-f63d49551526",
   "metadata": {},
   "source": [
    "In the previous program, We were repeating the same code for diffrent values. This is the major issue in this code.\n",
    "\n",
    "In Python, A `Function` is a block of `reusable` code designed to perform a specific task or a set of tasks. It allows us to break down a program into smaller, manageable parts, making the code more organized, readable, and maintainable.\n",
    "\n",
    "Function allows us to create a block of code which can be called from anywhere."
   ]
  },
  {
   "cell_type": "markdown",
   "id": "4c9fd352-a653-4d59-b79a-5f5cf59e97bc",
   "metadata": {},
   "source": [
    "### <span style=\"color:orange\">Introduction To Function</span> \n",
    "\n",
    "In Python, A `function` is a block of reusable code designed to perform a specific task or a set of tasks. It allows you to break down a program into smaller, manageable parts, making the code more organized, readable, and maintainable.\n",
    "\n",
    "Functions in Python follow a specific syntax:\n",
    "\n",
    "```python\n",
    "def function_name(parameters):\n",
    "    \"\"\"Docstring - Optional description of the function\"\"\"\n",
    "    # Function body\n",
    "    return result\n",
    "```\n",
    "\n",
    "Here's a breakdown of the components of a function:\n",
    "\n",
    "- **def**: It is a keyword used to define a function.\n",
    "\n",
    "- **function_name**: This is the name given to the function, which should follow Python's naming conventions. It's used to call the function later in the code.\n",
    "\n",
    "- **parameters**: These are optional values that can be passed to the function for it to work with. They act as placeholders for the input data that the function operates on.\n",
    "\n",
    "- **Docstring**: This is a description enclosed in triple quotes immediately after the function definition. It serves as documentation, explaining the purpose of the function.\n",
    "\n",
    "- **Function body**: This contains the actual code that the function executes when called. It consists of the statements and logic necessary to accomplish the desired task.\n",
    "\n",
    "- **return statement**: It is optional and used to return a value from the function. If used, it passes the result or output of the function back to the code that called the function.\n",
    "\n",
    "Example of a simple function that gives Factorial of a Number :"
   ]
  },
  {
   "cell_type": "code",
   "execution_count": 2,
   "id": "a46fba8b-124a-4c9c-a816-e8e0510a123c",
   "metadata": {},
   "outputs": [],
   "source": [
    "def factorial(n):\n",
    "    n_fact = 1\n",
    "    for i in range(1, n+1):\n",
    "        n_fact *= i\n",
    "    return n_fact"
   ]
  },
  {
   "cell_type": "markdown",
   "id": "a97c13cf-4970-4ba7-9adb-5c56b20f2403",
   "metadata": {},
   "source": [
    "* Functions can be called (invoked) later in the code by using their names along with the necessary arguments."
   ]
  },
  {
   "cell_type": "code",
   "execution_count": 3,
   "id": "2edec160-c950-4bd6-b1f7-a377edec42d8",
   "metadata": {},
   "outputs": [
    {
     "data": {
      "text/plain": [
       "120"
      ]
     },
     "execution_count": 3,
     "metadata": {},
     "output_type": "execute_result"
    }
   ],
   "source": [
    "fact_5 = factorial(5)\n",
    "\n",
    "fact_5"
   ]
  },
  {
   "cell_type": "code",
   "execution_count": 4,
   "id": "3988aebe-98eb-46d0-ad4a-19d17cd5e422",
   "metadata": {},
   "outputs": [
    {
     "data": {
      "text/plain": [
       "6.0"
      ]
     },
     "execution_count": 4,
     "metadata": {},
     "output_type": "execute_result"
    }
   ],
   "source": [
    "# nCr using Function\n",
    "\n",
    "n = 4\n",
    "r = 2\n",
    "\n",
    "n_fact = factorial(n)\n",
    "r_fact = factorial(r)\n",
    "n_minus_r_fact = factorial(n-r)\n",
    "\n",
    "nCr = n_fact / (r_fact * n_minus_r_fact)\n",
    "\n",
    "nCr"
   ]
  },
  {
   "cell_type": "markdown",
   "id": "628732cb-548e-4194-9bf5-e7f790110c23",
   "metadata": {},
   "source": [
    "### <span style=\"color:orange\">Problem :</span> Function to check if a number is prime or not ?"
   ]
  },
  {
   "cell_type": "code",
   "execution_count": 5,
   "id": "259df3f2-1348-4b1b-aa30-c3574c0c31dc",
   "metadata": {},
   "outputs": [],
   "source": [
    "def isPrime(n):\n",
    "    for i in range(2, n):\n",
    "        if n%i == 0:\n",
    "            return False\n",
    "    else:\n",
    "        return True"
   ]
  },
  {
   "cell_type": "code",
   "execution_count": 6,
   "id": "4689aef6-b45d-48cc-bef5-c9ce02e94286",
   "metadata": {},
   "outputs": [
    {
     "data": {
      "text/plain": [
       "False"
      ]
     },
     "execution_count": 6,
     "metadata": {},
     "output_type": "execute_result"
    }
   ],
   "source": [
    "isPrime(10)"
   ]
  },
  {
   "cell_type": "code",
   "execution_count": 7,
   "id": "19fd597a-7579-4d8c-94d9-a320b312756a",
   "metadata": {},
   "outputs": [
    {
     "data": {
      "text/plain": [
       "True"
      ]
     },
     "execution_count": 7,
     "metadata": {},
     "output_type": "execute_result"
    }
   ],
   "source": [
    "isPrime(2)"
   ]
  },
  {
   "cell_type": "markdown",
   "id": "1830c074-93df-4fb6-80c3-4d6871cf9f22",
   "metadata": {},
   "source": [
    "### <span style=\"color:orange\">Problem :</span> Function to find all the prime numbers from 2 to n ?"
   ]
  },
  {
   "cell_type": "code",
   "execution_count": 8,
   "id": "0815f439-12d7-4212-9ee2-5fc158b8629b",
   "metadata": {},
   "outputs": [],
   "source": [
    "def allPrimes(n):\n",
    "    for i in range(2, n+1):\n",
    "        is_prime = isPrime(i)\n",
    "        if is_prime:\n",
    "            print(i)"
   ]
  },
  {
   "cell_type": "code",
   "execution_count": 9,
   "id": "ba9cba34-53f6-4c6e-ac7f-fecb83d7c45b",
   "metadata": {},
   "outputs": [
    {
     "name": "stdout",
     "output_type": "stream",
     "text": [
      "2\n",
      "3\n",
      "5\n",
      "7\n"
     ]
    }
   ],
   "source": [
    "allPrimes(10)"
   ]
  },
  {
   "cell_type": "code",
   "execution_count": 10,
   "id": "079fe690-39ed-433f-9069-0094421a90ee",
   "metadata": {},
   "outputs": [
    {
     "name": "stdout",
     "output_type": "stream",
     "text": [
      "2\n",
      "3\n",
      "5\n",
      "7\n",
      "11\n",
      "13\n",
      "17\n",
      "19\n"
     ]
    }
   ],
   "source": [
    "allPrimes(20)"
   ]
  },
  {
   "cell_type": "markdown",
   "id": "c3f4d8b2-94d9-46d0-ae12-b73e862a5dc9",
   "metadata": {},
   "source": [
    "* Diffrence between `returning` a value and `printing` a value is : We can reuse the returned value at other place but, not the printed one."
   ]
  },
  {
   "cell_type": "markdown",
   "id": "76111935-ca9a-48ec-bc6c-189255ff573a",
   "metadata": {},
   "source": [
    "### <span style=\"color:orange\">Problem :</span> Function to find nCr ?"
   ]
  },
  {
   "cell_type": "code",
   "execution_count": 11,
   "id": "edf67b4e-5554-4a26-add2-262bcf7b513a",
   "metadata": {},
   "outputs": [],
   "source": [
    "def nCr(n, r):\n",
    "    n_fact = factorial(n)\n",
    "    r_fact = factorial(r)\n",
    "    n_minus_r_fact = factorial(n-r)\n",
    "\n",
    "    return n_fact / (r_fact * n_minus_r_fact)"
   ]
  },
  {
   "cell_type": "code",
   "execution_count": 12,
   "id": "d6fe4476-a1f3-48ca-afd6-ecd6d1e4d1ab",
   "metadata": {},
   "outputs": [
    {
     "data": {
      "text/plain": [
       "6.0"
      ]
     },
     "execution_count": 12,
     "metadata": {},
     "output_type": "execute_result"
    }
   ],
   "source": [
    "nCr(4, 2)"
   ]
  },
  {
   "cell_type": "code",
   "execution_count": 13,
   "id": "6c0904c9-aec0-4c9e-babf-81a8fcd40557",
   "metadata": {},
   "outputs": [
    {
     "data": {
      "text/plain": [
       "210.0"
      ]
     },
     "execution_count": 13,
     "metadata": {},
     "output_type": "execute_result"
    }
   ],
   "source": [
    "nCr(10, 6)"
   ]
  },
  {
   "cell_type": "markdown",
   "id": "5f3a7672-ba68-4122-a725-a357c75a51f4",
   "metadata": {},
   "source": [
    "### <span style=\"color:orange\">How does Function calling works ?</span> "
   ]
  },
  {
   "cell_type": "code",
   "execution_count": 14,
   "id": "fda0034e-e324-421e-930a-4dbb6acc9df7",
   "metadata": {},
   "outputs": [
    {
     "name": "stdout",
     "output_type": "stream",
     "text": [
      "AS\n",
      "BS\n",
      "CS\n",
      "CE\n",
      "BE\n",
      "AE\n"
     ]
    }
   ],
   "source": [
    "def A():\n",
    "    print('AS')\n",
    "    B()\n",
    "    print('AE')\n",
    "    \n",
    "def B():\n",
    "    print('BS')\n",
    "    C()\n",
    "    print('BE')\n",
    "\n",
    "def C():\n",
    "    print('CS')\n",
    "    print('CE')\n",
    "    \n",
    "A()"
   ]
  },
  {
   "cell_type": "markdown",
   "id": "92d56d04-4cbe-48b2-a92c-09108e8a4604",
   "metadata": {},
   "source": [
    "* In function `A()`, `AE` will not get printed untill function `B()` executes or In function `B()`, `BE` will not get printed untill function `C()` executes.\n",
    "\n",
    "* Function is called in a way `First in Last Out`. So, We can call it as `Call Stack`.\n",
    "\n",
    "* We store all the local data that we have, till the function uses it."
   ]
  },
  {
   "cell_type": "markdown",
   "id": "a264647e-eaa6-47a1-b284-2749c9ae7128",
   "metadata": {},
   "source": [
    "### <span style=\"color:orange\">Scope of Variable</span> "
   ]
  },
  {
   "cell_type": "markdown",
   "id": "2ffb000b-2025-4ed6-8bcb-e1b811b10768",
   "metadata": {},
   "source": [
    "When We define a variable, It is not necessary that we can use it anywhere But, There is always some scope associated with the variable.\n",
    "\n",
    "In Python, The `Scope` of a variable refers to the `region` or part of the code where the variable is `accessible`.\n",
    "\n",
    "The scope determines where the variable can be used, whether it's within a specific function, a block of code, or globally throughout the entire program.\n",
    "\n",
    "Python has different variable scopes : `Local` , `Global` & `Non-Local` Scope."
   ]
  },
  {
   "cell_type": "markdown",
   "id": "3996580d-47e8-42e3-a180-b44c3d2cf4e3",
   "metadata": {},
   "source": [
    "#### <span style=\"color:blue\">1. Local Scope</span>\n",
    "\n",
    "Variables defined within a function have a local scope.\n",
    "\n",
    "They are only accessible within that function.\n",
    "\n",
    "Once the function finishes execution, the local variables are destroyed, and they cannot be accessed from outside the function."
   ]
  },
  {
   "cell_type": "code",
   "execution_count": 15,
   "id": "485ee3c3-3c24-47cd-a8b6-5ffacb992970",
   "metadata": {},
   "outputs": [
    {
     "name": "stdout",
     "output_type": "stream",
     "text": [
      "10 is accessible inside the function\n"
     ]
    },
    {
     "ename": "NameError",
     "evalue": "name 'x' is not defined",
     "output_type": "error",
     "traceback": [
      "\u001b[0;31m---------------------------------------------------------------------------\u001b[0m",
      "\u001b[0;31mNameError\u001b[0m                                 Traceback (most recent call last)",
      "Input \u001b[0;32mIn [15]\u001b[0m, in \u001b[0;36m<cell line: 6>\u001b[0;34m()\u001b[0m\n\u001b[1;32m      3\u001b[0m     \u001b[38;5;28mprint\u001b[39m(x, \u001b[38;5;124m'\u001b[39m\u001b[38;5;124mis accessible inside the function\u001b[39m\u001b[38;5;124m'\u001b[39m)\n\u001b[1;32m      5\u001b[0m my_function()\n\u001b[0;32m----> 6\u001b[0m \u001b[38;5;28mprint\u001b[39m(\u001b[43mx\u001b[49m, \u001b[38;5;124m'\u001b[39m\u001b[38;5;124mis not accessible outside the function\u001b[39m\u001b[38;5;124m'\u001b[39m)\n",
      "\u001b[0;31mNameError\u001b[0m: name 'x' is not defined"
     ]
    }
   ],
   "source": [
    "def my_function():\n",
    "    x = 10\n",
    "    print(x, 'is accessible inside the function')\n",
    "\n",
    "my_function()\n",
    "print(x, 'is not accessible outside the function')"
   ]
  },
  {
   "cell_type": "markdown",
   "id": "a2e6d32a-1a05-4948-8202-b64a7f17e290",
   "metadata": {},
   "source": [
    "* We can not print local variable without calling the function in which It has been defined."
   ]
  },
  {
   "cell_type": "markdown",
   "id": "07455686-7cf4-42cb-ac15-931218e3b32e",
   "metadata": {},
   "source": [
    "#### <span style=\"color:blue\">2. Global Scope</span>\n",
    "\n",
    "Variables declared outside of any function or in the global scope are accessible from anywhere within the program, including inside functions."
   ]
  },
  {
   "cell_type": "code",
   "execution_count": 16,
   "id": "7412b5c4-0652-4cc6-9dfd-c46ed7718f40",
   "metadata": {},
   "outputs": [
    {
     "name": "stdout",
     "output_type": "stream",
     "text": [
      "30 can be accessible since it's a global defined variable\n"
     ]
    }
   ],
   "source": [
    "z = 30\n",
    "\n",
    "def another_function():\n",
    "    print(z, \"can be accessible since it's a global defined variable\")\n",
    "\n",
    "another_function()"
   ]
  },
  {
   "cell_type": "markdown",
   "id": "b59f4e69-7b86-4ae8-855b-d2370ae891e9",
   "metadata": {},
   "source": [
    "#### <span style=\"color:blue\">3. Enclosing / Non-Local Scope</span>\n",
    "\n",
    "If a function is defined within another function, Variables from the outer function are accessible within the inner function."
   ]
  },
  {
   "cell_type": "code",
   "execution_count": 17,
   "id": "71273422-0ac9-411f-966a-b3e9dc265b71",
   "metadata": {},
   "outputs": [
    {
     "name": "stdout",
     "output_type": "stream",
     "text": [
      "20 is accessible here since it is in the enclosing scope\n"
     ]
    }
   ],
   "source": [
    "def outer_function():\n",
    "    y = 20\n",
    "\n",
    "    def inner_function():\n",
    "        print(y, 'is accessible here since it is in the enclosing scope')\n",
    "\n",
    "    inner_function()\n",
    "\n",
    "outer_function()"
   ]
  },
  {
   "cell_type": "markdown",
   "id": "afe0ef19-c66e-4ad1-bb21-0c72d8ac345d",
   "metadata": {},
   "source": [
    "* However, If we want to modify a `global` variable within a function, We need to use the `global` keyword to explicitly declare that we're working with the global variable."
   ]
  },
  {
   "cell_type": "code",
   "execution_count": 18,
   "id": "8cf2bfc3-b760-47c4-b08d-0cd041c37120",
   "metadata": {},
   "outputs": [
    {
     "name": "stdout",
     "output_type": "stream",
     "text": [
      "60\n"
     ]
    }
   ],
   "source": [
    "global_var = 50\n",
    "\n",
    "def modify_global():\n",
    "    global global_var\n",
    "    global_var += 10  # Modifying the global variable\n",
    "\n",
    "modify_global()\n",
    "print(global_var)"
   ]
  },
  {
   "cell_type": "markdown",
   "id": "580d0315-5cc7-4244-b240-8354eb01aa3d",
   "metadata": {},
   "source": [
    "* A function can contain a variable which is `global`, which is used in the function and defined after the function. But, It should be defined befor the function call."
   ]
  },
  {
   "cell_type": "code",
   "execution_count": 19,
   "id": "9e91e503-2ff8-4fde-b0b9-179d1c300079",
   "metadata": {},
   "outputs": [
    {
     "name": "stdout",
     "output_type": "stream",
     "text": [
      "10 is in local scope\n",
      "20 is in global scope\n"
     ]
    }
   ],
   "source": [
    "def func():\n",
    "    local_var = 10\n",
    "    print(local_var, 'is in local scope')\n",
    "    print(global_var, 'is in global scope')\n",
    "    \n",
    "global_var = 20\n",
    "func()"
   ]
  },
  {
   "cell_type": "code",
   "execution_count": 20,
   "id": "9cd717b5-80e7-47b9-a307-b5a52e3cae3d",
   "metadata": {},
   "outputs": [
    {
     "name": "stdout",
     "output_type": "stream",
     "text": [
      "10 is in local scope\n"
     ]
    },
    {
     "ename": "NameError",
     "evalue": "name 'global_var_2' is not defined",
     "output_type": "error",
     "traceback": [
      "\u001b[0;31m---------------------------------------------------------------------------\u001b[0m",
      "\u001b[0;31mNameError\u001b[0m                                 Traceback (most recent call last)",
      "Input \u001b[0;32mIn [20]\u001b[0m, in \u001b[0;36m<cell line: 6>\u001b[0;34m()\u001b[0m\n\u001b[1;32m      3\u001b[0m     \u001b[38;5;28mprint\u001b[39m(local_var_2, \u001b[38;5;124m'\u001b[39m\u001b[38;5;124mis in local scope\u001b[39m\u001b[38;5;124m'\u001b[39m)\n\u001b[1;32m      4\u001b[0m     \u001b[38;5;28mprint\u001b[39m(global_var_2, \u001b[38;5;124m'\u001b[39m\u001b[38;5;124mis in global scope but defined after the function call\u001b[39m\u001b[38;5;124m'\u001b[39m)\n\u001b[0;32m----> 6\u001b[0m \u001b[43mfunc_2\u001b[49m\u001b[43m(\u001b[49m\u001b[43m)\u001b[49m\n\u001b[1;32m      7\u001b[0m global_var_2 \u001b[38;5;241m=\u001b[39m \u001b[38;5;241m20\u001b[39m\n",
      "Input \u001b[0;32mIn [20]\u001b[0m, in \u001b[0;36mfunc_2\u001b[0;34m()\u001b[0m\n\u001b[1;32m      2\u001b[0m local_var_2 \u001b[38;5;241m=\u001b[39m \u001b[38;5;241m10\u001b[39m\n\u001b[1;32m      3\u001b[0m \u001b[38;5;28mprint\u001b[39m(local_var_2, \u001b[38;5;124m'\u001b[39m\u001b[38;5;124mis in local scope\u001b[39m\u001b[38;5;124m'\u001b[39m)\n\u001b[0;32m----> 4\u001b[0m \u001b[38;5;28mprint\u001b[39m(\u001b[43mglobal_var_2\u001b[49m, \u001b[38;5;124m'\u001b[39m\u001b[38;5;124mis in global scope but defined after the function call\u001b[39m\u001b[38;5;124m'\u001b[39m)\n",
      "\u001b[0;31mNameError\u001b[0m: name 'global_var_2' is not defined"
     ]
    }
   ],
   "source": [
    "def func_2():\n",
    "    local_var_2 = 10\n",
    "    print(local_var_2, 'is in local scope')\n",
    "    print(global_var_2, 'is in global scope but defined after the function call')\n",
    "    \n",
    "func_2()\n",
    "global_var_2 = 20"
   ]
  },
  {
   "cell_type": "markdown",
   "id": "3024a6d6-082a-4871-a552-1b1d9d67902c",
   "metadata": {},
   "source": [
    "* We can check whether the variables are different or not, by using `id()` method."
   ]
  },
  {
   "cell_type": "code",
   "execution_count": 21,
   "id": "fb1513df-371c-4710-a9d9-277c35dbd648",
   "metadata": {},
   "outputs": [
    {
     "name": "stdout",
     "output_type": "stream",
     "text": [
      "10 is in global scope\n",
      "15 is in local scope\n",
      "140474992171760\n",
      "10 is in global scope still after the function call because, function call can't change the global variable simply\n",
      "140474992171600\n"
     ]
    }
   ],
   "source": [
    "x = 10\n",
    "\n",
    "def func_3():\n",
    "    x = 15\n",
    "    print(x, 'is in local scope')\n",
    "    print(id(x))\n",
    "    \n",
    "print(x, 'is in global scope')\n",
    "func_3()\n",
    "print(x, \"is in global scope still after the function call because, function call can't change the global variable simply\")\n",
    "print(id(x))"
   ]
  },
  {
   "cell_type": "code",
   "execution_count": 22,
   "id": "9086273f-6a30-4dfa-a2a9-a28f29a72d2a",
   "metadata": {},
   "outputs": [
    {
     "name": "stdout",
     "output_type": "stream",
     "text": [
      "10 is in global scope\n",
      "15 is in global scope after function call because of global keyword\n",
      "140474992171760\n",
      "15 is in global scope because of function call\n",
      "140474992171760\n"
     ]
    }
   ],
   "source": [
    "y = 10\n",
    "\n",
    "def func_4():\n",
    "    global y\n",
    "    y = 15\n",
    "    print(y, 'is in global scope after function call because of global keyword')\n",
    "    print(id(y))\n",
    "    \n",
    "print(y, 'is in global scope')\n",
    "func_4()\n",
    "print(y, \"is in global scope because of function call\")\n",
    "print(id(y))"
   ]
  },
  {
   "cell_type": "markdown",
   "id": "23bce713-e0ba-459c-bb9c-efa16ce7fe5d",
   "metadata": {},
   "source": [
    "* It's generally good practice to limit the use of `global` variables. It's recommended to use function `parameters` and `return values` to manage data within functions."
   ]
  },
  {
   "cell_type": "code",
   "execution_count": 23,
   "id": "3df20903-8ef9-4961-818b-db011a8609a6",
   "metadata": {},
   "outputs": [
    {
     "data": {
      "text/plain": [
       "18"
      ]
     },
     "execution_count": 23,
     "metadata": {},
     "output_type": "execute_result"
    }
   ],
   "source": [
    "def f():\n",
    "    z = 18\n",
    "    return z\n",
    "\n",
    "result = f()\n",
    "result"
   ]
  },
  {
   "cell_type": "markdown",
   "id": "783b6e93-46c1-4edc-aee8-12debbfbeb16",
   "metadata": {},
   "source": [
    "### <span style=\"color:orange\">Default Parameter in Function</span> "
   ]
  },
  {
   "cell_type": "code",
   "execution_count": 24,
   "id": "6536bff4-4874-4856-99b2-3c15cb5402ab",
   "metadata": {},
   "outputs": [
    {
     "ename": "TypeError",
     "evalue": "f() takes 1 positional argument but 2 were given",
     "output_type": "error",
     "traceback": [
      "\u001b[0;31m---------------------------------------------------------------------------\u001b[0m",
      "\u001b[0;31mTypeError\u001b[0m                                 Traceback (most recent call last)",
      "Input \u001b[0;32mIn [24]\u001b[0m, in \u001b[0;36m<cell line: 4>\u001b[0;34m()\u001b[0m\n\u001b[1;32m      1\u001b[0m \u001b[38;5;28;01mdef\u001b[39;00m \u001b[38;5;21mf\u001b[39m(n):\n\u001b[1;32m      2\u001b[0m     \u001b[38;5;28mprint\u001b[39m(n)\n\u001b[0;32m----> 4\u001b[0m \u001b[43mf\u001b[49m\u001b[43m(\u001b[49m\u001b[38;5;241;43m10\u001b[39;49m\u001b[43m,\u001b[49m\u001b[43m \u001b[49m\u001b[38;5;241;43m20\u001b[39;49m\u001b[43m)\u001b[49m\n",
      "\u001b[0;31mTypeError\u001b[0m: f() takes 1 positional argument but 2 were given"
     ]
    }
   ],
   "source": [
    "def f(n):\n",
    "    print(n)\n",
    "    \n",
    "f(10, 20)"
   ]
  },
  {
   "cell_type": "markdown",
   "id": "5b6bfcd9-c7b4-4fab-add9-a77a5c0cf6fc",
   "metadata": {},
   "source": [
    "* But there are some function which accepts `1` as well as `2` arguments."
   ]
  },
  {
   "cell_type": "code",
   "execution_count": 25,
   "id": "010a7e23-c350-43e9-8011-8ad3468bd501",
   "metadata": {},
   "outputs": [
    {
     "name": "stdout",
     "output_type": "stream",
     "text": [
      "abc\n"
     ]
    }
   ],
   "source": [
    "print(\"abc\")"
   ]
  },
  {
   "cell_type": "code",
   "execution_count": 26,
   "id": "2f88082d-bb61-40f2-88e5-f5c1f93836ca",
   "metadata": {},
   "outputs": [
    {
     "name": "stdout",
     "output_type": "stream",
     "text": [
      "abc_"
     ]
    }
   ],
   "source": [
    "print(\"abc\", end=\"_\")"
   ]
  },
  {
   "cell_type": "markdown",
   "id": "8736b1c6-6561-4a09-9c23-43e070a5966f",
   "metadata": {},
   "source": [
    "* So this happens because, Python allows `default` parameters."
   ]
  },
  {
   "cell_type": "code",
   "execution_count": 27,
   "id": "cfa32057-a523-4af2-b7fc-571897731e5f",
   "metadata": {},
   "outputs": [],
   "source": [
    "def sum(a, b, c=0):\n",
    "    return a + b + c"
   ]
  },
  {
   "cell_type": "markdown",
   "id": "1ec1f0dc-c6e7-40b4-b2f9-c5f5d09166dc",
   "metadata": {},
   "source": [
    "* Here `c` is default parameter. It means, If we provide only `2` parameters then python will take `c = 0` as default parameter. But If we provide the third parameter also then, It will use that."
   ]
  },
  {
   "cell_type": "code",
   "execution_count": 28,
   "id": "7677edce-ca34-449e-970e-7349e091ebbb",
   "metadata": {},
   "outputs": [
    {
     "data": {
      "text/plain": [
       "30"
      ]
     },
     "execution_count": 28,
     "metadata": {},
     "output_type": "execute_result"
    }
   ],
   "source": [
    "sum(10, 20)"
   ]
  },
  {
   "cell_type": "code",
   "execution_count": 29,
   "id": "4725de1a-38db-49b7-a0df-08aedf7ce83f",
   "metadata": {},
   "outputs": [
    {
     "data": {
      "text/plain": [
       "60"
      ]
     },
     "execution_count": 29,
     "metadata": {},
     "output_type": "execute_result"
    }
   ],
   "source": [
    "sum(10, 20, 30)"
   ]
  },
  {
   "cell_type": "markdown",
   "id": "1bfcf365-9d63-497e-a9b8-248f213a219b",
   "metadata": {},
   "source": [
    "* `Non-default` argument can not follow a default argument But, `Default` argument should follow `Non-default` arguments."
   ]
  },
  {
   "cell_type": "code",
   "execution_count": 30,
   "id": "f64fee16-562d-492b-b9f7-f12c05b8901c",
   "metadata": {},
   "outputs": [
    {
     "ename": "SyntaxError",
     "evalue": "non-default argument follows default argument (2106155235.py, line 1)",
     "output_type": "error",
     "traceback": [
      "\u001b[0;36m  Input \u001b[0;32mIn [30]\u001b[0;36m\u001b[0m\n\u001b[0;31m    def sum(a=0, b, c):\u001b[0m\n\u001b[0m                    ^\u001b[0m\n\u001b[0;31mSyntaxError\u001b[0m\u001b[0;31m:\u001b[0m non-default argument follows default argument\n"
     ]
    }
   ],
   "source": [
    "def sum(a=0, b, c):\n",
    "    return a + b + c"
   ]
  },
  {
   "cell_type": "markdown",
   "id": "d5a847dd-c288-47ae-8e0d-4fe22791a889",
   "metadata": {},
   "source": [
    "* We can have multiple `default` parameters but, These will come after all the `non-default` parameters."
   ]
  },
  {
   "cell_type": "code",
   "execution_count": 31,
   "id": "1ac398b0-6352-4ed8-8880-16c7e6006389",
   "metadata": {},
   "outputs": [],
   "source": [
    "def sum(a, b, c=0, d=10):\n",
    "    return a + b + c + d"
   ]
  },
  {
   "cell_type": "code",
   "execution_count": 32,
   "id": "6128abc9-ec01-47b7-a1ff-26fe8922ed39",
   "metadata": {},
   "outputs": [
    {
     "data": {
      "text/plain": [
       "50"
      ]
     },
     "execution_count": 32,
     "metadata": {},
     "output_type": "execute_result"
    }
   ],
   "source": [
    "sum(5, 10, 15, 20)"
   ]
  },
  {
   "cell_type": "code",
   "execution_count": 33,
   "id": "678b9357-34b5-4484-abd4-4e1e41918265",
   "metadata": {},
   "outputs": [
    {
     "data": {
      "text/plain": [
       "25"
      ]
     },
     "execution_count": 33,
     "metadata": {},
     "output_type": "execute_result"
    }
   ],
   "source": [
    "sum(5, 10)"
   ]
  },
  {
   "cell_type": "code",
   "execution_count": 34,
   "id": "607c54c9-5444-4f2b-87f4-1e637b5a1fff",
   "metadata": {},
   "outputs": [
    {
     "data": {
      "text/plain": [
       "40"
      ]
     },
     "execution_count": 34,
     "metadata": {},
     "output_type": "execute_result"
    }
   ],
   "source": [
    "sum(5, 10, 15)"
   ]
  },
  {
   "cell_type": "markdown",
   "id": "12a3675d-46df-4507-be0c-52e8f0f563d9",
   "metadata": {},
   "source": [
    "* Order of default parameters matter."
   ]
  },
  {
   "cell_type": "markdown",
   "id": "2aae36ff-f506-4a5f-bce7-e77ac14b572d",
   "metadata": {},
   "source": [
    "* We have option to mention the argument value by specifically mentioning that, which argument should take it."
   ]
  },
  {
   "cell_type": "code",
   "execution_count": 35,
   "id": "b18e226c-82ac-4b05-8c0b-1e7956e1947e",
   "metadata": {},
   "outputs": [
    {
     "data": {
      "text/plain": [
       "30"
      ]
     },
     "execution_count": 35,
     "metadata": {},
     "output_type": "execute_result"
    }
   ],
   "source": [
    "sum(5, 10, d=15)"
   ]
  },
  {
   "cell_type": "code",
   "execution_count": 36,
   "id": "78a48dad-a876-4c7e-9c94-31b50970a266",
   "metadata": {},
   "outputs": [
    {
     "data": {
      "text/plain": [
       "50"
      ]
     },
     "execution_count": 36,
     "metadata": {},
     "output_type": "execute_result"
    }
   ],
   "source": [
    "sum(5, 10, d=15, c=20)"
   ]
  },
  {
   "cell_type": "markdown",
   "id": "7efada97-b05f-4980-912f-cbf40383a127",
   "metadata": {},
   "source": [
    "* If we are giving argument value for all parameters specifically then order doesn't matter."
   ]
  },
  {
   "cell_type": "code",
   "execution_count": 37,
   "id": "affc50ad-9d55-47e4-a035-012dc14ab192",
   "metadata": {},
   "outputs": [
    {
     "data": {
      "text/plain": [
       "50"
      ]
     },
     "execution_count": 37,
     "metadata": {},
     "output_type": "execute_result"
    }
   ],
   "source": [
    "sum(b=5, a=10, d=15, c=20)"
   ]
  },
  {
   "cell_type": "markdown",
   "id": "238602f1-6906-4e31-8d38-6db555bd7e2f",
   "metadata": {},
   "source": [
    "### <span style=\"color:orange\">Problem :</span> Fahrenheit to Celcius\n",
    "\n",
    "Given three values - Start fahrenheit value `s`, End fahrenheit value `e` and Step size (w). We need to convert all the fahrenheit values from start till end at the gap of `w` into their corresponding celcius value and print the table."
   ]
  },
  {
   "cell_type": "code",
   "execution_count": 38,
   "id": "f151531f-565b-4ae1-aa3e-dffe03398f4b",
   "metadata": {},
   "outputs": [],
   "source": [
    "def f2c(s, e, w):\n",
    "    for f in range(s, e+1, w):\n",
    "        c = int((f-32)*5/9)\n",
    "        print(f, '\\t', c)"
   ]
  },
  {
   "cell_type": "code",
   "execution_count": 39,
   "id": "1091533c-0704-45c8-ba41-3c1f97789a08",
   "metadata": {},
   "outputs": [
    {
     "name": "stdout",
     "output_type": "stream",
     "text": [
      "0 \t -17\n",
      "20 \t -6\n",
      "40 \t 4\n",
      "60 \t 15\n",
      "80 \t 26\n",
      "100 \t 37\n"
     ]
    }
   ],
   "source": [
    "s = 0\n",
    "e = 100\n",
    "w = 20\n",
    "\n",
    "f2c(s, e, w)"
   ]
  },
  {
   "cell_type": "markdown",
   "id": "d71ca47d-2eb9-488f-9746-9867e50993e0",
   "metadata": {},
   "source": [
    "### <span style=\"color:orange\">Problem :</span> Fibonacci Member\n",
    "\n",
    "Given an umber `N`, Figure out if it is a member of fibonacci series or not. Return True, if the number id member of fibonacci series else False.\n",
    "\n",
    "Fibonacci series is defined by the recurrence : `F(n) = F(n-1) + F(n-2)`"
   ]
  },
  {
   "cell_type": "code",
   "execution_count": 40,
   "id": "15dde452-07c9-40c1-aa6e-8764049cabce",
   "metadata": {},
   "outputs": [],
   "source": [
    "def fibonacci(n):\n",
    "    n1 = 0\n",
    "    n2 = 1\n",
    "    \n",
    "    n3 = 0\n",
    "    while n3 < n:\n",
    "        n3 = n1 + n2\n",
    "        n1 = n2\n",
    "        n2 = n3\n",
    "    if n3 == n:\n",
    "        print(True)\n",
    "    else:\n",
    "        print(False)"
   ]
  },
  {
   "cell_type": "code",
   "execution_count": 41,
   "id": "1a15bb5e-abad-4f40-a5c5-e9b8d9f2e477",
   "metadata": {},
   "outputs": [
    {
     "name": "stdout",
     "output_type": "stream",
     "text": [
      "True\n"
     ]
    }
   ],
   "source": [
    "n = 5\n",
    "\n",
    "fibonacci(n)"
   ]
  },
  {
   "cell_type": "code",
   "execution_count": 42,
   "id": "26239610-dcbd-4e76-afeb-1994d68f4492",
   "metadata": {},
   "outputs": [
    {
     "name": "stdout",
     "output_type": "stream",
     "text": [
      "False\n"
     ]
    }
   ],
   "source": [
    "n = 6\n",
    "\n",
    "fibonacci(n)"
   ]
  },
  {
   "cell_type": "markdown",
   "id": "796349ad-2f9f-4bae-ac33-c566375988e6",
   "metadata": {},
   "source": [
    "### <span style=\"color:orange\">Problem :</span> Palindrome Number\n",
    "\n",
    "Write a program to determine if given number is a palindrome or not.\n",
    "\n",
    "palindrome are the numbers for which reverse of the number is exactly same as the origional number. For Example: 1221"
   ]
  },
  {
   "cell_type": "code",
   "execution_count": 43,
   "id": "37c684d4-bee1-4f1b-b44c-e5f06f96b9b0",
   "metadata": {},
   "outputs": [],
   "source": [
    "def palindrome(n):\n",
    "    origional = n\n",
    "    \n",
    "    reverse = 0\n",
    "    while n != 0:\n",
    "        ls = n//10\n",
    "        ms = n%10\n",
    "        n = ls\n",
    "        reverse = reverse*10 + ms\n",
    "    \n",
    "    if origional == reverse:\n",
    "        print(True)\n",
    "    else:\n",
    "        print(False)"
   ]
  },
  {
   "cell_type": "code",
   "execution_count": 44,
   "id": "a14f91bf-b43e-4f54-b75f-3372e30b10c7",
   "metadata": {},
   "outputs": [
    {
     "name": "stdout",
     "output_type": "stream",
     "text": [
      "True\n"
     ]
    }
   ],
   "source": [
    "n = 1221\n",
    "\n",
    "palindrome(n)"
   ]
  },
  {
   "cell_type": "code",
   "execution_count": 45,
   "id": "8f3f8235-5a9a-49c6-8484-5dee70f74889",
   "metadata": {},
   "outputs": [
    {
     "name": "stdout",
     "output_type": "stream",
     "text": [
      "True\n"
     ]
    }
   ],
   "source": [
    "n = 12121\n",
    "\n",
    "palindrome(n)"
   ]
  },
  {
   "cell_type": "code",
   "execution_count": 46,
   "id": "49be8577-3aa6-487c-847e-a572078fca8c",
   "metadata": {},
   "outputs": [
    {
     "name": "stdout",
     "output_type": "stream",
     "text": [
      "False\n"
     ]
    }
   ],
   "source": [
    "n = 1234\n",
    "\n",
    "palindrome(n)"
   ]
  },
  {
   "cell_type": "markdown",
   "id": "c73a8fda-64ba-4502-a868-26ca747ddf1c",
   "metadata": {},
   "source": [
    "### <span style=\"color:orange\">Problem :</span> Check Armstrong Number\n",
    "\n",
    "Write a program to determine if the given number is armstrong or not.\n",
    "\n",
    "Armstrong number is a number (with digits `n`) such that the `sum` of it's `digits` raised to `n'th` power is equal to the number itself.\n",
    "\n",
    "For Example: `371 = 3^3 + 7^3 + 1^3` and `1634 = 1^4 + 6^4 + 3^4 + 4^4`"
   ]
  },
  {
   "cell_type": "code",
   "execution_count": 47,
   "id": "b8f9c448-3df0-42d6-96ae-f56bb60c8828",
   "metadata": {},
   "outputs": [],
   "source": [
    "def armstrong(n):\n",
    "    origional = n\n",
    "    digits = len(str(origional))\n",
    "    \n",
    "    power_number = 0\n",
    "    while n != 0:\n",
    "        ls = n//10\n",
    "        ms = n%10\n",
    "        n = ls\n",
    "        power_number += ms**digits\n",
    "    \n",
    "    if origional == power_number:\n",
    "        print(True)\n",
    "    else:\n",
    "        print(False)"
   ]
  },
  {
   "cell_type": "code",
   "execution_count": 48,
   "id": "01d51469-3567-4c52-8d9d-1a436d507754",
   "metadata": {},
   "outputs": [
    {
     "name": "stdout",
     "output_type": "stream",
     "text": [
      "True\n"
     ]
    }
   ],
   "source": [
    "armstrong(371)"
   ]
  },
  {
   "cell_type": "code",
   "execution_count": 49,
   "id": "7d3dc3e3-0171-49bd-8ad9-690d8c551feb",
   "metadata": {},
   "outputs": [
    {
     "name": "stdout",
     "output_type": "stream",
     "text": [
      "True\n"
     ]
    }
   ],
   "source": [
    "armstrong(1634)"
   ]
  },
  {
   "cell_type": "code",
   "execution_count": 50,
   "id": "e73cc044-c49a-4535-baff-73cda4e8ba42",
   "metadata": {},
   "outputs": [
    {
     "name": "stdout",
     "output_type": "stream",
     "text": [
      "False\n"
     ]
    }
   ],
   "source": [
    "armstrong(1221)"
   ]
  }
 ],
 "metadata": {
  "kernelspec": {
   "display_name": "Python 3 (ipykernel)",
   "language": "python",
   "name": "python3"
  },
  "language_info": {
   "codemirror_mode": {
    "name": "ipython",
    "version": 3
   },
   "file_extension": ".py",
   "mimetype": "text/x-python",
   "name": "python",
   "nbconvert_exporter": "python",
   "pygments_lexer": "ipython3",
   "version": "3.9.12"
  }
 },
 "nbformat": 4,
 "nbformat_minor": 5
}
